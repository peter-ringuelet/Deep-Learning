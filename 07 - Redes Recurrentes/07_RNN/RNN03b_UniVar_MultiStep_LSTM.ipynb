{
 "cells": [
  {
   "cell_type": "code",
   "execution_count": 1,
   "metadata": {},
   "outputs": [],
   "source": [
    "ColabNotebook = 'google.colab' in str(get_ipython())\n",
    "\n",
    "if ColabNotebook:\n",
    "    # monta G-drive en entorno COLAB\n",
    "    from google.colab import drive\n",
    "    drive.mount('/content/drive/')\n",
    "\n",
    "    DATOS_DIR = '/content/drive/MyDrive/Colab Notebooks/DATOS/'      # carpeta donde se encuentran los datasets\n",
    "else:\n",
    "    DATOS_DIR   = './' # carpeta donde se encuentran los datasets"
   ]
  },
  {
   "cell_type": "code",
   "execution_count": 2,
   "metadata": {
    "colab": {
     "base_uri": "https://localhost:8080/"
    },
    "executionInfo": {
     "elapsed": 32524,
     "status": "ok",
     "timestamp": 1697582579131,
     "user": {
      "displayName": "Laura Lanzarini",
      "userId": "09081598862758330982"
     },
     "user_tz": 180
    },
    "id": "cs6TOPhMCLQH",
    "outputId": "74d2a7a5-63d8-449b-c5db-86e71821b9bd"
   },
   "outputs": [],
   "source": [
    "import pandas as pd\n",
    "import matplotlib.pyplot as plt\n",
    "import numpy as np\n"
   ]
  },
  {
   "cell_type": "code",
   "execution_count": 3,
   "metadata": {
    "colab": {
     "base_uri": "https://localhost:8080/",
     "height": 632
    },
    "executionInfo": {
     "elapsed": 978,
     "status": "ok",
     "timestamp": 1697582580095,
     "user": {
      "displayName": "Laura Lanzarini",
      "userId": "09081598862758330982"
     },
     "user_tz": 180
    },
    "id": "M147g8enDCMF",
    "outputId": "980a785d-33b7-4ee2-f4e4-f519083afb63"
   },
   "outputs": [
    {
     "data": {
      "text/html": [
       "<div>\n",
       "<style scoped>\n",
       "    .dataframe tbody tr th:only-of-type {\n",
       "        vertical-align: middle;\n",
       "    }\n",
       "\n",
       "    .dataframe tbody tr th {\n",
       "        vertical-align: top;\n",
       "    }\n",
       "\n",
       "    .dataframe thead th {\n",
       "        text-align: right;\n",
       "    }\n",
       "</style>\n",
       "<table border=\"1\" class=\"dataframe\">\n",
       "  <thead>\n",
       "    <tr style=\"text-align: right;\">\n",
       "      <th></th>\n",
       "      <th>datetime</th>\n",
       "      <th>p (mbar)</th>\n",
       "      <th>T (degC)</th>\n",
       "      <th>Tpot (K)</th>\n",
       "      <th>Tdew (degC)</th>\n",
       "      <th>rh (%)</th>\n",
       "      <th>VPmax (mbar)</th>\n",
       "      <th>VPact (mbar)</th>\n",
       "      <th>VPdef (mbar)</th>\n",
       "      <th>sh (g/kg)</th>\n",
       "      <th>H2OC (mmol/mol)</th>\n",
       "      <th>rho (g/m**3)</th>\n",
       "      <th>wv (m/s)</th>\n",
       "      <th>max. wv (m/s)</th>\n",
       "      <th>wd (deg)</th>\n",
       "    </tr>\n",
       "  </thead>\n",
       "  <tbody>\n",
       "    <tr>\n",
       "      <th>0</th>\n",
       "      <td>2009-01-01 01:00:00</td>\n",
       "      <td>996.50</td>\n",
       "      <td>-8.05</td>\n",
       "      <td>265.38</td>\n",
       "      <td>-8.78</td>\n",
       "      <td>94.40</td>\n",
       "      <td>3.33</td>\n",
       "      <td>3.14</td>\n",
       "      <td>0.19</td>\n",
       "      <td>1.96</td>\n",
       "      <td>3.15</td>\n",
       "      <td>1307.86</td>\n",
       "      <td>0.21</td>\n",
       "      <td>0.63</td>\n",
       "      <td>192.7</td>\n",
       "    </tr>\n",
       "    <tr>\n",
       "      <th>1</th>\n",
       "      <td>2009-01-01 02:00:00</td>\n",
       "      <td>996.62</td>\n",
       "      <td>-8.88</td>\n",
       "      <td>264.54</td>\n",
       "      <td>-9.77</td>\n",
       "      <td>93.20</td>\n",
       "      <td>3.12</td>\n",
       "      <td>2.90</td>\n",
       "      <td>0.21</td>\n",
       "      <td>1.81</td>\n",
       "      <td>2.91</td>\n",
       "      <td>1312.25</td>\n",
       "      <td>0.25</td>\n",
       "      <td>0.63</td>\n",
       "      <td>190.3</td>\n",
       "    </tr>\n",
       "    <tr>\n",
       "      <th>2</th>\n",
       "      <td>2009-01-01 03:00:00</td>\n",
       "      <td>996.84</td>\n",
       "      <td>-8.81</td>\n",
       "      <td>264.59</td>\n",
       "      <td>-9.66</td>\n",
       "      <td>93.50</td>\n",
       "      <td>3.13</td>\n",
       "      <td>2.93</td>\n",
       "      <td>0.20</td>\n",
       "      <td>1.83</td>\n",
       "      <td>2.94</td>\n",
       "      <td>1312.18</td>\n",
       "      <td>0.18</td>\n",
       "      <td>0.63</td>\n",
       "      <td>167.2</td>\n",
       "    </tr>\n",
       "    <tr>\n",
       "      <th>3</th>\n",
       "      <td>2009-01-01 04:00:00</td>\n",
       "      <td>996.99</td>\n",
       "      <td>-9.05</td>\n",
       "      <td>264.34</td>\n",
       "      <td>-10.02</td>\n",
       "      <td>92.60</td>\n",
       "      <td>3.07</td>\n",
       "      <td>2.85</td>\n",
       "      <td>0.23</td>\n",
       "      <td>1.78</td>\n",
       "      <td>2.85</td>\n",
       "      <td>1313.61</td>\n",
       "      <td>0.10</td>\n",
       "      <td>0.38</td>\n",
       "      <td>240.0</td>\n",
       "    </tr>\n",
       "    <tr>\n",
       "      <th>4</th>\n",
       "      <td>2009-01-01 05:00:00</td>\n",
       "      <td>997.46</td>\n",
       "      <td>-9.63</td>\n",
       "      <td>263.72</td>\n",
       "      <td>-10.65</td>\n",
       "      <td>92.20</td>\n",
       "      <td>2.94</td>\n",
       "      <td>2.71</td>\n",
       "      <td>0.23</td>\n",
       "      <td>1.69</td>\n",
       "      <td>2.71</td>\n",
       "      <td>1317.19</td>\n",
       "      <td>0.40</td>\n",
       "      <td>0.88</td>\n",
       "      <td>157.0</td>\n",
       "    </tr>\n",
       "    <tr>\n",
       "      <th>...</th>\n",
       "      <td>...</td>\n",
       "      <td>...</td>\n",
       "      <td>...</td>\n",
       "      <td>...</td>\n",
       "      <td>...</td>\n",
       "      <td>...</td>\n",
       "      <td>...</td>\n",
       "      <td>...</td>\n",
       "      <td>...</td>\n",
       "      <td>...</td>\n",
       "      <td>...</td>\n",
       "      <td>...</td>\n",
       "      <td>...</td>\n",
       "      <td>...</td>\n",
       "      <td>...</td>\n",
       "    </tr>\n",
       "    <tr>\n",
       "      <th>50219</th>\n",
       "      <td>2014-09-24 12:00:00</td>\n",
       "      <td>987.01</td>\n",
       "      <td>13.69</td>\n",
       "      <td>287.92</td>\n",
       "      <td>6.29</td>\n",
       "      <td>60.85</td>\n",
       "      <td>15.69</td>\n",
       "      <td>9.55</td>\n",
       "      <td>6.14</td>\n",
       "      <td>6.04</td>\n",
       "      <td>9.67</td>\n",
       "      <td>1194.28</td>\n",
       "      <td>2.92</td>\n",
       "      <td>4.00</td>\n",
       "      <td>174.1</td>\n",
       "    </tr>\n",
       "    <tr>\n",
       "      <th>50220</th>\n",
       "      <td>2014-09-24 13:00:00</td>\n",
       "      <td>986.55</td>\n",
       "      <td>14.19</td>\n",
       "      <td>288.47</td>\n",
       "      <td>6.80</td>\n",
       "      <td>61.01</td>\n",
       "      <td>16.21</td>\n",
       "      <td>9.89</td>\n",
       "      <td>6.32</td>\n",
       "      <td>6.26</td>\n",
       "      <td>10.02</td>\n",
       "      <td>1191.48</td>\n",
       "      <td>1.57</td>\n",
       "      <td>2.48</td>\n",
       "      <td>173.0</td>\n",
       "    </tr>\n",
       "    <tr>\n",
       "      <th>50221</th>\n",
       "      <td>2014-09-24 14:00:00</td>\n",
       "      <td>986.21</td>\n",
       "      <td>14.99</td>\n",
       "      <td>289.30</td>\n",
       "      <td>6.70</td>\n",
       "      <td>57.54</td>\n",
       "      <td>17.07</td>\n",
       "      <td>9.82</td>\n",
       "      <td>7.25</td>\n",
       "      <td>6.22</td>\n",
       "      <td>9.96</td>\n",
       "      <td>1187.80</td>\n",
       "      <td>2.79</td>\n",
       "      <td>4.75</td>\n",
       "      <td>202.5</td>\n",
       "    </tr>\n",
       "    <tr>\n",
       "      <th>50222</th>\n",
       "      <td>2014-09-24 15:00:00</td>\n",
       "      <td>984.76</td>\n",
       "      <td>15.20</td>\n",
       "      <td>289.63</td>\n",
       "      <td>6.96</td>\n",
       "      <td>57.79</td>\n",
       "      <td>17.30</td>\n",
       "      <td>10.00</td>\n",
       "      <td>7.30</td>\n",
       "      <td>6.34</td>\n",
       "      <td>10.15</td>\n",
       "      <td>1185.10</td>\n",
       "      <td>2.86</td>\n",
       "      <td>4.32</td>\n",
       "      <td>172.0</td>\n",
       "    </tr>\n",
       "    <tr>\n",
       "      <th>50223</th>\n",
       "      <td>2014-09-24 16:00:00</td>\n",
       "      <td>984.61</td>\n",
       "      <td>14.40</td>\n",
       "      <td>288.84</td>\n",
       "      <td>7.00</td>\n",
       "      <td>61.03</td>\n",
       "      <td>16.43</td>\n",
       "      <td>10.03</td>\n",
       "      <td>6.40</td>\n",
       "      <td>6.36</td>\n",
       "      <td>10.18</td>\n",
       "      <td>1188.20</td>\n",
       "      <td>1.71</td>\n",
       "      <td>2.44</td>\n",
       "      <td>195.1</td>\n",
       "    </tr>\n",
       "  </tbody>\n",
       "</table>\n",
       "<p>50224 rows × 15 columns</p>\n",
       "</div>"
      ],
      "text/plain": [
       "                  datetime  p (mbar)  T (degC)  Tpot (K)  Tdew (degC)  rh (%)  \\\n",
       "0      2009-01-01 01:00:00    996.50     -8.05    265.38        -8.78   94.40   \n",
       "1      2009-01-01 02:00:00    996.62     -8.88    264.54        -9.77   93.20   \n",
       "2      2009-01-01 03:00:00    996.84     -8.81    264.59        -9.66   93.50   \n",
       "3      2009-01-01 04:00:00    996.99     -9.05    264.34       -10.02   92.60   \n",
       "4      2009-01-01 05:00:00    997.46     -9.63    263.72       -10.65   92.20   \n",
       "...                    ...       ...       ...       ...          ...     ...   \n",
       "50219  2014-09-24 12:00:00    987.01     13.69    287.92         6.29   60.85   \n",
       "50220  2014-09-24 13:00:00    986.55     14.19    288.47         6.80   61.01   \n",
       "50221  2014-09-24 14:00:00    986.21     14.99    289.30         6.70   57.54   \n",
       "50222  2014-09-24 15:00:00    984.76     15.20    289.63         6.96   57.79   \n",
       "50223  2014-09-24 16:00:00    984.61     14.40    288.84         7.00   61.03   \n",
       "\n",
       "       VPmax (mbar)  VPact (mbar)  VPdef (mbar)  sh (g/kg)  H2OC (mmol/mol)  \\\n",
       "0              3.33          3.14          0.19       1.96             3.15   \n",
       "1              3.12          2.90          0.21       1.81             2.91   \n",
       "2              3.13          2.93          0.20       1.83             2.94   \n",
       "3              3.07          2.85          0.23       1.78             2.85   \n",
       "4              2.94          2.71          0.23       1.69             2.71   \n",
       "...             ...           ...           ...        ...              ...   \n",
       "50219         15.69          9.55          6.14       6.04             9.67   \n",
       "50220         16.21          9.89          6.32       6.26            10.02   \n",
       "50221         17.07          9.82          7.25       6.22             9.96   \n",
       "50222         17.30         10.00          7.30       6.34            10.15   \n",
       "50223         16.43         10.03          6.40       6.36            10.18   \n",
       "\n",
       "       rho (g/m**3)  wv (m/s)  max. wv (m/s)  wd (deg)  \n",
       "0           1307.86      0.21           0.63     192.7  \n",
       "1           1312.25      0.25           0.63     190.3  \n",
       "2           1312.18      0.18           0.63     167.2  \n",
       "3           1313.61      0.10           0.38     240.0  \n",
       "4           1317.19      0.40           0.88     157.0  \n",
       "...             ...       ...            ...       ...  \n",
       "50219       1194.28      2.92           4.00     174.1  \n",
       "50220       1191.48      1.57           2.48     173.0  \n",
       "50221       1187.80      2.79           4.75     202.5  \n",
       "50222       1185.10      2.86           4.32     172.0  \n",
       "50223       1188.20      1.71           2.44     195.1  \n",
       "\n",
       "[50224 rows x 15 columns]"
      ]
     },
     "execution_count": 3,
     "metadata": {},
     "output_type": "execute_result"
    }
   ],
   "source": [
    "# Leer set de datos\n",
    "df = pd.read_csv(DATOS_DIR+'weather_dataset_preprocesado.csv')\n",
    "df"
   ]
  },
  {
   "cell_type": "code",
   "execution_count": 4,
   "metadata": {
    "colab": {
     "base_uri": "https://localhost:8080/"
    },
    "executionInfo": {
     "elapsed": 33,
     "status": "ok",
     "timestamp": 1697582580097,
     "user": {
      "displayName": "Laura Lanzarini",
      "userId": "09081598862758330982"
     },
     "user_tz": 180
    },
    "id": "eb9UpY_mE43m",
    "outputId": "a7d649cb-90de-4b44-a578-65feeff65196"
   },
   "outputs": [
    {
     "name": "stdout",
     "output_type": "stream",
     "text": [
      "Tamaño set de entrenamiento: (40179,)\n",
      "Tamaño set de validación: (5022,)\n",
      "Tamaño set de prueba: (5023,)\n"
     ]
    }
   ],
   "source": [
    "# Función para generar las particiones preservando las características\n",
    "# de la serie de tiempo\n",
    "\n",
    "def train_val_test_split(serie, tr_size=0.8, vl_size=0.1, ts_size=0.1 ):\n",
    "    # Definir número de datos en cada subserie\n",
    "    N = serie.shape[0]\n",
    "    Ntrain = int(tr_size*N)  # Número de datos de entrenamiento\n",
    "    Nval = int(vl_size*N)    # Número de datos de validación\n",
    "    Ntst = N - Ntrain - Nval # Número de datos de prueba\n",
    "\n",
    "    # Realizar partición\n",
    "    train = serie[0:Ntrain]\n",
    "    val = serie[Ntrain:Ntrain+Nval]\n",
    "    test = serie[Ntrain+Nval:]\n",
    "\n",
    "    return train, val, test\n",
    "\n",
    "# Prueba de la función\n",
    "tr, vl, ts = train_val_test_split(df['T (degC)'])\n",
    "\n",
    "print(f'Tamaño set de entrenamiento: {tr.shape}')\n",
    "print(f'Tamaño set de validación: {vl.shape}')\n",
    "print(f'Tamaño set de prueba: {ts.shape}')"
   ]
  },
  {
   "cell_type": "code",
   "execution_count": 5,
   "metadata": {
    "colab": {
     "base_uri": "https://localhost:8080/",
     "height": 402
    },
    "executionInfo": {
     "elapsed": 1174,
     "status": "ok",
     "timestamp": 1697582581251,
     "user": {
      "displayName": "Laura Lanzarini",
      "userId": "09081598862758330982"
     },
     "user_tz": 180
    },
    "id": "3WUY-5DAFBtZ",
    "outputId": "06b5708f-8afc-4bee-84c5-859ed0301b8a"
   },
   "outputs": [
    {
     "data": {
      "image/png": "[encoded data removed]",
      "text/plain": [
       "<Figure size 1600x500 with 1 Axes>"
      ]
     },
     "metadata": {},
     "output_type": "display_data"
    }
   ],
   "source": [
    "# Dibujemos los subsets\n",
    "fig, ax = plt.subplots(figsize = (16,5))\n",
    "ax.plot(tr, label='Train')\n",
    "ax.plot(vl, label='Val')\n",
    "ax.plot(ts, label='Test')\n",
    "plt.legend();"
   ]
  },
  {
   "cell_type": "code",
   "execution_count": 6,
   "metadata": {
    "id": "3twfJkYzEiwG"
   },
   "outputs": [],
   "source": [
    "def crear_dataset_supervisado(array, input_length, output_length):\n",
    "    '''Permite crear un dataset con las entradas (X) y salidas (Y)\n",
    "    requeridas por la Red SimpleRNN.\n",
    "\n",
    "    Parámetros:\n",
    "    - array: arreglo numpy de tamaño N x features (N: cantidad de datos,\n",
    "      f: cantidad de features)\n",
    "    - input_length: instantes de tiempo consecutivos de la(s) serie(s) de tiempo\n",
    "      usados para alimentar el modelo\n",
    "    - output_length: instantes de tiempo a pronosticar (salida del modelo)\n",
    "    '''\n",
    "\n",
    "    # Inicialización\n",
    "    X, Y = [], []    # Listados que contendrán los datos de entrada y salida del modelo\n",
    "    shape = array.shape\n",
    "    if len(shape)==1: # Si tenemos sólo una serie (univariado)\n",
    "        fils, cols = array.shape[0], 1\n",
    "        array = array.reshape(fils,cols)\n",
    "    else: # Multivariado\n",
    "        fils, cols = array.shape\n",
    "\n",
    "    # Generar los arreglos\n",
    "    for i in range(fils-input_length-output_length):\n",
    "        X.append(array[i:i+INPUT_LENGTH,0:cols])\n",
    "        Y.append(array[i+input_length:i+input_length+output_length,-1].reshape(output_length,1))\n",
    "\n",
    "    # Convertir listas a arreglos de NumPy\n",
    "    X = np.array(X)\n",
    "    Y = np.array(Y)\n",
    "\n",
    "    return X, Y"
   ]
  },
  {
   "cell_type": "code",
   "execution_count": 7,
   "metadata": {
    "colab": {
     "base_uri": "https://localhost:8080/"
    },
    "executionInfo": {
     "elapsed": 33,
     "status": "ok",
     "timestamp": 1697582581257,
     "user": {
      "displayName": "Laura Lanzarini",
      "userId": "09081598862758330982"
     },
     "user_tz": 180
    },
    "id": "n0Wes8X0Eotu",
    "outputId": "f4280b38-8ccf-4e3a-89e5-1231d120ebef"
   },
   "outputs": [
    {
     "name": "stdout",
     "output_type": "stream",
     "text": [
      "Tamaños entrada (BATCHES x INPUT_LENGTH x FEATURES) y de salida (BATCHES x OUTPUT_LENGTH x FEATURES)\n",
      "Set de entrenamiento - x_tr: (40151, 24, 1), y_tr: (40151, 4, 1)\n",
      "Set de validación - x_vl: (4994, 24, 1), y_vl: (4994, 4, 1)\n",
      "Set de prueba - x_ts: (4995, 24, 1), y_ts: (4995, 4, 1)\n"
     ]
    }
   ],
   "source": [
    "# Crear los datasets de entrenamiento, prueba y validación y verificar sus tamaños\n",
    "INPUT_LENGTH = 24    # Posteriormente afinaremos este hiperparámetro\n",
    "OUTPUT_LENGTH = 4    # Modelo uni-step\n",
    "\n",
    "x_tr, y_tr = crear_dataset_supervisado(tr.values, INPUT_LENGTH, OUTPUT_LENGTH)\n",
    "x_vl, y_vl = crear_dataset_supervisado(vl.values, INPUT_LENGTH, OUTPUT_LENGTH)\n",
    "x_ts, y_ts = crear_dataset_supervisado(ts.values, INPUT_LENGTH, OUTPUT_LENGTH)\n",
    "\n",
    "# Imprimir información en pantalla\n",
    "print('Tamaños entrada (BATCHES x INPUT_LENGTH x FEATURES) y de salida (BATCHES x OUTPUT_LENGTH x FEATURES)')\n",
    "print(f'Set de entrenamiento - x_tr: {x_tr.shape}, y_tr: {y_tr.shape}')\n",
    "print(f'Set de validación - x_vl: {x_vl.shape}, y_vl: {y_vl.shape}')\n",
    "print(f'Set de prueba - x_ts: {x_ts.shape}, y_ts: {y_ts.shape}')"
   ]
  },
  {
   "cell_type": "code",
   "execution_count": 8,
   "metadata": {
    "id": "5mPaTxErGWPm"
   },
   "outputs": [],
   "source": [
    "from sklearn.preprocessing import MinMaxScaler\n",
    "scaler = MinMaxScaler(feature_range=(-1,1))\n"
   ]
  },
  {
   "cell_type": "code",
   "execution_count": 9,
   "metadata": {
    "id": "_1HrK7T_UdIQ"
   },
   "outputs": [],
   "source": [
    "# Arreglos que contendrán los datasets escalados\n",
    "x_tr_s = np.zeros(x_tr.shape)\n",
    "x_vl_s = np.zeros(x_vl.shape)\n",
    "x_ts_s = np.zeros(x_ts.shape)\n",
    "y_tr_s = np.zeros(y_tr.shape)\n",
    "y_vl_s = np.zeros(y_vl.shape)\n",
    "y_ts_s = np.zeros(y_ts.shape)\n",
    "\n",
    "x_tr_s[:,:,0] = scaler.fit_transform(x_tr[:,:,0])\n",
    "x_vl_s[:,:,0] = scaler.transform(x_vl[:,:,0])\n",
    "x_ts_s[:,:,0] = scaler.transform(x_ts[:,:,0])\n",
    "\n",
    "# Escalamiento Ys\n",
    "y_tr_s[:,:,0] = scaler.fit_transform(y_tr[:,:,0])\n",
    "y_vl_s[:,:,0] = scaler.transform(y_vl[:,:,0])\n",
    "y_ts_s[:,:,0] = scaler.transform(y_ts[:,:,0])\n"
   ]
  },
  {
   "cell_type": "code",
   "execution_count": 10,
   "metadata": {
    "colab": {
     "base_uri": "https://localhost:8080/"
    },
    "executionInfo": {
     "elapsed": 479,
     "status": "ok",
     "timestamp": 1697582582900,
     "user": {
      "displayName": "Laura Lanzarini",
      "userId": "09081598862758330982"
     },
     "user_tz": 180
    },
    "id": "5UmF1tmdVtxI",
    "outputId": "a1730568-1a0a-4c3e-f632-95bb1b667200"
   },
   "outputs": [
    {
     "name": "stdout",
     "output_type": "stream",
     "text": [
      "Min x_tr/x_vl/x_ts sin escalamiento: -22.76/-9.92/-2.64\n",
      "Min x_tr/x_vl/x_ts con escalamiento: -1.0/-0.5603492552645094/-0.31107687039890414\n",
      "\n",
      "Min y_tr/y_vl/y_ts sin escalamiento: -22.76/-9.92/-2.64\n",
      "Min y_tr/y_vl/y_ts con escalamiento: -1.0/-0.5603492552645094/-0.31107687039890414\n",
      "\n",
      "Max x_tr/x_vl/x_ts sin escalamiento: 35.65/34.34/33.68\n",
      "Max x_tr/x_vl/x_ts con escalamiento: 1.0000000000000002/0.9551446670090742/0.932545796952577\n",
      "\n",
      "Max y_tr/y_vl/y_ts sin escalamiento: 35.65/31.33/33.68\n",
      "Max y_tr/y_vl/y_ts con escalamiento: 1.0000000000000002/0.8520801232665642/0.932545796952577\n"
     ]
    }
   ],
   "source": [
    "# Verificación\n",
    "print(f'Min x_tr/x_vl/x_ts sin escalamiento: {x_tr.min()}/{x_vl.min()}/{x_ts.min()}')\n",
    "print(f'Min x_tr/x_vl/x_ts con escalamiento: {x_tr_s.min()}/{x_vl_s.min()}/{x_ts_s.min()}')\n",
    "\n",
    "print(f'\\nMin y_tr/y_vl/y_ts sin escalamiento: {y_tr.min()}/{y_vl.min()}/{y_ts.min()}')\n",
    "print(f'Min y_tr/y_vl/y_ts con escalamiento: {y_tr_s.min()}/{y_vl_s.min()}/{y_ts_s.min()}')\n",
    "\n",
    "print(f'\\nMax x_tr/x_vl/x_ts sin escalamiento: {x_tr.max()}/{x_vl.max()}/{x_ts.max()}')\n",
    "print(f'Max x_tr/x_vl/x_ts con escalamiento: {x_tr_s.max()}/{x_vl_s.max()}/{x_ts_s.max()}')\n",
    "\n",
    "print(f'\\nMax y_tr/y_vl/y_ts sin escalamiento: {y_tr.max()}/{y_vl.max()}/{y_ts.max()}')\n",
    "print(f'Max y_tr/y_vl/y_ts con escalamiento: {y_tr_s.max()}/{y_vl_s.max()}/{y_ts_s.max()}')"
   ]
  },
  {
   "cell_type": "code",
   "execution_count": 11,
   "metadata": {
    "colab": {
     "base_uri": "https://localhost:8080/"
    },
    "executionInfo": {
     "elapsed": 15,
     "status": "ok",
     "timestamp": 1697582582902,
     "user": {
      "displayName": "Laura Lanzarini",
      "userId": "09081598862758330982"
     },
     "user_tz": 180
    },
    "id": "dYvwOsYCW9gI",
    "outputId": "27e65ba4-895e-4065-8c66-39845b4b6c66"
   },
   "outputs": [
    {
     "name": "stdout",
     "output_type": "stream",
     "text": [
      "[-8.05 -8.88 -8.81 -9.05 -9.63 -9.67 -9.17 -8.1  -7.66 -7.04 -7.41 -6.87\n",
      " -5.89 -5.94 -5.69 -5.4  -5.37 -5.25 -5.11 -4.9  -4.8  -4.5  -4.47 -4.54\n",
      " -4.44 -4.29 -4.45 -4.58 -4.96]\n",
      "[[[-8.05]\n",
      "  [-8.88]\n",
      "  [-8.81]\n",
      "  [-9.05]\n",
      "  [-9.63]\n",
      "  [-9.67]\n",
      "  [-9.17]\n",
      "  [-8.1 ]\n",
      "  [-7.66]\n",
      "  [-7.04]\n",
      "  [-7.41]\n",
      "  [-6.87]\n",
      "  [-5.89]\n",
      "  [-5.94]\n",
      "  [-5.69]\n",
      "  [-5.4 ]\n",
      "  [-5.37]\n",
      "  [-5.25]\n",
      "  [-5.11]\n",
      "  [-4.9 ]\n",
      "  [-4.8 ]\n",
      "  [-4.5 ]\n",
      "  [-4.47]\n",
      "  [-4.54]]\n",
      "\n",
      " [[-8.88]\n",
      "  [-8.81]\n",
      "  [-9.05]\n",
      "  [-9.63]\n",
      "  [-9.67]\n",
      "  [-9.17]\n",
      "  [-8.1 ]\n",
      "  [-7.66]\n",
      "  [-7.04]\n",
      "  [-7.41]\n",
      "  [-6.87]\n",
      "  [-5.89]\n",
      "  [-5.94]\n",
      "  [-5.69]\n",
      "  [-5.4 ]\n",
      "  [-5.37]\n",
      "  [-5.25]\n",
      "  [-5.11]\n",
      "  [-4.9 ]\n",
      "  [-4.8 ]\n",
      "  [-4.5 ]\n",
      "  [-4.47]\n",
      "  [-4.54]\n",
      "  [-4.44]]]\n",
      "[[[-4.44]\n",
      "  [-4.29]\n",
      "  [-4.45]\n",
      "  [-4.58]]\n",
      "\n",
      " [[-4.29]\n",
      "  [-4.45]\n",
      "  [-4.58]\n",
      "  [-4.96]]]\n"
     ]
    }
   ],
   "source": [
    "print(tr.values[:29])\n",
    "print(x_tr[:2,:,:])\n",
    "print(y_tr[:2,:,:])"
   ]
  },
  {
   "cell_type": "code",
   "execution_count": 12,
   "metadata": {
    "colab": {
     "base_uri": "https://localhost:8080/"
    },
    "executionInfo": {
     "elapsed": 6176,
     "status": "ok",
     "timestamp": 1697582589070,
     "user": {
      "displayName": "Laura Lanzarini",
      "userId": "09081598862758330982"
     },
     "user_tz": 180
    },
    "id": "HaC3WjNGWRJQ",
    "outputId": "d4d54579-d763-4d51-cabc-552bd2f85765"
   },
   "outputs": [
    {
     "name": "stdout",
     "output_type": "stream",
     "text": [
      "Model: \"sequential\"\n",
      "_________________________________________________________________\n",
      " Layer (type)                Output Shape              Param #   \n",
      "=================================================================\n",
      " lstm (LSTM)                 (None, 128)               66560     \n",
      "                                                                 \n",
      " dense (Dense)               (None, 4)                 516       \n",
      "                                                                 \n",
      "=================================================================\n",
      "Total params: 67,076\n",
      "Trainable params: 67,076\n",
      "Non-trainable params: 0\n",
      "_________________________________________________________________\n"
     ]
    }
   ],
   "source": [
    "# Creación del modelo\n",
    "from tensorflow.keras.models import Sequential\n",
    "from tensorflow.keras.layers import LSTM, Dense, SimpleRNN\n",
    "from tensorflow.keras.optimizers import RMSprop\n",
    "import tensorflow as tf\n",
    "\n",
    "# Ajustar parámetros para reproducibilidad del entrenamiento\n",
    "tf.random.set_seed(123)\n",
    "tf.config.experimental.enable_op_determinism()\n",
    "\n",
    "# El modelo\n",
    "N_UNITS = 128 # Tamaño del estado oculto (h) y de la celda de memoria (c)\n",
    "INPUT_SHAPE = (x_tr_s.shape[1], x_tr_s.shape[2]) # 24 (horas) x 1 (feature)\n",
    "\n",
    "modelo = Sequential()\n",
    "#modelo.add(SimpleRNN(N_UNITS, input_shape=INPUT_SHAPE))\n",
    "modelo.add(LSTM(N_UNITS, input_shape=INPUT_SHAPE))\n",
    "modelo.add(Dense(OUTPUT_LENGTH, activation='linear')) # activation = 'linear' pues queremos pronosticar (regresión)\n",
    "modelo.summary()\n"
   ]
  },
  {
   "cell_type": "code",
   "execution_count": 13,
   "metadata": {
    "colab": {
     "base_uri": "https://localhost:8080/"
    },
    "executionInfo": {
     "elapsed": 2004315,
     "status": "ok",
     "timestamp": 1697584593366,
     "user": {
      "displayName": "Laura Lanzarini",
      "userId": "09081598862758330982"
     },
     "user_tz": 180
    },
    "id": "V41Ree6unybh",
    "outputId": "ef321e2d-b5c9-4d4e-b3dd-81f8c44dbd94"
   },
   "outputs": [
    {
     "name": "stdout",
     "output_type": "stream",
     "text": [
      "Epoch 1/80\n",
      "157/157 - 12s - loss: 0.2369 - val_loss: 0.1130 - 12s/epoch - 79ms/step\n",
      "Epoch 2/80\n",
      "157/157 - 7s - loss: 0.1251 - val_loss: 0.1011 - 7s/epoch - 46ms/step\n",
      "Epoch 3/80\n",
      "157/157 - 7s - loss: 0.1153 - val_loss: 0.0976 - 7s/epoch - 46ms/step\n",
      "Epoch 4/80\n",
      "157/157 - 7s - loss: 0.1085 - val_loss: 0.0941 - 7s/epoch - 46ms/step\n",
      "Epoch 5/80\n",
      "157/157 - 7s - loss: 0.1022 - val_loss: 0.0893 - 7s/epoch - 45ms/step\n",
      "Epoch 6/80\n",
      "157/157 - 8s - loss: 0.0970 - val_loss: 0.0849 - 8s/epoch - 50ms/step\n",
      "Epoch 7/80\n",
      "157/157 - 7s - loss: 0.0928 - val_loss: 0.0822 - 7s/epoch - 47ms/step\n",
      "Epoch 8/80\n",
      "157/157 - 7s - loss: 0.0898 - val_loss: 0.0809 - 7s/epoch - 44ms/step\n",
      "Epoch 9/80\n",
      "157/157 - 7s - loss: 0.0878 - val_loss: 0.0788 - 7s/epoch - 44ms/step\n",
      "Epoch 10/80\n",
      "157/157 - 8s - loss: 0.0860 - val_loss: 0.0794 - 8s/epoch - 49ms/step\n",
      "Epoch 11/80\n",
      "157/157 - 7s - loss: 0.0844 - val_loss: 0.0759 - 7s/epoch - 46ms/step\n",
      "Epoch 12/80\n",
      "157/157 - 7s - loss: 0.0827 - val_loss: 0.0736 - 7s/epoch - 46ms/step\n",
      "Epoch 13/80\n",
      "157/157 - 7s - loss: 0.0810 - val_loss: 0.0722 - 7s/epoch - 46ms/step\n",
      "Epoch 14/80\n",
      "157/157 - 7s - loss: 0.0793 - val_loss: 0.0708 - 7s/epoch - 45ms/step\n",
      "Epoch 15/80\n",
      "157/157 - 7s - loss: 0.0775 - val_loss: 0.0697 - 7s/epoch - 45ms/step\n",
      "Epoch 16/80\n",
      "157/157 - 7s - loss: 0.0757 - val_loss: 0.0681 - 7s/epoch - 45ms/step\n",
      "Epoch 17/80\n",
      "157/157 - 7s - loss: 0.0738 - val_loss: 0.0670 - 7s/epoch - 46ms/step\n",
      "Epoch 18/80\n",
      "157/157 - 7s - loss: 0.0720 - val_loss: 0.0653 - 7s/epoch - 47ms/step\n",
      "Epoch 19/80\n",
      "157/157 - 7s - loss: 0.0704 - val_loss: 0.0639 - 7s/epoch - 46ms/step\n",
      "Epoch 20/80\n",
      "157/157 - 7s - loss: 0.0691 - val_loss: 0.0633 - 7s/epoch - 43ms/step\n",
      "Epoch 21/80\n",
      "157/157 - 7s - loss: 0.0679 - val_loss: 0.0624 - 7s/epoch - 43ms/step\n",
      "Epoch 22/80\n",
      "157/157 - 7s - loss: 0.0670 - val_loss: 0.0612 - 7s/epoch - 45ms/step\n",
      "Epoch 23/80\n",
      "157/157 - 7s - loss: 0.0661 - val_loss: 0.0604 - 7s/epoch - 43ms/step\n",
      "Epoch 24/80\n",
      "157/157 - 7s - loss: 0.0652 - val_loss: 0.0596 - 7s/epoch - 45ms/step\n",
      "Epoch 25/80\n",
      "157/157 - 7s - loss: 0.0643 - val_loss: 0.0613 - 7s/epoch - 43ms/step\n",
      "Epoch 26/80\n",
      "157/157 - 7s - loss: 0.0636 - val_loss: 0.0588 - 7s/epoch - 44ms/step\n",
      "Epoch 27/80\n",
      "157/157 - 7s - loss: 0.0630 - val_loss: 0.0580 - 7s/epoch - 46ms/step\n",
      "Epoch 28/80\n",
      "157/157 - 7s - loss: 0.0626 - val_loss: 0.0581 - 7s/epoch - 45ms/step\n",
      "Epoch 29/80\n",
      "157/157 - 7s - loss: 0.0622 - val_loss: 0.0570 - 7s/epoch - 46ms/step\n",
      "Epoch 30/80\n",
      "157/157 - 7s - loss: 0.0618 - val_loss: 0.0567 - 7s/epoch - 44ms/step\n",
      "Epoch 31/80\n",
      "157/157 - 7s - loss: 0.0614 - val_loss: 0.0565 - 7s/epoch - 44ms/step\n",
      "Epoch 32/80\n",
      "157/157 - 7s - loss: 0.0610 - val_loss: 0.0559 - 7s/epoch - 47ms/step\n",
      "Epoch 33/80\n",
      "157/157 - 7s - loss: 0.0608 - val_loss: 0.0554 - 7s/epoch - 44ms/step\n",
      "Epoch 34/80\n",
      "157/157 - 8s - loss: 0.0604 - val_loss: 0.0551 - 8s/epoch - 51ms/step\n",
      "Epoch 35/80\n",
      "157/157 - 8s - loss: 0.0600 - val_loss: 0.0559 - 8s/epoch - 49ms/step\n",
      "Epoch 36/80\n",
      "157/157 - 8s - loss: 0.0598 - val_loss: 0.0544 - 8s/epoch - 49ms/step\n",
      "Epoch 37/80\n",
      "157/157 - 8s - loss: 0.0594 - val_loss: 0.0569 - 8s/epoch - 48ms/step\n",
      "Epoch 38/80\n",
      "157/157 - 8s - loss: 0.0592 - val_loss: 0.0574 - 8s/epoch - 49ms/step\n",
      "Epoch 39/80\n",
      "157/157 - 7s - loss: 0.0590 - val_loss: 0.0549 - 7s/epoch - 48ms/step\n",
      "Epoch 40/80\n",
      "157/157 - 8s - loss: 0.0587 - val_loss: 0.0533 - 8s/epoch - 49ms/step\n",
      "Epoch 41/80\n",
      "157/157 - 7s - loss: 0.0585 - val_loss: 0.0563 - 7s/epoch - 47ms/step\n",
      "Epoch 42/80\n",
      "157/157 - 7s - loss: 0.0582 - val_loss: 0.0527 - 7s/epoch - 47ms/step\n",
      "Epoch 43/80\n",
      "157/157 - 8s - loss: 0.0580 - val_loss: 0.0526 - 8s/epoch - 48ms/step\n",
      "Epoch 44/80\n",
      "157/157 - 8s - loss: 0.0578 - val_loss: 0.0565 - 8s/epoch - 49ms/step\n",
      "Epoch 45/80\n",
      "157/157 - 8s - loss: 0.0575 - val_loss: 0.0521 - 8s/epoch - 51ms/step\n",
      "Epoch 46/80\n",
      "157/157 - 8s - loss: 0.0573 - val_loss: 0.0531 - 8s/epoch - 51ms/step\n",
      "Epoch 47/80\n",
      "157/157 - 8s - loss: 0.0570 - val_loss: 0.0539 - 8s/epoch - 48ms/step\n",
      "Epoch 48/80\n",
      "157/157 - 8s - loss: 0.0569 - val_loss: 0.0519 - 8s/epoch - 49ms/step\n",
      "Epoch 49/80\n",
      "157/157 - 8s - loss: 0.0566 - val_loss: 0.0517 - 8s/epoch - 48ms/step\n",
      "Epoch 50/80\n",
      "157/157 - 7s - loss: 0.0564 - val_loss: 0.0532 - 7s/epoch - 47ms/step\n",
      "Epoch 51/80\n",
      "157/157 - 8s - loss: 0.0563 - val_loss: 0.0511 - 8s/epoch - 50ms/step\n",
      "Epoch 52/80\n",
      "157/157 - 7s - loss: 0.0560 - val_loss: 0.0509 - 7s/epoch - 47ms/step\n",
      "Epoch 53/80\n",
      "157/157 - 7s - loss: 0.0557 - val_loss: 0.0526 - 7s/epoch - 45ms/step\n",
      "Epoch 54/80\n",
      "157/157 - 7s - loss: 0.0557 - val_loss: 0.0502 - 7s/epoch - 47ms/step\n",
      "Epoch 55/80\n",
      "157/157 - 7s - loss: 0.0554 - val_loss: 0.0513 - 7s/epoch - 48ms/step\n",
      "Epoch 56/80\n",
      "157/157 - 7s - loss: 0.0553 - val_loss: 0.0502 - 7s/epoch - 44ms/step\n",
      "Epoch 57/80\n",
      "157/157 - 8s - loss: 0.0551 - val_loss: 0.0497 - 8s/epoch - 48ms/step\n",
      "Epoch 58/80\n",
      "157/157 - 7s - loss: 0.0549 - val_loss: 0.0496 - 7s/epoch - 46ms/step\n",
      "Epoch 59/80\n",
      "157/157 - 7s - loss: 0.0548 - val_loss: 0.0499 - 7s/epoch - 47ms/step\n",
      "Epoch 60/80\n",
      "157/157 - 8s - loss: 0.0546 - val_loss: 0.0498 - 8s/epoch - 48ms/step\n",
      "Epoch 61/80\n",
      "157/157 - 7s - loss: 0.0544 - val_loss: 0.0491 - 7s/epoch - 47ms/step\n",
      "Epoch 62/80\n",
      "157/157 - 7s - loss: 0.0543 - val_loss: 0.0497 - 7s/epoch - 48ms/step\n",
      "Epoch 63/80\n",
      "157/157 - 7s - loss: 0.0542 - val_loss: 0.0493 - 7s/epoch - 46ms/step\n",
      "Epoch 64/80\n",
      "157/157 - 7s - loss: 0.0540 - val_loss: 0.0503 - 7s/epoch - 46ms/step\n",
      "Epoch 65/80\n",
      "157/157 - 7s - loss: 0.0538 - val_loss: 0.0528 - 7s/epoch - 46ms/step\n",
      "Epoch 66/80\n",
      "157/157 - 8s - loss: 0.0536 - val_loss: 0.0504 - 8s/epoch - 53ms/step\n",
      "Epoch 67/80\n",
      "157/157 - 8s - loss: 0.0536 - val_loss: 0.0491 - 8s/epoch - 49ms/step\n",
      "Epoch 68/80\n",
      "157/157 - 7s - loss: 0.0534 - val_loss: 0.0481 - 7s/epoch - 46ms/step\n",
      "Epoch 69/80\n",
      "157/157 - 8s - loss: 0.0532 - val_loss: 0.0482 - 8s/epoch - 50ms/step\n",
      "Epoch 70/80\n",
      "157/157 - 7s - loss: 0.0532 - val_loss: 0.0487 - 7s/epoch - 47ms/step\n",
      "Epoch 71/80\n",
      "157/157 - 8s - loss: 0.0531 - val_loss: 0.0491 - 8s/epoch - 51ms/step\n",
      "Epoch 72/80\n",
      "157/157 - 7s - loss: 0.0529 - val_loss: 0.0495 - 7s/epoch - 44ms/step\n",
      "Epoch 73/80\n",
      "157/157 - 8s - loss: 0.0529 - val_loss: 0.0484 - 8s/epoch - 50ms/step\n",
      "Epoch 74/80\n",
      "157/157 - 8s - loss: 0.0527 - val_loss: 0.0478 - 8s/epoch - 49ms/step\n",
      "Epoch 75/80\n",
      "157/157 - 7s - loss: 0.0526 - val_loss: 0.0474 - 7s/epoch - 47ms/step\n",
      "Epoch 76/80\n",
      "157/157 - 8s - loss: 0.0524 - val_loss: 0.0476 - 8s/epoch - 48ms/step\n",
      "Epoch 77/80\n",
      "157/157 - 7s - loss: 0.0525 - val_loss: 0.0475 - 7s/epoch - 46ms/step\n",
      "Epoch 78/80\n",
      "157/157 - 7s - loss: 0.0522 - val_loss: 0.0476 - 7s/epoch - 47ms/step\n",
      "Epoch 79/80\n",
      "157/157 - 7s - loss: 0.0522 - val_loss: 0.0484 - 7s/epoch - 47ms/step\n",
      "Epoch 80/80\n",
      "157/157 - 10s - loss: 0.0521 - val_loss: 0.0473 - 10s/epoch - 63ms/step\n"
     ]
    }
   ],
   "source": [
    "# Pérdida: se usará el RMSE (root mean squared error) para el entrenamiento\n",
    "# pues permite tener errores en las mismas unidades de la temperatura\n",
    "def root_mean_squared_error(y_true, y_pred):\n",
    "    rmse = tf.math.sqrt(tf.math.reduce_mean(tf.square(y_pred-y_true)))\n",
    "    return rmse\n",
    "\n",
    "# Compilación\n",
    "optimizador = RMSprop(learning_rate=5e-5)\n",
    "modelo.compile(\n",
    "    optimizer = optimizador,\n",
    "    loss=root_mean_squared_error  #loss = 'mse'\n",
    ")\n",
    "\n",
    "# Entrenamiento (aproximadamente 1 min usando GPU)\n",
    "EPOCHS = 80 # Hiperparámetro\n",
    "BATCH_SIZE = 256 # Hiperparámetro\n",
    "historia = modelo.fit(\n",
    "    x = x_tr_s,\n",
    "    y = y_tr_s,\n",
    "    batch_size = BATCH_SIZE,\n",
    "    epochs = EPOCHS,\n",
    "    validation_data = (x_vl_s, y_vl_s),\n",
    "    verbose=2\n",
    ")"
   ]
  },
  {
   "cell_type": "code",
   "execution_count": 14,
   "metadata": {
    "colab": {
     "base_uri": "https://localhost:8080/",
     "height": 449
    },
    "executionInfo": {
     "elapsed": 718,
     "status": "ok",
     "timestamp": 1697584594032,
     "user": {
      "displayName": "Laura Lanzarini",
      "userId": "09081598862758330982"
     },
     "user_tz": 180
    },
    "id": "V5aS9CJnGqNv",
    "outputId": "8ff6b1cc-0d60-43d1-8721-defd5fde4f73"
   },
   "outputs": [
    {
     "data": {
      "image/png": "[encoded data removed]",
      "text/plain": [
       "<Figure size 640x480 with 1 Axes>"
      ]
     },
     "metadata": {},
     "output_type": "display_data"
    }
   ],
   "source": [
    " # Graficar curvas de entrenamiento y validación\n",
    " # para verificar que no existe overfitting\n",
    "plt.plot(historia.history['loss'],label='RMSE train')\n",
    "plt.plot(historia.history['val_loss'],label='RMSE val')\n",
    "plt.xlabel('Iteración')\n",
    "plt.ylabel('RMSE')\n",
    "plt.legend();"
   ]
  },
  {
   "cell_type": "markdown",
   "metadata": {
    "id": "4pMf2I2RnM6Z"
   },
   "source": [
    "### Desempeño del modelo"
   ]
  },
  {
   "cell_type": "code",
   "execution_count": 15,
   "metadata": {
    "colab": {
     "base_uri": "https://localhost:8080/"
    },
    "executionInfo": {
     "elapsed": 45883,
     "status": "ok",
     "timestamp": 1697584639887,
     "user": {
      "displayName": "Laura Lanzarini",
      "userId": "09081598862758330982"
     },
     "user_tz": 180
    },
    "id": "Xl_skslsXhea",
    "outputId": "dfce5003-8be9-48fb-e4ce-4d1c7e606f6b"
   },
   "outputs": [
    {
     "name": "stdout",
     "output_type": "stream",
     "text": [
      "Comparativo desempeños:\n",
      "  MSE train:\t 0.048\n",
      "  MSE val:\t 0.046\n",
      "  MSE test:\t 0.052\n"
     ]
    }
   ],
   "source": [
    "# Cálculo de MSE para train, val y test\n",
    "Rmse_tr = modelo.evaluate(x=x_tr_s, y=y_tr_s, verbose=0)\n",
    "Rmse_vl = modelo.evaluate(x=x_vl_s, y=y_vl_s, verbose=0)\n",
    "Rmse_ts = modelo.evaluate(x=x_ts_s, y=y_ts_s, verbose=0)\n",
    "\n",
    "# Imprimir resultados en pantalla\n",
    "print('Comparativo desempeños:')\n",
    "print(f'  MSE train:\\t {Rmse_tr:.3f}')\n",
    "print(f'  MSE val:\\t {Rmse_vl:.3f}')\n",
    "print(f'  MSE test:\\t {Rmse_ts:.3f}')"
   ]
  },
  {
   "cell_type": "code",
   "execution_count": 16,
   "metadata": {
    "colab": {
     "base_uri": "https://localhost:8080/",
     "height": 449
    },
    "executionInfo": {
     "elapsed": 3228,
     "status": "ok",
     "timestamp": 1697584643088,
     "user": {
      "displayName": "Laura Lanzarini",
      "userId": "09081598862758330982"
     },
     "user_tz": 180
    },
    "id": "in3NqytKoDKf",
    "outputId": "f255ec0f-4dc5-46ad-c5d9-dec817cad3fc"
   },
   "outputs": [
    {
     "data": {
      "image/png": "[encoded data removed]",
      "text/plain": [
       "<Figure size 640x480 with 1 Axes>"
      ]
     },
     "metadata": {},
     "output_type": "display_data"
    }
   ],
   "source": [
    "# analizando RMSE en cada una de las 4 predicciones de temperatura\n",
    "# Calcular predicción sobre el set de prueba escalada en el rango de -1 a 1\n",
    "y_ts_pred_s = modelo.predict(x_ts_s,verbose=0)\n",
    "\n",
    "# Llevar la predicción a la escala original\n",
    "y_ts_pred = scaler.inverse_transform(y_ts_pred_s)\n",
    "\n",
    "# calcular RMSE para cada instante de tiempo predicho\n",
    "diff_cuad = np.square(y_ts.squeeze()-y_ts_pred)\n",
    "proms = np.mean(diff_cuad, axis=0) # 1x4\n",
    "rmse = np.sqrt(proms) # 1x4\n",
    "\n",
    "#Graficar RMSE\n",
    "t = np.linspace(1,4,4)\n",
    "\n",
    "fig,ax = plt.subplots()\n",
    "ax.scatter(t, rmse)\n",
    "ax.set_xlabel(\"Hora predicha\")\n",
    "ax.set_ylabel(\"Error RMSE (oC)\")\n",
    "plt.xticks(ticks=t, labels=t)\n",
    "plt.grid();\n",
    "\n",
    "\n"
   ]
  },
  {
   "cell_type": "code",
   "execution_count": 17,
   "metadata": {
    "id": "9MpMK8MSXwTy"
   },
   "outputs": [],
   "source": [
    "def predecir(x, model, scaler):\n",
    "    '''Genera la predicción de OUTPUT_LENGTH instantes\n",
    "    de tiempo a futuro con el modelo entrenado.\n",
    "\n",
    "    Entrada:\n",
    "    - x: batch (o batches) de datos para ingresar al modelo\n",
    "      (tamaño: BATCHES X INPUT_LENGTH X FEATURES)\n",
    "    - model: Red LSTM entrenada\n",
    "    - scaler: escalador (requerido para llevar la predicción a la escala original)\n",
    "\n",
    "    Salida:\n",
    "    - y_pred: la predicción en la escala original (tamaño: BATCHES X OUTPUT_LENGTH X FEATURES)\n",
    "    '''\n",
    "\n",
    "    # Calcular predicción escalada en el rango de -1 a 1\n",
    "    y_pred_s = model.predict(x,verbose=0)\n",
    "\n",
    "    # Llevar la predicción a la escala original\n",
    "    y_pred = scaler.inverse_transform(y_pred_s)\n",
    "\n",
    "    return y_pred.flatten()"
   ]
  },
  {
   "cell_type": "code",
   "execution_count": 18,
   "metadata": {
    "id": "55RTwuy1Xz-w"
   },
   "outputs": [],
   "source": [
    "# Calcular predicciones sobre el set de prueba\n",
    "y_ts_pred = predecir(x_ts_s, modelo, scaler)"
   ]
  },
  {
   "cell_type": "code",
   "execution_count": 19,
   "metadata": {
    "colab": {
     "base_uri": "https://localhost:8080/",
     "height": 430
    },
    "executionInfo": {
     "elapsed": 680,
     "status": "ok",
     "timestamp": 1697584648913,
     "user": {
      "displayName": "Laura Lanzarini",
      "userId": "09081598862758330982"
     },
     "user_tz": 180
    },
    "id": "gFYjr1mUX_rh",
    "outputId": "a67d3c33-26cd-4c0c-93e9-f491e734e8b3"
   },
   "outputs": [
    {
     "data": {
      "image/png": "[encoded data removed]",
      "text/plain": [
       "<Figure size 640x480 with 1 Axes>"
      ]
     },
     "metadata": {},
     "output_type": "display_data"
    }
   ],
   "source": [
    "N = len(y_ts_pred)    # Número de predicciones\n",
    "ndato = np.linspace(1,N,N)\n",
    "\n",
    "# Cálculo de errores simples\n",
    "errores = y_ts.flatten()-y_ts_pred\n",
    "plt.plot(errores);"
   ]
  }
 ],
 "metadata": {
  "accelerator": "TPU",
  "colab": {
   "authorship_tag": "ABX9TyNA7LqYjNL2fnr5P1LZUtY0",
   "provenance": [
    {
     "file_id": "1rpbI0ZkW_MbqI5wo11rLxjwBK64iDRb9",
     "timestamp": 1697582454219
    },
    {
     "file_id": "1PfybDsPX7Tg8ugoBdOlNL4if5O_bQLCz",
     "timestamp": 1697577933664
    },
    {
     "file_id": "1xG4twv52AiueaEwKQ9ht1BtrAI61Hgv2",
     "timestamp": 1697230506802
    },
    {
     "file_id": "1t_bPg7uwm4hBqwZV7jKOP_MSs3y30ln6",
     "timestamp": 1697228777783
    }
   ]
  },
  "kernelspec": {
   "display_name": "Python 3 (ipykernel)",
   "language": "python",
   "name": "python3"
  },
  "language_info": {
   "codemirror_mode": {
    "name": "ipython",
    "version": 3
   },
   "file_extension": ".py",
   "mimetype": "text/x-python",
   "name": "python",
   "nbconvert_exporter": "python",
   "pygments_lexer": "ipython3",
   "version": "3.7.16"
  }
 },
 "nbformat": 4,
 "nbformat_minor": 1
}
