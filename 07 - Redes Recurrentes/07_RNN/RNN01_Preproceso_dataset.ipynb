{
 "cells": [
  {
   "cell_type": "code",
   "execution_count": 1,
   "metadata": {},
   "outputs": [],
   "source": [
    "ColabNotebook = 'google.colab' in str(get_ipython())\n",
    "\n",
    "if ColabNotebook:\n",
    "    # monta G-drive en entorno COLAB\n",
    "    from google.colab import drive\n",
    "    drive.mount('/content/drive/')\n",
    "\n",
    "    # carpeta donde se encuentran archivos .py auxiliares\n",
    "    FUENTES_DIR = '/content/drive/MyDrive/Colab Notebooks/FUENTES/'\n",
    "    DATOS_DIR = '/content/drive/MyDrive/Colab Notebooks/DATOS/'      # carpeta donde se encuentran los datasets\n",
    "else:\n",
    "    # configuración para notebook con instalación LOCAL\n",
    "    FUENTES_DIR = '../Fuentes'         # carpeta donde se encuentran archivos .py auxiliares\n",
    "    DATOS_DIR   = '' # carpeta donde se encuentran los datasets\n",
    "\n",
    "# agrega ruta de busqueda donde tenemos archivos .py\n",
    "import sys\n",
    "sys.path.append(FUENTES_DIR)"
   ]
  },
  {
   "cell_type": "code",
   "execution_count": 2,
   "metadata": {
    "colab": {
     "base_uri": "https://localhost:8080/"
    },
    "executionInfo": {
     "elapsed": 26899,
     "status": "ok",
     "timestamp": 1701455713445,
     "user": {
      "displayName": "Laura Lanzarini",
      "userId": "09081598862758330982"
     },
     "user_tz": 180
    },
    "id": "cs6TOPhMCLQH",
    "outputId": "ad4a60f3-0c7f-49d1-d908-78f446b4df29"
   },
   "outputs": [],
   "source": [
    "import pandas as pd\n",
    "import matplotlib.pyplot as plt\n",
    "import numpy as np\n"
   ]
  },
  {
   "cell_type": "code",
   "execution_count": 3,
   "metadata": {
    "colab": {
     "base_uri": "https://localhost:8080/",
     "height": 615
    },
    "executionInfo": {
     "elapsed": 4823,
     "status": "ok",
     "timestamp": 1701455722460,
     "user": {
      "displayName": "Laura Lanzarini",
      "userId": "09081598862758330982"
     },
     "user_tz": 180
    },
    "id": "M147g8enDCMF",
    "outputId": "8ccb6d3b-340e-4c27-afb8-b803a05c3182"
   },
   "outputs": [
    {
     "data": {
      "text/html": [
       "<div>\n",
       "<style scoped>\n",
       "    .dataframe tbody tr th:only-of-type {\n",
       "        vertical-align: middle;\n",
       "    }\n",
       "\n",
       "    .dataframe tbody tr th {\n",
       "        vertical-align: top;\n",
       "    }\n",
       "\n",
       "    .dataframe thead th {\n",
       "        text-align: right;\n",
       "    }\n",
       "</style>\n",
       "<table border=\"1\" class=\"dataframe\">\n",
       "  <thead>\n",
       "    <tr style=\"text-align: right;\">\n",
       "      <th></th>\n",
       "      <th>Date Time</th>\n",
       "      <th>p (mbar)</th>\n",
       "      <th>T (degC)</th>\n",
       "      <th>Tpot (K)</th>\n",
       "      <th>Tdew (degC)</th>\n",
       "      <th>rh (%)</th>\n",
       "      <th>VPmax (mbar)</th>\n",
       "      <th>VPact (mbar)</th>\n",
       "      <th>VPdef (mbar)</th>\n",
       "      <th>sh (g/kg)</th>\n",
       "      <th>H2OC (mmol/mol)</th>\n",
       "      <th>rho (g/m**3)</th>\n",
       "      <th>wv (m/s)</th>\n",
       "      <th>max. wv (m/s)</th>\n",
       "      <th>wd (deg)</th>\n",
       "    </tr>\n",
       "  </thead>\n",
       "  <tbody>\n",
       "    <tr>\n",
       "      <th>0</th>\n",
       "      <td>01.01.2009 00:10:00</td>\n",
       "      <td>996.52</td>\n",
       "      <td>-8.02</td>\n",
       "      <td>265.40</td>\n",
       "      <td>-8.90</td>\n",
       "      <td>93.30</td>\n",
       "      <td>3.33</td>\n",
       "      <td>3.11</td>\n",
       "      <td>0.22</td>\n",
       "      <td>1.94</td>\n",
       "      <td>3.12</td>\n",
       "      <td>1307.75</td>\n",
       "      <td>1.03</td>\n",
       "      <td>1.75</td>\n",
       "      <td>152.3</td>\n",
       "    </tr>\n",
       "    <tr>\n",
       "      <th>1</th>\n",
       "      <td>01.01.2009 00:20:00</td>\n",
       "      <td>996.57</td>\n",
       "      <td>-8.41</td>\n",
       "      <td>265.01</td>\n",
       "      <td>-9.28</td>\n",
       "      <td>93.40</td>\n",
       "      <td>3.23</td>\n",
       "      <td>3.02</td>\n",
       "      <td>0.21</td>\n",
       "      <td>1.89</td>\n",
       "      <td>3.03</td>\n",
       "      <td>1309.80</td>\n",
       "      <td>0.72</td>\n",
       "      <td>1.50</td>\n",
       "      <td>136.1</td>\n",
       "    </tr>\n",
       "    <tr>\n",
       "      <th>2</th>\n",
       "      <td>01.01.2009 00:30:00</td>\n",
       "      <td>996.53</td>\n",
       "      <td>-8.51</td>\n",
       "      <td>264.91</td>\n",
       "      <td>-9.31</td>\n",
       "      <td>93.90</td>\n",
       "      <td>3.21</td>\n",
       "      <td>3.01</td>\n",
       "      <td>0.20</td>\n",
       "      <td>1.88</td>\n",
       "      <td>3.02</td>\n",
       "      <td>1310.24</td>\n",
       "      <td>0.19</td>\n",
       "      <td>0.63</td>\n",
       "      <td>171.6</td>\n",
       "    </tr>\n",
       "    <tr>\n",
       "      <th>3</th>\n",
       "      <td>01.01.2009 00:40:00</td>\n",
       "      <td>996.51</td>\n",
       "      <td>-8.31</td>\n",
       "      <td>265.12</td>\n",
       "      <td>-9.07</td>\n",
       "      <td>94.20</td>\n",
       "      <td>3.26</td>\n",
       "      <td>3.07</td>\n",
       "      <td>0.19</td>\n",
       "      <td>1.92</td>\n",
       "      <td>3.08</td>\n",
       "      <td>1309.19</td>\n",
       "      <td>0.34</td>\n",
       "      <td>0.50</td>\n",
       "      <td>198.0</td>\n",
       "    </tr>\n",
       "    <tr>\n",
       "      <th>4</th>\n",
       "      <td>01.01.2009 00:50:00</td>\n",
       "      <td>996.51</td>\n",
       "      <td>-8.27</td>\n",
       "      <td>265.15</td>\n",
       "      <td>-9.04</td>\n",
       "      <td>94.10</td>\n",
       "      <td>3.27</td>\n",
       "      <td>3.08</td>\n",
       "      <td>0.19</td>\n",
       "      <td>1.92</td>\n",
       "      <td>3.09</td>\n",
       "      <td>1309.00</td>\n",
       "      <td>0.32</td>\n",
       "      <td>0.63</td>\n",
       "      <td>214.3</td>\n",
       "    </tr>\n",
       "    <tr>\n",
       "      <th>...</th>\n",
       "      <td>...</td>\n",
       "      <td>...</td>\n",
       "      <td>...</td>\n",
       "      <td>...</td>\n",
       "      <td>...</td>\n",
       "      <td>...</td>\n",
       "      <td>...</td>\n",
       "      <td>...</td>\n",
       "      <td>...</td>\n",
       "      <td>...</td>\n",
       "      <td>...</td>\n",
       "      <td>...</td>\n",
       "      <td>...</td>\n",
       "      <td>...</td>\n",
       "      <td>...</td>\n",
       "    </tr>\n",
       "    <tr>\n",
       "      <th>420446</th>\n",
       "      <td>31.12.2016 23:20:00</td>\n",
       "      <td>1000.07</td>\n",
       "      <td>-4.05</td>\n",
       "      <td>269.10</td>\n",
       "      <td>-8.13</td>\n",
       "      <td>73.10</td>\n",
       "      <td>4.52</td>\n",
       "      <td>3.30</td>\n",
       "      <td>1.22</td>\n",
       "      <td>2.06</td>\n",
       "      <td>3.30</td>\n",
       "      <td>1292.98</td>\n",
       "      <td>0.67</td>\n",
       "      <td>1.52</td>\n",
       "      <td>240.0</td>\n",
       "    </tr>\n",
       "    <tr>\n",
       "      <th>420447</th>\n",
       "      <td>31.12.2016 23:30:00</td>\n",
       "      <td>999.93</td>\n",
       "      <td>-3.35</td>\n",
       "      <td>269.81</td>\n",
       "      <td>-8.06</td>\n",
       "      <td>69.71</td>\n",
       "      <td>4.77</td>\n",
       "      <td>3.32</td>\n",
       "      <td>1.44</td>\n",
       "      <td>2.07</td>\n",
       "      <td>3.32</td>\n",
       "      <td>1289.44</td>\n",
       "      <td>1.14</td>\n",
       "      <td>1.92</td>\n",
       "      <td>234.3</td>\n",
       "    </tr>\n",
       "    <tr>\n",
       "      <th>420448</th>\n",
       "      <td>31.12.2016 23:40:00</td>\n",
       "      <td>999.82</td>\n",
       "      <td>-3.16</td>\n",
       "      <td>270.01</td>\n",
       "      <td>-8.21</td>\n",
       "      <td>67.91</td>\n",
       "      <td>4.84</td>\n",
       "      <td>3.28</td>\n",
       "      <td>1.55</td>\n",
       "      <td>2.05</td>\n",
       "      <td>3.28</td>\n",
       "      <td>1288.39</td>\n",
       "      <td>1.08</td>\n",
       "      <td>2.00</td>\n",
       "      <td>215.2</td>\n",
       "    </tr>\n",
       "    <tr>\n",
       "      <th>420449</th>\n",
       "      <td>31.12.2016 23:50:00</td>\n",
       "      <td>999.81</td>\n",
       "      <td>-4.23</td>\n",
       "      <td>268.94</td>\n",
       "      <td>-8.53</td>\n",
       "      <td>71.80</td>\n",
       "      <td>4.46</td>\n",
       "      <td>3.20</td>\n",
       "      <td>1.26</td>\n",
       "      <td>1.99</td>\n",
       "      <td>3.20</td>\n",
       "      <td>1293.56</td>\n",
       "      <td>1.49</td>\n",
       "      <td>2.16</td>\n",
       "      <td>225.8</td>\n",
       "    </tr>\n",
       "    <tr>\n",
       "      <th>420450</th>\n",
       "      <td>01.01.2017 00:00:00</td>\n",
       "      <td>999.82</td>\n",
       "      <td>-4.82</td>\n",
       "      <td>268.36</td>\n",
       "      <td>-8.42</td>\n",
       "      <td>75.70</td>\n",
       "      <td>4.27</td>\n",
       "      <td>3.23</td>\n",
       "      <td>1.04</td>\n",
       "      <td>2.01</td>\n",
       "      <td>3.23</td>\n",
       "      <td>1296.38</td>\n",
       "      <td>1.23</td>\n",
       "      <td>1.96</td>\n",
       "      <td>184.9</td>\n",
       "    </tr>\n",
       "  </tbody>\n",
       "</table>\n",
       "<p>420451 rows × 15 columns</p>\n",
       "</div>"
      ],
      "text/plain": [
       "                  Date Time  p (mbar)  T (degC)  Tpot (K)  Tdew (degC)  \\\n",
       "0       01.01.2009 00:10:00    996.52     -8.02    265.40        -8.90   \n",
       "1       01.01.2009 00:20:00    996.57     -8.41    265.01        -9.28   \n",
       "2       01.01.2009 00:30:00    996.53     -8.51    264.91        -9.31   \n",
       "3       01.01.2009 00:40:00    996.51     -8.31    265.12        -9.07   \n",
       "4       01.01.2009 00:50:00    996.51     -8.27    265.15        -9.04   \n",
       "...                     ...       ...       ...       ...          ...   \n",
       "420446  31.12.2016 23:20:00   1000.07     -4.05    269.10        -8.13   \n",
       "420447  31.12.2016 23:30:00    999.93     -3.35    269.81        -8.06   \n",
       "420448  31.12.2016 23:40:00    999.82     -3.16    270.01        -8.21   \n",
       "420449  31.12.2016 23:50:00    999.81     -4.23    268.94        -8.53   \n",
       "420450  01.01.2017 00:00:00    999.82     -4.82    268.36        -8.42   \n",
       "\n",
       "        rh (%)  VPmax (mbar)  VPact (mbar)  VPdef (mbar)  sh (g/kg)  \\\n",
       "0        93.30          3.33          3.11          0.22       1.94   \n",
       "1        93.40          3.23          3.02          0.21       1.89   \n",
       "2        93.90          3.21          3.01          0.20       1.88   \n",
       "3        94.20          3.26          3.07          0.19       1.92   \n",
       "4        94.10          3.27          3.08          0.19       1.92   \n",
       "...        ...           ...           ...           ...        ...   \n",
       "420446   73.10          4.52          3.30          1.22       2.06   \n",
       "420447   69.71          4.77          3.32          1.44       2.07   \n",
       "420448   67.91          4.84          3.28          1.55       2.05   \n",
       "420449   71.80          4.46          3.20          1.26       1.99   \n",
       "420450   75.70          4.27          3.23          1.04       2.01   \n",
       "\n",
       "        H2OC (mmol/mol)  rho (g/m**3)  wv (m/s)  max. wv (m/s)  wd (deg)  \n",
       "0                  3.12       1307.75      1.03           1.75     152.3  \n",
       "1                  3.03       1309.80      0.72           1.50     136.1  \n",
       "2                  3.02       1310.24      0.19           0.63     171.6  \n",
       "3                  3.08       1309.19      0.34           0.50     198.0  \n",
       "4                  3.09       1309.00      0.32           0.63     214.3  \n",
       "...                 ...           ...       ...            ...       ...  \n",
       "420446             3.30       1292.98      0.67           1.52     240.0  \n",
       "420447             3.32       1289.44      1.14           1.92     234.3  \n",
       "420448             3.28       1288.39      1.08           2.00     215.2  \n",
       "420449             3.20       1293.56      1.49           2.16     225.8  \n",
       "420450             3.23       1296.38      1.23           1.96     184.9  \n",
       "\n",
       "[420451 rows x 15 columns]"
      ]
     },
     "execution_count": 3,
     "metadata": {},
     "output_type": "execute_result"
    }
   ],
   "source": [
    "# Leer set de datos\n",
    "df = pd.read_csv(DATOS_DIR+'weather_dataset.csv')\n",
    "df"
   ]
  },
  {
   "cell_type": "markdown",
   "metadata": {
    "id": "T_oUxZtONXnv"
   },
   "source": [
    "\n",
    "Convertir la columna Date Time del formato object (string + datos numéricos) al formato datetime."
   ]
  },
  {
   "cell_type": "code",
   "execution_count": 4,
   "metadata": {
    "colab": {
     "base_uri": "https://localhost:8080/"
    },
    "executionInfo": {
     "elapsed": 384,
     "status": "ok",
     "timestamp": 1701455729223,
     "user": {
      "displayName": "Laura Lanzarini",
      "userId": "09081598862758330982"
     },
     "user_tz": 180
    },
    "id": "3r1YYOy1NV_e",
    "outputId": "5c6bd836-dc86-42aa-d32f-d035a71e6d1a"
   },
   "outputs": [
    {
     "data": {
      "text/plain": [
       "dtype('O')"
      ]
     },
     "execution_count": 4,
     "metadata": {},
     "output_type": "execute_result"
    }
   ],
   "source": [
    "# Verificar que el tipo de dato es \"object\"\n",
    "df['Date Time'].dtype"
   ]
  },
  {
   "cell_type": "code",
   "execution_count": 5,
   "metadata": {
    "colab": {
     "base_uri": "https://localhost:8080/",
     "height": 646
    },
    "executionInfo": {
     "elapsed": 316,
     "status": "ok",
     "timestamp": 1701455735584,
     "user": {
      "displayName": "Laura Lanzarini",
      "userId": "09081598862758330982"
     },
     "user_tz": 180
    },
    "id": "rcXAZLo0N2aN",
    "outputId": "4f910536-d7ba-4083-d399-f2593bc5d1ab"
   },
   "outputs": [
    {
     "data": {
      "text/html": [
       "<div>\n",
       "<style scoped>\n",
       "    .dataframe tbody tr th:only-of-type {\n",
       "        vertical-align: middle;\n",
       "    }\n",
       "\n",
       "    .dataframe tbody tr th {\n",
       "        vertical-align: top;\n",
       "    }\n",
       "\n",
       "    .dataframe thead th {\n",
       "        text-align: right;\n",
       "    }\n",
       "</style>\n",
       "<table border=\"1\" class=\"dataframe\">\n",
       "  <thead>\n",
       "    <tr style=\"text-align: right;\">\n",
       "      <th></th>\n",
       "      <th>p (mbar)</th>\n",
       "      <th>T (degC)</th>\n",
       "      <th>Tpot (K)</th>\n",
       "      <th>Tdew (degC)</th>\n",
       "      <th>rh (%)</th>\n",
       "      <th>VPmax (mbar)</th>\n",
       "      <th>VPact (mbar)</th>\n",
       "      <th>VPdef (mbar)</th>\n",
       "      <th>sh (g/kg)</th>\n",
       "      <th>H2OC (mmol/mol)</th>\n",
       "      <th>rho (g/m**3)</th>\n",
       "      <th>wv (m/s)</th>\n",
       "      <th>max. wv (m/s)</th>\n",
       "      <th>wd (deg)</th>\n",
       "    </tr>\n",
       "    <tr>\n",
       "      <th>datetime</th>\n",
       "      <th></th>\n",
       "      <th></th>\n",
       "      <th></th>\n",
       "      <th></th>\n",
       "      <th></th>\n",
       "      <th></th>\n",
       "      <th></th>\n",
       "      <th></th>\n",
       "      <th></th>\n",
       "      <th></th>\n",
       "      <th></th>\n",
       "      <th></th>\n",
       "      <th></th>\n",
       "      <th></th>\n",
       "    </tr>\n",
       "  </thead>\n",
       "  <tbody>\n",
       "    <tr>\n",
       "      <th>2009-01-01 00:10:00</th>\n",
       "      <td>996.52</td>\n",
       "      <td>-8.02</td>\n",
       "      <td>265.40</td>\n",
       "      <td>-8.90</td>\n",
       "      <td>93.30</td>\n",
       "      <td>3.33</td>\n",
       "      <td>3.11</td>\n",
       "      <td>0.22</td>\n",
       "      <td>1.94</td>\n",
       "      <td>3.12</td>\n",
       "      <td>1307.75</td>\n",
       "      <td>1.03</td>\n",
       "      <td>1.75</td>\n",
       "      <td>152.3</td>\n",
       "    </tr>\n",
       "    <tr>\n",
       "      <th>2009-01-01 00:20:00</th>\n",
       "      <td>996.57</td>\n",
       "      <td>-8.41</td>\n",
       "      <td>265.01</td>\n",
       "      <td>-9.28</td>\n",
       "      <td>93.40</td>\n",
       "      <td>3.23</td>\n",
       "      <td>3.02</td>\n",
       "      <td>0.21</td>\n",
       "      <td>1.89</td>\n",
       "      <td>3.03</td>\n",
       "      <td>1309.80</td>\n",
       "      <td>0.72</td>\n",
       "      <td>1.50</td>\n",
       "      <td>136.1</td>\n",
       "    </tr>\n",
       "    <tr>\n",
       "      <th>2009-01-01 00:30:00</th>\n",
       "      <td>996.53</td>\n",
       "      <td>-8.51</td>\n",
       "      <td>264.91</td>\n",
       "      <td>-9.31</td>\n",
       "      <td>93.90</td>\n",
       "      <td>3.21</td>\n",
       "      <td>3.01</td>\n",
       "      <td>0.20</td>\n",
       "      <td>1.88</td>\n",
       "      <td>3.02</td>\n",
       "      <td>1310.24</td>\n",
       "      <td>0.19</td>\n",
       "      <td>0.63</td>\n",
       "      <td>171.6</td>\n",
       "    </tr>\n",
       "    <tr>\n",
       "      <th>2009-01-01 00:40:00</th>\n",
       "      <td>996.51</td>\n",
       "      <td>-8.31</td>\n",
       "      <td>265.12</td>\n",
       "      <td>-9.07</td>\n",
       "      <td>94.20</td>\n",
       "      <td>3.26</td>\n",
       "      <td>3.07</td>\n",
       "      <td>0.19</td>\n",
       "      <td>1.92</td>\n",
       "      <td>3.08</td>\n",
       "      <td>1309.19</td>\n",
       "      <td>0.34</td>\n",
       "      <td>0.50</td>\n",
       "      <td>198.0</td>\n",
       "    </tr>\n",
       "    <tr>\n",
       "      <th>2009-01-01 00:50:00</th>\n",
       "      <td>996.51</td>\n",
       "      <td>-8.27</td>\n",
       "      <td>265.15</td>\n",
       "      <td>-9.04</td>\n",
       "      <td>94.10</td>\n",
       "      <td>3.27</td>\n",
       "      <td>3.08</td>\n",
       "      <td>0.19</td>\n",
       "      <td>1.92</td>\n",
       "      <td>3.09</td>\n",
       "      <td>1309.00</td>\n",
       "      <td>0.32</td>\n",
       "      <td>0.63</td>\n",
       "      <td>214.3</td>\n",
       "    </tr>\n",
       "    <tr>\n",
       "      <th>...</th>\n",
       "      <td>...</td>\n",
       "      <td>...</td>\n",
       "      <td>...</td>\n",
       "      <td>...</td>\n",
       "      <td>...</td>\n",
       "      <td>...</td>\n",
       "      <td>...</td>\n",
       "      <td>...</td>\n",
       "      <td>...</td>\n",
       "      <td>...</td>\n",
       "      <td>...</td>\n",
       "      <td>...</td>\n",
       "      <td>...</td>\n",
       "      <td>...</td>\n",
       "    </tr>\n",
       "    <tr>\n",
       "      <th>2016-12-31 23:20:00</th>\n",
       "      <td>1000.07</td>\n",
       "      <td>-4.05</td>\n",
       "      <td>269.10</td>\n",
       "      <td>-8.13</td>\n",
       "      <td>73.10</td>\n",
       "      <td>4.52</td>\n",
       "      <td>3.30</td>\n",
       "      <td>1.22</td>\n",
       "      <td>2.06</td>\n",
       "      <td>3.30</td>\n",
       "      <td>1292.98</td>\n",
       "      <td>0.67</td>\n",
       "      <td>1.52</td>\n",
       "      <td>240.0</td>\n",
       "    </tr>\n",
       "    <tr>\n",
       "      <th>2016-12-31 23:30:00</th>\n",
       "      <td>999.93</td>\n",
       "      <td>-3.35</td>\n",
       "      <td>269.81</td>\n",
       "      <td>-8.06</td>\n",
       "      <td>69.71</td>\n",
       "      <td>4.77</td>\n",
       "      <td>3.32</td>\n",
       "      <td>1.44</td>\n",
       "      <td>2.07</td>\n",
       "      <td>3.32</td>\n",
       "      <td>1289.44</td>\n",
       "      <td>1.14</td>\n",
       "      <td>1.92</td>\n",
       "      <td>234.3</td>\n",
       "    </tr>\n",
       "    <tr>\n",
       "      <th>2016-12-31 23:40:00</th>\n",
       "      <td>999.82</td>\n",
       "      <td>-3.16</td>\n",
       "      <td>270.01</td>\n",
       "      <td>-8.21</td>\n",
       "      <td>67.91</td>\n",
       "      <td>4.84</td>\n",
       "      <td>3.28</td>\n",
       "      <td>1.55</td>\n",
       "      <td>2.05</td>\n",
       "      <td>3.28</td>\n",
       "      <td>1288.39</td>\n",
       "      <td>1.08</td>\n",
       "      <td>2.00</td>\n",
       "      <td>215.2</td>\n",
       "    </tr>\n",
       "    <tr>\n",
       "      <th>2016-12-31 23:50:00</th>\n",
       "      <td>999.81</td>\n",
       "      <td>-4.23</td>\n",
       "      <td>268.94</td>\n",
       "      <td>-8.53</td>\n",
       "      <td>71.80</td>\n",
       "      <td>4.46</td>\n",
       "      <td>3.20</td>\n",
       "      <td>1.26</td>\n",
       "      <td>1.99</td>\n",
       "      <td>3.20</td>\n",
       "      <td>1293.56</td>\n",
       "      <td>1.49</td>\n",
       "      <td>2.16</td>\n",
       "      <td>225.8</td>\n",
       "    </tr>\n",
       "    <tr>\n",
       "      <th>2017-01-01 00:00:00</th>\n",
       "      <td>999.82</td>\n",
       "      <td>-4.82</td>\n",
       "      <td>268.36</td>\n",
       "      <td>-8.42</td>\n",
       "      <td>75.70</td>\n",
       "      <td>4.27</td>\n",
       "      <td>3.23</td>\n",
       "      <td>1.04</td>\n",
       "      <td>2.01</td>\n",
       "      <td>3.23</td>\n",
       "      <td>1296.38</td>\n",
       "      <td>1.23</td>\n",
       "      <td>1.96</td>\n",
       "      <td>184.9</td>\n",
       "    </tr>\n",
       "  </tbody>\n",
       "</table>\n",
       "<p>420451 rows × 14 columns</p>\n",
       "</div>"
      ],
      "text/plain": [
       "                     p (mbar)  T (degC)  Tpot (K)  Tdew (degC)  rh (%)  \\\n",
       "datetime                                                                 \n",
       "2009-01-01 00:10:00    996.52     -8.02    265.40        -8.90   93.30   \n",
       "2009-01-01 00:20:00    996.57     -8.41    265.01        -9.28   93.40   \n",
       "2009-01-01 00:30:00    996.53     -8.51    264.91        -9.31   93.90   \n",
       "2009-01-01 00:40:00    996.51     -8.31    265.12        -9.07   94.20   \n",
       "2009-01-01 00:50:00    996.51     -8.27    265.15        -9.04   94.10   \n",
       "...                       ...       ...       ...          ...     ...   \n",
       "2016-12-31 23:20:00   1000.07     -4.05    269.10        -8.13   73.10   \n",
       "2016-12-31 23:30:00    999.93     -3.35    269.81        -8.06   69.71   \n",
       "2016-12-31 23:40:00    999.82     -3.16    270.01        -8.21   67.91   \n",
       "2016-12-31 23:50:00    999.81     -4.23    268.94        -8.53   71.80   \n",
       "2017-01-01 00:00:00    999.82     -4.82    268.36        -8.42   75.70   \n",
       "\n",
       "                     VPmax (mbar)  VPact (mbar)  VPdef (mbar)  sh (g/kg)  \\\n",
       "datetime                                                                   \n",
       "2009-01-01 00:10:00          3.33          3.11          0.22       1.94   \n",
       "2009-01-01 00:20:00          3.23          3.02          0.21       1.89   \n",
       "2009-01-01 00:30:00          3.21          3.01          0.20       1.88   \n",
       "2009-01-01 00:40:00          3.26          3.07          0.19       1.92   \n",
       "2009-01-01 00:50:00          3.27          3.08          0.19       1.92   \n",
       "...                           ...           ...           ...        ...   \n",
       "2016-12-31 23:20:00          4.52          3.30          1.22       2.06   \n",
       "2016-12-31 23:30:00          4.77          3.32          1.44       2.07   \n",
       "2016-12-31 23:40:00          4.84          3.28          1.55       2.05   \n",
       "2016-12-31 23:50:00          4.46          3.20          1.26       1.99   \n",
       "2017-01-01 00:00:00          4.27          3.23          1.04       2.01   \n",
       "\n",
       "                     H2OC (mmol/mol)  rho (g/m**3)  wv (m/s)  max. wv (m/s)  \\\n",
       "datetime                                                                      \n",
       "2009-01-01 00:10:00             3.12       1307.75      1.03           1.75   \n",
       "2009-01-01 00:20:00             3.03       1309.80      0.72           1.50   \n",
       "2009-01-01 00:30:00             3.02       1310.24      0.19           0.63   \n",
       "2009-01-01 00:40:00             3.08       1309.19      0.34           0.50   \n",
       "2009-01-01 00:50:00             3.09       1309.00      0.32           0.63   \n",
       "...                              ...           ...       ...            ...   \n",
       "2016-12-31 23:20:00             3.30       1292.98      0.67           1.52   \n",
       "2016-12-31 23:30:00             3.32       1289.44      1.14           1.92   \n",
       "2016-12-31 23:40:00             3.28       1288.39      1.08           2.00   \n",
       "2016-12-31 23:50:00             3.20       1293.56      1.49           2.16   \n",
       "2017-01-01 00:00:00             3.23       1296.38      1.23           1.96   \n",
       "\n",
       "                     wd (deg)  \n",
       "datetime                       \n",
       "2009-01-01 00:10:00     152.3  \n",
       "2009-01-01 00:20:00     136.1  \n",
       "2009-01-01 00:30:00     171.6  \n",
       "2009-01-01 00:40:00     198.0  \n",
       "2009-01-01 00:50:00     214.3  \n",
       "...                       ...  \n",
       "2016-12-31 23:20:00     240.0  \n",
       "2016-12-31 23:30:00     234.3  \n",
       "2016-12-31 23:40:00     215.2  \n",
       "2016-12-31 23:50:00     225.8  \n",
       "2017-01-01 00:00:00     184.9  \n",
       "\n",
       "[420451 rows x 14 columns]"
      ]
     },
     "execution_count": 5,
     "metadata": {},
     "output_type": "execute_result"
    }
   ],
   "source": [
    "# Pasar la columna \"Date Time\" al formato datetime\n",
    "df['datetime'] = pd.to_datetime(\n",
    "    df['Date Time'],\n",
    "    format = '%d.%m.%Y %H:%M:%S'\n",
    ")\n",
    "\n",
    "# Fijemos esta nueva columna como índice del DataFrame\n",
    "df = df.set_index('datetime')\n",
    "\n",
    "# Ordenemos el dataset de forma ascendente según \"datetime\"\n",
    "df.sort_index(inplace=True)\n",
    "\n",
    "# Y finalmente eliminemos la columna \"Date Time\" original\n",
    "df = df.drop(columns=['Date Time'])\n",
    "df"
   ]
  },
  {
   "cell_type": "code",
   "execution_count": 6,
   "metadata": {
    "colab": {
     "base_uri": "https://localhost:8080/"
    },
    "executionInfo": {
     "elapsed": 525,
     "status": "ok",
     "timestamp": 1701455759819,
     "user": {
      "displayName": "Laura Lanzarini",
      "userId": "09081598862758330982"
     },
     "user_tz": 180
    },
    "id": "_O6cfKuUPem-",
    "outputId": "452172c1-6dcc-40a1-9c77-9b3432165205"
   },
   "outputs": [
    {
     "name": "stdout",
     "output_type": "stream",
     "text": [
      "Cantidad de NaNs:\n",
      "\tColumna p (mbar): 0\n",
      "\tColumna T (degC): 0\n",
      "\tColumna Tpot (K): 0\n",
      "\tColumna Tdew (degC): 0\n",
      "\tColumna rh (%): 0\n",
      "\tColumna VPmax (mbar): 0\n",
      "\tColumna VPact (mbar): 0\n",
      "\tColumna VPdef (mbar): 0\n",
      "\tColumna sh (g/kg): 0\n",
      "\tColumna H2OC (mmol/mol): 0\n",
      "\tColumna rho (g/m**3): 0\n",
      "\tColumna wv (m/s): 0\n",
      "\tColumna max. wv (m/s): 0\n",
      "\tColumna wd (deg): 0\n"
     ]
    }
   ],
   "source": [
    "# Verificar si hay datos faltantes\n",
    "print('Cantidad de NaNs:')\n",
    "for column in df:\n",
    "    nans = df[column].isna().sum()\n",
    "    print(f'\\tColumna {column}: {nans}')"
   ]
  },
  {
   "cell_type": "code",
   "execution_count": 7,
   "metadata": {
    "colab": {
     "base_uri": "https://localhost:8080/"
    },
    "executionInfo": {
     "elapsed": 393,
     "status": "ok",
     "timestamp": 1701455767479,
     "user": {
      "displayName": "Laura Lanzarini",
      "userId": "09081598862758330982"
     },
     "user_tz": 180
    },
    "id": "GclMymLgRP6f",
    "outputId": "363cbf48-3a70-4acd-ba40-780b67706dfd"
   },
   "outputs": [
    {
     "name": "stdout",
     "output_type": "stream",
     "text": [
      "Cantidad de NaNs:\n",
      "\tColumna p (mbar): 0\n",
      "\tColumna T (degC): 0\n",
      "\tColumna Tpot (K): 0\n",
      "\tColumna Tdew (degC): 0\n",
      "\tColumna rh (%): 0\n",
      "\tColumna VPmax (mbar): 0\n",
      "\tColumna VPact (mbar): 0\n",
      "\tColumna VPdef (mbar): 0\n",
      "\tColumna sh (g/kg): 0\n",
      "\tColumna H2OC (mmol/mol): 0\n",
      "\tColumna rho (g/m**3): 0\n",
      "\tColumna wv (m/s): 0\n",
      "\tColumna max. wv (m/s): 0\n",
      "\tColumna wd (deg): 0\n"
     ]
    }
   ],
   "source": [
    "# Si hubiera datos faltantes, puede utilizarse Interpolación lineal para completarlos\n",
    "columns = ['VPmax (mbar)', 'H2OC (mmol/mol)', 'rho (g/m**3)']\n",
    "\n",
    "for column in columns:\n",
    "    df[column] = df[column].interpolate(method='linear')\n",
    "\n",
    "# Verificar que no hay datos faltantes\n",
    "print('Cantidad de NaNs:')\n",
    "for column in df:\n",
    "    nans = df[column].isna().sum()\n",
    "    print(f'\\tColumna {column}: {nans}')"
   ]
  },
  {
   "cell_type": "code",
   "execution_count": 8,
   "metadata": {
    "colab": {
     "base_uri": "https://localhost:8080/"
    },
    "executionInfo": {
     "elapsed": 343,
     "status": "ok",
     "timestamp": 1701455773581,
     "user": {
      "displayName": "Laura Lanzarini",
      "userId": "09081598862758330982"
     },
     "user_tz": 180
    },
    "id": "JDWYwrtfPrTH",
    "outputId": "1c558b1d-3c50-47ac-936c-8d3b110813b1"
   },
   "outputs": [
    {
     "name": "stdout",
     "output_type": "stream",
     "text": [
      "600.0       420117\n",
      "0.0            327\n",
      "1200.0           2\n",
      "1800.0           1\n",
      "57600.0          1\n",
      "60600.0          1\n",
      "267600.0         1\n",
      "Name: datetime, dtype: int64\n"
     ]
    }
   ],
   "source": [
    "# Verificar si la periodicidad de las muestras es exactamente\n",
    "# 1 hora (3600 secs)\n",
    "\n",
    "# Calcular diferencias (en segundos) entre cada par de datos\n",
    "# consecutivos\n",
    "df_time_diffs = df.index.to_series().diff().dt.total_seconds()\n",
    "print(df_time_diffs.value_counts())"
   ]
  },
  {
   "cell_type": "code",
   "execution_count": 9,
   "metadata": {
    "colab": {
     "base_uri": "https://localhost:8080/"
    },
    "executionInfo": {
     "elapsed": 739,
     "status": "ok",
     "timestamp": 1701456570345,
     "user": {
      "displayName": "Laura Lanzarini",
      "userId": "09081598862758330982"
     },
     "user_tz": 180
    },
    "id": "kYc8ViRDR2Fe",
    "outputId": "d47b8c85-8866-4cc5-d731-8d28e740008c"
   },
   "outputs": [
    {
     "name": "stdout",
     "output_type": "stream",
     "text": [
      "600.0       420113\n",
      "1200.0           4\n",
      "1800.0           1\n",
      "57600.0          1\n",
      "60600.0          1\n",
      "267600.0         1\n",
      "Name: datetime, dtype: int64\n"
     ]
    }
   ],
   "source": [
    "# Eliminar duplicados para corregir el problema de diferencias\n",
    "# de 0.0 s\n",
    "df.drop_duplicates(keep='first', inplace=True, ignore_index=False)\n",
    "\n",
    "# Y verificar que han sido eliminados\n",
    "df_time_diffs = df.index.to_series().diff().dt.total_seconds()\n",
    "print(df_time_diffs.value_counts())"
   ]
  },
  {
   "cell_type": "code",
   "execution_count": 10,
   "metadata": {
    "colab": {
     "base_uri": "https://localhost:8080/"
    },
    "executionInfo": {
     "elapsed": 336,
     "status": "ok",
     "timestamp": 1701456574006,
     "user": {
      "displayName": "Laura Lanzarini",
      "userId": "09081598862758330982"
     },
     "user_tz": 180
    },
    "id": "gD02AtfrSPMm",
    "outputId": "8f99ee61-7122-479a-fea6-40b6dbe0e82b"
   },
   "outputs": [
    {
     "name": "stdout",
     "output_type": "stream",
     "text": [
      "3600.0    70127\n",
      "Name: datetime, dtype: int64\n"
     ]
    }
   ],
   "source": [
    "# Reinterpolar el dataset con una periodicidad de 1 hora\n",
    "df2 = df.asfreq(freq='H', method='bfill')\n",
    "\n",
    "# Y verificar que la totalidad del dataset tiene esta periodicidad\n",
    "df_time_diffs = df2.index.to_series().diff().dt.total_seconds()\n",
    "print(df_time_diffs.value_counts())"
   ]
  },
  {
   "cell_type": "code",
   "execution_count": 11,
   "metadata": {
    "colab": {
     "base_uri": "https://localhost:8080/"
    },
    "executionInfo": {
     "elapsed": 380,
     "status": "ok",
     "timestamp": 1701456586092,
     "user": {
      "displayName": "Laura Lanzarini",
      "userId": "09081598862758330982"
     },
     "user_tz": 180
    },
    "id": "ja3KHoKLSpT3",
    "outputId": "3db5fd4b-6a30-4be6-a7a5-49343a89ba0b"
   },
   "outputs": [
    {
     "name": "stdout",
     "output_type": "stream",
     "text": [
      "Cantidad de NaNs:\n",
      "\tColumna p (mbar): 0\n",
      "\tColumna T (degC): 0\n",
      "\tColumna Tpot (K): 0\n",
      "\tColumna Tdew (degC): 0\n",
      "\tColumna rh (%): 0\n",
      "\tColumna VPmax (mbar): 0\n",
      "\tColumna VPact (mbar): 0\n",
      "\tColumna VPdef (mbar): 0\n",
      "\tColumna sh (g/kg): 0\n",
      "\tColumna H2OC (mmol/mol): 0\n",
      "\tColumna rho (g/m**3): 0\n",
      "\tColumna wv (m/s): 0\n",
      "\tColumna max. wv (m/s): 0\n",
      "\tColumna wd (deg): 0\n"
     ]
    }
   ],
   "source": [
    "# Verificar que el dataset resultante no contiene NaNs:\n",
    "print('Cantidad de NaNs:')\n",
    "for column in df:\n",
    "    nans = df2[column].isna().sum()\n",
    "    print(f'\\tColumna {column}: {nans}')"
   ]
  },
  {
   "cell_type": "code",
   "execution_count": 12,
   "metadata": {
    "colab": {
     "base_uri": "https://localhost:8080/"
    },
    "executionInfo": {
     "elapsed": 295,
     "status": "ok",
     "timestamp": 1701456592866,
     "user": {
      "displayName": "Laura Lanzarini",
      "userId": "09081598862758330982"
     },
     "user_tz": 180
    },
    "id": "MBPXv6R8SvnR",
    "outputId": "7bcb24ac-d727-4122-f3f2-af2b1ed66c59"
   },
   "outputs": [
    {
     "name": "stdout",
     "output_type": "stream",
     "text": [
      "Promedios original/modificado: 989.21/989.23\n",
      "Promedios original/modificado: 9.44/9.45\n",
      "Promedios original/modificado: 283.48/283.49\n",
      "Promedios original/modificado: 4.95/4.96\n",
      "Promedios original/modificado: 76.03/76.03\n",
      "Promedios original/modificado: 13.57/13.57\n",
      "Promedios original/modificado: 9.53/9.53\n",
      "Promedios original/modificado: 4.04/4.04\n",
      "Promedios original/modificado: 6.02/6.02\n",
      "Promedios original/modificado: 9.64/9.64\n",
      "Promedios original/modificado: 1216.10/1216.10\n",
      "Promedios original/modificado: 2.13/2.13\n",
      "Promedios original/modificado: 3.53/3.53\n",
      "Promedios original/modificado: 174.73/175.08\n"
     ]
    }
   ],
   "source": [
    "# Y finalmente verificar las columnas originales y modificadas\n",
    "# para constatar que los valores promedio no cambian\n",
    "\n",
    "for column in df:\n",
    "    print(f'Promedios original/modificado: {df[column].mean():.2f}/{df2[column].mean():.2f}')"
   ]
  },
  {
   "cell_type": "code",
   "execution_count": 13,
   "metadata": {
    "id": "y4z7OdzFS8-j"
   },
   "outputs": [],
   "source": [
    "#df2.to_csv(ruta+'weather_dataset_preprocesado.csv')"
   ]
  },
  {
   "cell_type": "code",
   "execution_count": null,
   "metadata": {},
   "outputs": [],
   "source": []
  }
 ],
 "metadata": {
  "accelerator": "GPU",
  "colab": {
   "authorship_tag": "ABX9TyP6/gF+7iXKAlUqRgjjnrLy",
   "gpuType": "T4",
   "provenance": [
    {
     "file_id": "1xG4twv52AiueaEwKQ9ht1BtrAI61Hgv2",
     "timestamp": 1697320700808
    },
    {
     "file_id": "1t_bPg7uwm4hBqwZV7jKOP_MSs3y30ln6",
     "timestamp": 1697228777783
    }
   ]
  },
  "kernelspec": {
   "display_name": "Python 3 (ipykernel)",
   "language": "python",
   "name": "python3"
  },
  "language_info": {
   "codemirror_mode": {
    "name": "ipython",
    "version": 3
   },
   "file_extension": ".py",
   "mimetype": "text/x-python",
   "name": "python",
   "nbconvert_exporter": "python",
   "pygments_lexer": "ipython3",
   "version": "3.7.16"
  }
 },
 "nbformat": 4,
 "nbformat_minor": 1
}
