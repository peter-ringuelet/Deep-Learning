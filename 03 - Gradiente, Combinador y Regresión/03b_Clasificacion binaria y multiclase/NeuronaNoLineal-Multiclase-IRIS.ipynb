{
 "cells": [
  {
   "cell_type": "code",
   "execution_count": 1,
   "id": "10fa1a47-2367-4dfe-9295-77395ae3d609",
   "metadata": {},
   "outputs": [],
   "source": [
    "ColabNotebook = 'google.colab' in str(get_ipython())\n",
    "\n",
    "if ColabNotebook:\n",
    "    # monta G-drive en entorno COLAB\n",
    "    from google.colab import drive\n",
    "    drive.mount('/content/drive/')\n",
    "\n",
    "    # carpeta donde se encuentran archivos .py auxiliares\n",
    "    FUENTES_DIR = '/content/drive/MyDrive/Colab Notebooks/FUENTES/'\n",
    "    DATOS_DIR = '/content/drive/MyDrive/Colab Notebooks/DATOS/'      # carpeta donde se encuentran los datasets\n",
    "else:\n",
    "    # configuración para notebook con instalación LOCAL\n",
    "    FUENTES_DIR = '../Fuentes'         # carpeta donde se encuentran archivos .py auxiliares\n",
    "    DATOS_DIR   = '../Datos/' # carpeta donde se encuentran los datasets\n",
    "\n",
    "# agrega ruta de busqueda donde tenemos archivos .py\n",
    "import sys\n",
    "sys.path.append(FUENTES_DIR)"
   ]
  },
  {
   "cell_type": "code",
   "execution_count": 2,
   "id": "f3fbf3c3",
   "metadata": {},
   "outputs": [],
   "source": [
    "%matplotlib inline\n",
    "import pandas as pd\n",
    "import numpy as np\n",
    "from sklearn import preprocessing, metrics, model_selection\n",
    "\n",
    "import time\n",
    "#from matplotlib import pyplot as plt\n",
    "from matplotlib import pylab as plt\n",
    "from IPython import display\n"
   ]
  },
  {
   "cell_type": "code",
   "execution_count": 3,
   "id": "782b01a0",
   "metadata": {},
   "outputs": [
    {
     "data": {
      "text/html": [
       "<div>\n",
       "<style scoped>\n",
       "    .dataframe tbody tr th:only-of-type {\n",
       "        vertical-align: middle;\n",
       "    }\n",
       "\n",
       "    .dataframe tbody tr th {\n",
       "        vertical-align: top;\n",
       "    }\n",
       "\n",
       "    .dataframe thead th {\n",
       "        text-align: right;\n",
       "    }\n",
       "</style>\n",
       "<table border=\"1\" class=\"dataframe\">\n",
       "  <thead>\n",
       "    <tr style=\"text-align: right;\">\n",
       "      <th></th>\n",
       "      <th>sepallength</th>\n",
       "      <th>sepalwidth</th>\n",
       "      <th>petallength</th>\n",
       "      <th>petalwidth</th>\n",
       "      <th>class</th>\n",
       "    </tr>\n",
       "  </thead>\n",
       "  <tbody>\n",
       "    <tr>\n",
       "      <th>0</th>\n",
       "      <td>5.1</td>\n",
       "      <td>3.5</td>\n",
       "      <td>1.4</td>\n",
       "      <td>0.2</td>\n",
       "      <td>Iris-setosa</td>\n",
       "    </tr>\n",
       "    <tr>\n",
       "      <th>1</th>\n",
       "      <td>4.9</td>\n",
       "      <td>3.0</td>\n",
       "      <td>1.4</td>\n",
       "      <td>0.2</td>\n",
       "      <td>Iris-setosa</td>\n",
       "    </tr>\n",
       "    <tr>\n",
       "      <th>2</th>\n",
       "      <td>4.7</td>\n",
       "      <td>3.2</td>\n",
       "      <td>1.3</td>\n",
       "      <td>0.2</td>\n",
       "      <td>Iris-setosa</td>\n",
       "    </tr>\n",
       "    <tr>\n",
       "      <th>3</th>\n",
       "      <td>4.6</td>\n",
       "      <td>3.1</td>\n",
       "      <td>1.5</td>\n",
       "      <td>0.2</td>\n",
       "      <td>Iris-setosa</td>\n",
       "    </tr>\n",
       "    <tr>\n",
       "      <th>4</th>\n",
       "      <td>5.0</td>\n",
       "      <td>3.6</td>\n",
       "      <td>1.4</td>\n",
       "      <td>0.2</td>\n",
       "      <td>Iris-setosa</td>\n",
       "    </tr>\n",
       "    <tr>\n",
       "      <th>...</th>\n",
       "      <td>...</td>\n",
       "      <td>...</td>\n",
       "      <td>...</td>\n",
       "      <td>...</td>\n",
       "      <td>...</td>\n",
       "    </tr>\n",
       "    <tr>\n",
       "      <th>145</th>\n",
       "      <td>6.7</td>\n",
       "      <td>3.0</td>\n",
       "      <td>5.2</td>\n",
       "      <td>2.3</td>\n",
       "      <td>Iris-virginica</td>\n",
       "    </tr>\n",
       "    <tr>\n",
       "      <th>146</th>\n",
       "      <td>6.3</td>\n",
       "      <td>2.5</td>\n",
       "      <td>5.0</td>\n",
       "      <td>1.9</td>\n",
       "      <td>Iris-virginica</td>\n",
       "    </tr>\n",
       "    <tr>\n",
       "      <th>147</th>\n",
       "      <td>6.5</td>\n",
       "      <td>3.0</td>\n",
       "      <td>5.2</td>\n",
       "      <td>2.0</td>\n",
       "      <td>Iris-virginica</td>\n",
       "    </tr>\n",
       "    <tr>\n",
       "      <th>148</th>\n",
       "      <td>6.2</td>\n",
       "      <td>3.4</td>\n",
       "      <td>5.4</td>\n",
       "      <td>2.3</td>\n",
       "      <td>Iris-virginica</td>\n",
       "    </tr>\n",
       "    <tr>\n",
       "      <th>149</th>\n",
       "      <td>5.9</td>\n",
       "      <td>3.0</td>\n",
       "      <td>5.1</td>\n",
       "      <td>1.8</td>\n",
       "      <td>Iris-virginica</td>\n",
       "    </tr>\n",
       "  </tbody>\n",
       "</table>\n",
       "<p>150 rows × 5 columns</p>\n",
       "</div>"
      ],
      "text/plain": [
       "     sepallength  sepalwidth  petallength  petalwidth           class\n",
       "0            5.1         3.5          1.4         0.2     Iris-setosa\n",
       "1            4.9         3.0          1.4         0.2     Iris-setosa\n",
       "2            4.7         3.2          1.3         0.2     Iris-setosa\n",
       "3            4.6         3.1          1.5         0.2     Iris-setosa\n",
       "4            5.0         3.6          1.4         0.2     Iris-setosa\n",
       "..           ...         ...          ...         ...             ...\n",
       "145          6.7         3.0          5.2         2.3  Iris-virginica\n",
       "146          6.3         2.5          5.0         1.9  Iris-virginica\n",
       "147          6.5         3.0          5.2         2.0  Iris-virginica\n",
       "148          6.2         3.4          5.4         2.3  Iris-virginica\n",
       "149          5.9         3.0          5.1         1.8  Iris-virginica\n",
       "\n",
       "[150 rows x 5 columns]"
      ]
     },
     "execution_count": 3,
     "metadata": {},
     "output_type": "execute_result"
    }
   ],
   "source": [
    "datos = pd.read_csv(DATOS_DIR+'iris.csv')\n",
    "datos"
   ]
  },
  {
   "cell_type": "code",
   "execution_count": 4,
   "id": "c15a0610",
   "metadata": {},
   "outputs": [],
   "source": [
    "X = np.array([[-1.73,-0.05,-1.38,-1.31], \n",
    "              [-0.37,-1.62, 0.22, 0.18],\n",
    "              [ 1.11,-0.05, 0.93, 1.54],\n",
    "              [-0.99, 0.39,-1.44,-1.31],\n",
    "              [ 1.73, 1.29, 1.46, 1.81]])\n",
    "Y=np.array([[1,0,0], \n",
    "            [0,1,0],\n",
    "            [0,0,1],\n",
    "            [1,0,0],\n",
    "            [0,0,1]])"
   ]
  },
  {
   "cell_type": "code",
   "execution_count": 5,
   "id": "6b2706a2",
   "metadata": {},
   "outputs": [],
   "source": [
    "W = np.array([[-1.47, 1.93, 2.13,-2.49],\n",
    "              [ 0.79,-1.38, 3.36,-3.57],\n",
    "              [-1.57,-0.99, -6.17, 3.92]])\n",
    "\n",
    "b = np.array([[-2.56],\n",
    "              [-0.35],\n",
    "              [-7.03]])"
   ]
  },
  {
   "cell_type": "code",
   "execution_count": 6,
   "id": "f273dad6",
   "metadata": {},
   "outputs": [
    {
     "data": {
      "text/plain": [
       "array([[-1.73, -0.05, -1.38, -1.31]])"
      ]
     },
     "execution_count": 6,
     "metadata": {},
     "output_type": "execute_result"
    }
   ],
   "source": [
    "e = 0  # nro. de ejemplo a introducir a la red\n",
    "xi = X[e:e+1, :]  #fila e de X\n",
    "yi = Y[e:e+1, :]  # respuesta esperada para el ejemplo e\n",
    "xi"
   ]
  },
  {
   "cell_type": "code",
   "execution_count": 7,
   "id": "66bb3a55",
   "metadata": {},
   "outputs": [
    {
     "data": {
      "text/plain": [
       "array([[1, 0, 0]])"
      ]
     },
     "execution_count": 7,
     "metadata": {},
     "output_type": "execute_result"
    }
   ],
   "source": [
    "yi"
   ]
  },
  {
   "cell_type": "code",
   "execution_count": 8,
   "id": "1c975ebb",
   "metadata": {},
   "outputs": [
    {
     "name": "stdout",
     "output_type": "stream",
     "text": [
      "neta \n",
      " [[ 0.21]\n",
      " [-1.61]\n",
      " [-0.89]]\n",
      "salidas = \n",
      " [[0.5521]\n",
      " [0.1669]\n",
      " [0.2921]]\n"
     ]
    }
   ],
   "source": [
    "netas = W @ xi.T + b\n",
    "print(\"neta \\n\", np.round(netas,2))\n",
    "salidas = 1.0/(1+np.exp(-netas))\n",
    "print(\"salidas = \\n\", np.round(salidas,4))"
   ]
  },
  {
   "cell_type": "code",
   "execution_count": 9,
   "id": "d60150d6",
   "metadata": {},
   "outputs": [
    {
     "name": "stdout",
     "output_type": "stream",
     "text": [
      "ErrorSalida = \n",
      " [[ 0.4479]\n",
      " [-0.1669]\n",
      " [-0.2921]]\n",
      "deriv_Fun = \n",
      " [[0.2473]\n",
      " [0.139 ]\n",
      " [0.2068]]\n",
      "delta = \n",
      " [[ 0.1108]\n",
      " [-0.0232]\n",
      " [-0.0604]]\n"
     ]
    }
   ],
   "source": [
    "ErrorSalida = yi.T-salidas\n",
    "print(\"ErrorSalida = \\n\", np.round(ErrorSalida,4))\n",
    "\n",
    "deriv_Fun = salidas * (1-salidas)\n",
    "print(\"deriv_Fun = \\n\", np.round(deriv_Fun,4))\n",
    "delta = ErrorSalida * deriv_Fun\n",
    "print(\"delta = \\n\", np.round(delta,4))\n",
    "\n",
    "#print(\"W2.T = \\n\", np.round(W2.T,2))"
   ]
  },
  {
   "cell_type": "code",
   "execution_count": 10,
   "id": "92087b98",
   "metadata": {},
   "outputs": [
    {
     "data": {
      "text/plain": [
       "(3, 1)"
      ]
     },
     "execution_count": 10,
     "metadata": {},
     "output_type": "execute_result"
    }
   ],
   "source": [
    "delta.shape"
   ]
  },
  {
   "cell_type": "code",
   "execution_count": 11,
   "id": "053c152a",
   "metadata": {},
   "outputs": [
    {
     "name": "stdout",
     "output_type": "stream",
     "text": [
      "W = \n",
      " [[-1.49  1.93  2.11 -2.5 ]\n",
      " [ 0.79 -1.38  3.36 -3.57]\n",
      " [-1.56 -0.99 -6.16  3.93]]\n",
      "b = \n",
      " [[-2.55]\n",
      " [-0.35]\n",
      " [-7.04]]\n"
     ]
    }
   ],
   "source": [
    "# corregir los pesos\n",
    "alfa=0.1\n",
    "\n",
    "W = W + alfa * delta @ xi \n",
    "b = b + alfa * delta \n",
    "\n",
    "print(\"W = \\n\", np.round(W,2))\n",
    "print(\"b = \\n\", np.round(b,2))\n"
   ]
  },
  {
   "cell_type": "code",
   "execution_count": 12,
   "id": "f49b117a",
   "metadata": {},
   "outputs": [
    {
     "name": "stdout",
     "output_type": "stream",
     "text": [
      "salidas = \n",
      " [[0.57]\n",
      " [0.16]\n",
      " [0.28]]\n",
      "ErrorSalida = \n",
      " [[ 0.4272]\n",
      " [-0.1645]\n",
      " [-0.2827]]\n"
     ]
    }
   ],
   "source": [
    "netas = W @ xi.T + b\n",
    "salidas = 1.0/(1+np.exp(-netas))\n",
    "print(\"salidas = \\n\", np.round(salidas,2))\n",
    "\n",
    "ErrorSalidaNew = yi.T-salidas\n",
    "print(\"ErrorSalida = \\n\", np.round(ErrorSalidaNew,4))"
   ]
  },
  {
   "cell_type": "code",
   "execution_count": 13,
   "id": "85220618",
   "metadata": {},
   "outputs": [
    {
     "name": "stdout",
     "output_type": "stream",
     "text": [
      "Error inicial =  0.3138285974069428\n",
      "Error luego de la correccion =  0.2894\n"
     ]
    }
   ],
   "source": [
    "print(\"Error inicial = \", np.sum(ErrorSalida**2))\n",
    "print(\"Error luego de la correccion = \", np.round(np.sum(ErrorSalidaNew**2),4))"
   ]
  },
  {
   "cell_type": "code",
   "execution_count": null,
   "id": "8f5d79ed",
   "metadata": {},
   "outputs": [],
   "source": []
  }
 ],
 "metadata": {
  "kernelspec": {
   "display_name": "Python 3 (ipykernel)",
   "language": "python",
   "name": "python3"
  },
  "language_info": {
   "codemirror_mode": {
    "name": "ipython",
    "version": 3
   },
   "file_extension": ".py",
   "mimetype": "text/x-python",
   "name": "python",
   "nbconvert_exporter": "python",
   "pygments_lexer": "ipython3",
   "version": "3.11.7"
  }
 },
 "nbformat": 4,
 "nbformat_minor": 5
}
