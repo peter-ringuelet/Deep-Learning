{
 "cells": [
  {
   "cell_type": "code",
   "execution_count": 1,
   "id": "64451a05",
   "metadata": {},
   "outputs": [],
   "source": [
    "ColabNotebook = 'google.colab' in str(get_ipython())\n",
    "\n",
    "if ColabNotebook:\n",
    "    # monta G-drive en entorno COLAB\n",
    "    from google.colab import drive\n",
    "    drive.mount('/content/drive/')\n",
    "\n",
    "    # carpeta donde se encuentran archivos .py auxiliares\n",
    "    FUENTES_DIR = '/content/drive/MyDrive/Colab Notebooks/FUENTES/'\n",
    "    DATOS_DIR = '/content/drive/MyDrive/Colab Notebooks/DATOS/'      # carpeta donde se encuentran los datasets\n",
    "else:\n",
    "    # configuración para notebook con instalación LOCAL\n",
    "    FUENTES_DIR = '../Fuentes'         # carpeta donde se encuentran archivos .py auxiliares\n",
    "    DATOS_DIR   = '../Datos/' # carpeta donde se encuentran los datasets\n",
    "\n",
    "# agrega ruta de busqueda donde tenemos archivos .py\n",
    "import sys\n",
    "sys.path.append(FUENTES_DIR)"
   ]
  },
  {
   "cell_type": "code",
   "execution_count": 2,
   "id": "f3fbf3c3",
   "metadata": {},
   "outputs": [],
   "source": [
    "%matplotlib inline\n",
    "import pandas as pd\n",
    "import numpy as np\n",
    "from sklearn import preprocessing, metrics, model_selection\n",
    "\n",
    "import time\n",
    "#from matplotlib import pyplot as plt\n",
    "from matplotlib import pylab as plt\n",
    "from IPython import display\n",
    "\n",
    "from grafica import *\n",
    "from ClassRNMulticlase import RNMulticlase"
   ]
  },
  {
   "cell_type": "code",
   "execution_count": 3,
   "id": "782b01a0",
   "metadata": {},
   "outputs": [
    {
     "data": {
      "text/html": [
       "<div>\n",
       "<style scoped>\n",
       "    .dataframe tbody tr th:only-of-type {\n",
       "        vertical-align: middle;\n",
       "    }\n",
       "\n",
       "    .dataframe tbody tr th {\n",
       "        vertical-align: top;\n",
       "    }\n",
       "\n",
       "    .dataframe thead th {\n",
       "        text-align: right;\n",
       "    }\n",
       "</style>\n",
       "<table border=\"1\" class=\"dataframe\">\n",
       "  <thead>\n",
       "    <tr style=\"text-align: right;\">\n",
       "      <th></th>\n",
       "      <th>sepallength</th>\n",
       "      <th>sepalwidth</th>\n",
       "      <th>petallength</th>\n",
       "      <th>petalwidth</th>\n",
       "      <th>class</th>\n",
       "    </tr>\n",
       "  </thead>\n",
       "  <tbody>\n",
       "    <tr>\n",
       "      <th>0</th>\n",
       "      <td>5.1</td>\n",
       "      <td>3.5</td>\n",
       "      <td>1.4</td>\n",
       "      <td>0.2</td>\n",
       "      <td>Iris-setosa</td>\n",
       "    </tr>\n",
       "    <tr>\n",
       "      <th>1</th>\n",
       "      <td>4.9</td>\n",
       "      <td>3.0</td>\n",
       "      <td>1.4</td>\n",
       "      <td>0.2</td>\n",
       "      <td>Iris-setosa</td>\n",
       "    </tr>\n",
       "    <tr>\n",
       "      <th>2</th>\n",
       "      <td>4.7</td>\n",
       "      <td>3.2</td>\n",
       "      <td>1.3</td>\n",
       "      <td>0.2</td>\n",
       "      <td>Iris-setosa</td>\n",
       "    </tr>\n",
       "    <tr>\n",
       "      <th>3</th>\n",
       "      <td>4.6</td>\n",
       "      <td>3.1</td>\n",
       "      <td>1.5</td>\n",
       "      <td>0.2</td>\n",
       "      <td>Iris-setosa</td>\n",
       "    </tr>\n",
       "    <tr>\n",
       "      <th>4</th>\n",
       "      <td>5.0</td>\n",
       "      <td>3.6</td>\n",
       "      <td>1.4</td>\n",
       "      <td>0.2</td>\n",
       "      <td>Iris-setosa</td>\n",
       "    </tr>\n",
       "    <tr>\n",
       "      <th>...</th>\n",
       "      <td>...</td>\n",
       "      <td>...</td>\n",
       "      <td>...</td>\n",
       "      <td>...</td>\n",
       "      <td>...</td>\n",
       "    </tr>\n",
       "    <tr>\n",
       "      <th>145</th>\n",
       "      <td>6.7</td>\n",
       "      <td>3.0</td>\n",
       "      <td>5.2</td>\n",
       "      <td>2.3</td>\n",
       "      <td>Iris-virginica</td>\n",
       "    </tr>\n",
       "    <tr>\n",
       "      <th>146</th>\n",
       "      <td>6.3</td>\n",
       "      <td>2.5</td>\n",
       "      <td>5.0</td>\n",
       "      <td>1.9</td>\n",
       "      <td>Iris-virginica</td>\n",
       "    </tr>\n",
       "    <tr>\n",
       "      <th>147</th>\n",
       "      <td>6.5</td>\n",
       "      <td>3.0</td>\n",
       "      <td>5.2</td>\n",
       "      <td>2.0</td>\n",
       "      <td>Iris-virginica</td>\n",
       "    </tr>\n",
       "    <tr>\n",
       "      <th>148</th>\n",
       "      <td>6.2</td>\n",
       "      <td>3.4</td>\n",
       "      <td>5.4</td>\n",
       "      <td>2.3</td>\n",
       "      <td>Iris-virginica</td>\n",
       "    </tr>\n",
       "    <tr>\n",
       "      <th>149</th>\n",
       "      <td>5.9</td>\n",
       "      <td>3.0</td>\n",
       "      <td>5.1</td>\n",
       "      <td>1.8</td>\n",
       "      <td>Iris-virginica</td>\n",
       "    </tr>\n",
       "  </tbody>\n",
       "</table>\n",
       "<p>150 rows × 5 columns</p>\n",
       "</div>"
      ],
      "text/plain": [
       "     sepallength  sepalwidth  petallength  petalwidth           class\n",
       "0            5.1         3.5          1.4         0.2     Iris-setosa\n",
       "1            4.9         3.0          1.4         0.2     Iris-setosa\n",
       "2            4.7         3.2          1.3         0.2     Iris-setosa\n",
       "3            4.6         3.1          1.5         0.2     Iris-setosa\n",
       "4            5.0         3.6          1.4         0.2     Iris-setosa\n",
       "..           ...         ...          ...         ...             ...\n",
       "145          6.7         3.0          5.2         2.3  Iris-virginica\n",
       "146          6.3         2.5          5.0         1.9  Iris-virginica\n",
       "147          6.5         3.0          5.2         2.0  Iris-virginica\n",
       "148          6.2         3.4          5.4         2.3  Iris-virginica\n",
       "149          5.9         3.0          5.1         1.8  Iris-virginica\n",
       "\n",
       "[150 rows x 5 columns]"
      ]
     },
     "execution_count": 3,
     "metadata": {},
     "output_type": "execute_result"
    }
   ],
   "source": [
    "datos = pd.read_csv(DATOS_DIR + 'iris.csv')\n",
    "datos"
   ]
  },
  {
   "cell_type": "code",
   "execution_count": 4,
   "id": "34514a5e",
   "metadata": {},
   "outputs": [],
   "source": [
    "X = np.array(datos.iloc[:, :4])\n",
    "T = np.array(datos['class'])\n",
    "nomClases = datos['class'].unique()"
   ]
  },
  {
   "cell_type": "code",
   "execution_count": 5,
   "id": "b6b4b05f",
   "metadata": {},
   "outputs": [
    {
     "name": "stdout",
     "output_type": "stream",
     "text": [
      "Primeros ejemplos con sus valores de rta.esperados\n",
      "\n",
      "X\n",
      " [[5.1 3.5 1.4 0.2]\n",
      " [4.9 3.  1.4 0.2]\n",
      " [4.7 3.2 1.3 0.2]\n",
      " [4.6 3.1 1.5 0.2]\n",
      " [5.  3.6 1.4 0.2]]\n",
      "T\n",
      " ['Iris-setosa' 'Iris-setosa' 'Iris-setosa' 'Iris-setosa' 'Iris-setosa']\n"
     ]
    }
   ],
   "source": [
    "print(\"Primeros ejemplos con sus valores de rta.esperados\\n\")\n",
    "print(\"X\\n\", X[0:5,:])\n",
    "print(\"T\\n\", T[0:5])\n"
   ]
  },
  {
   "cell_type": "code",
   "execution_count": 6,
   "id": "b117412d",
   "metadata": {},
   "outputs": [],
   "source": [
    "#--- CONJUNTOS DE ENTRENAMIENTO Y TESTEO ---\n",
    "X_train, X_test, T_train, T_test = model_selection.train_test_split(X, T, test_size=0.50) #, random_state=42)\n",
    "normalizador = preprocessing.StandardScaler()\n",
    "X_train = normalizador.fit_transform(X_train)\n",
    "X_test = normalizador.transform(X_test)\n"
   ]
  },
  {
   "cell_type": "code",
   "execution_count": 7,
   "id": "cb1b91c7",
   "metadata": {},
   "outputs": [
    {
     "name": "stdout",
     "output_type": "stream",
     "text": [
      "T_train\n",
      " ['Iris-virginica' 'Iris-versicolor' 'Iris-virginica' 'Iris-setosa'\n",
      " 'Iris-versicolor']\n",
      "T_trainB\n",
      " [[0. 0. 1.]\n",
      " [0. 1. 0.]\n",
      " [0. 0. 1.]\n",
      " [1. 0. 0.]\n",
      " [0. 1. 0.]]\n",
      "Categorías detectadas: [array(['Iris-setosa', 'Iris-versicolor', 'Iris-virginica'], dtype=object)]\n"
     ]
    }
   ],
   "source": [
    "# imprimir los primeros valores de clase\n",
    "print(\"T_train\\n\", T_train[0:5])\n",
    "\n",
    "# Crear instancia del OneHotEncoder\n",
    "enc = preprocessing.OneHotEncoder(categories='auto', handle_unknown='ignore')\n",
    "\n",
    "# Ajustar el codificador y transformar los datos\n",
    "# utilizar fit_transform sobre los datos de entrenamiento y fit sobre los de testeo\n",
    "T_trainB = enc.fit_transform(T_train.reshape(-1,1)).toarray()\n",
    "T_testB = enc.transform(T_test.reshape(-1,1)).toarray()\n",
    "\n",
    "# Imprimir los primeros resultados codificados\n",
    "print(\"T_trainB\\n\", T_trainB[0:5])\n",
    "\n",
    "# Obtener las categorías detectadas automáticamente\n",
    "categorias_detectadas = enc.categories_\n",
    "print(\"Categorías detectadas:\", categorias_detectadas)"
   ]
  },
  {
   "cell_type": "code",
   "execution_count": 8,
   "id": "687f847b",
   "metadata": {},
   "outputs": [],
   "source": [
    "# Opciones para la función de activación: 'sigmoid', 'tanh' o 'softmax'\n",
    "# Opciones para la función de costo : 'ECM', 'EC_binaria', 'EC'\n",
    "# Combinaciones válidas: 'sigmoid'-'ECM', 'sigmoid'-'EC_binaria', 'tanh'-'ECM', 'softmax'-'EC'\n",
    "\n",
    "funcion = 'softmax'  \n",
    "funcionCOSTO = 'EC'\n",
    "\n",
    "if (funcion == 'tanh'):\n",
    "    T_trainB = 2*T_trainB-1\n",
    "    T_testB = 2*T_testB-1\n",
    "    \n",
    "\n",
    "rn = RNMulticlase(alpha=0.1, n_iter=800, cotaE=1e-06, FUN=funcion, COSTO=funcionCOSTO, random_state=None)\n",
    "resul = rn.fit(X_train, T_trainB)"
   ]
  },
  {
   "cell_type": "code",
   "execution_count": 9,
   "id": "18ec3974",
   "metadata": {},
   "outputs": [
    {
     "name": "stdout",
     "output_type": "stream",
     "text": [
      "Pesos obtenidos\n",
      "\n",
      "[[-3.53525004  3.55022136 -5.5112192  -5.34381729]\n",
      " [ 2.09577965 -0.65305348 -3.3685394  -1.30947448]\n",
      " [ 0.6005731  -2.30973439  8.25993617  7.06117259]]\n",
      "[[ 1.58242107]\n",
      " [ 7.0763579 ]\n",
      " [-8.1223967 ]]\n"
     ]
    }
   ],
   "source": [
    "print(\"Pesos obtenidos\\n\")\n",
    "print(rn.w_)\n",
    "print(rn.b_)"
   ]
  },
  {
   "cell_type": "code",
   "execution_count": 10,
   "id": "1fd69b48",
   "metadata": {},
   "outputs": [
    {
     "data": {
      "image/png": "[encoded data removed]",
      "text/plain": [
       "<Figure size 288x216 with 1 Axes>"
      ]
     },
     "metadata": {
      "needs_background": "light"
     },
     "output_type": "display_data"
    }
   ],
   "source": [
    "plt.figure(figsize=(4,3))\n",
    "plt.plot(range(1, len(rn.errors_) + 1), rn.errors_, marker='o')\n",
    "plt.xlabel('Iteraciones')\n",
    "plt.ylabel(funcionCOSTO)\n",
    "plt.show()"
   ]
  },
  {
   "cell_type": "code",
   "execution_count": 11,
   "id": "379b1e2e",
   "metadata": {},
   "outputs": [
    {
     "data": {
      "image/png": "[encoded data removed]",
      "text/plain": [
       "<Figure size 288x216 with 1 Axes>"
      ]
     },
     "metadata": {
      "needs_background": "light"
     },
     "output_type": "display_data"
    }
   ],
   "source": [
    "plt.figure(figsize=(4,3))\n",
    "plt.plot(range(1, len(rn.accuracy_) + 1), rn.accuracy_, marker='o')\n",
    "plt.xlabel('Iteraciones')\n",
    "plt.ylabel('accuracy')\n",
    "plt.title(\"Evolución durante el entrenamiento\")\n",
    "plt.show()"
   ]
  },
  {
   "cell_type": "code",
   "execution_count": 12,
   "id": "4626dfc3",
   "metadata": {},
   "outputs": [
    {
     "name": "stdout",
     "output_type": "stream",
     "text": [
      "acc.Train = 0.97    acc.Test = 1.00\n"
     ]
    }
   ],
   "source": [
    "#-- accuracy en entrenamiento y testeo ---\n",
    "acc_Train = rn.accuracy(X_train, T_trainB)\n",
    "acc_Test = rn.accuracy(X_test, T_testB)\n",
    "print(\"acc.Train = %.2f    acc.Test = %.2f\" % (acc_Train, acc_Test))"
   ]
  },
  {
   "cell_type": "markdown",
   "id": "19e5844a",
   "metadata": {},
   "source": [
    "## Otras funciones de RNMulticlase"
   ]
  },
  {
   "cell_type": "code",
   "execution_count": 13,
   "id": "2116f767",
   "metadata": {},
   "outputs": [
    {
     "data": {
      "text/plain": [
       "array([[  1.64,   6.45,  -7.49],\n",
       "       [ -9.7 ,   4.35,   5.3 ],\n",
       "       [ 21.2 ,  10.5 , -29.36],\n",
       "       [ 20.53,   9.52, -27.9 ],\n",
       "       [-18.65,   2.93,  15.23]])"
      ]
     },
     "execution_count": 13,
     "metadata": {},
     "output_type": "execute_result"
    }
   ],
   "source": [
    "# netas de la capa de salida\n",
    "# netas es una matriz de (Cant_de_ejemplos x Cantidad de neuronas de salida)\n",
    "netas = rn.net_input(X_test[:5, :])\n",
    "np.round(netas,2)"
   ]
  },
  {
   "cell_type": "code",
   "execution_count": 14,
   "id": "f94c3e2b",
   "metadata": {},
   "outputs": [
    {
     "name": "stdout",
     "output_type": "stream",
     "text": [
      "valores continuos obtenidos\n",
      "[[8.14879648e-03 9.91850327e-01 8.76371167e-07]\n",
      " [2.20870519e-07 2.79100500e-01 7.20899279e-01]\n",
      " [9.99977408e-01 2.25923759e-05 1.10201863e-22]\n",
      " [9.99983378e-01 1.66221544e-05 9.26383923e-22]\n",
      " [1.91980159e-15 4.52366408e-06 9.99995476e-01]]\n",
      "valores redondeados a 3 decimales\n",
      "[[0.008 0.992 0.   ]\n",
      " [0.    0.279 0.721]\n",
      " [1.    0.    0.   ]\n",
      " [1.    0.    0.   ]\n",
      " [0.    0.    1.   ]]\n"
     ]
    }
   ],
   "source": [
    "# salida continua de cada neurona\n",
    "Y_pred = rn.predict_nOut(X_test[:5, :])\n",
    "print(\"valores continuos obtenidos\")\n",
    "print(Y_pred)\n",
    "\n",
    "print(\"valores redondeados a 3 decimales\")\n",
    "print(np.round(Y_pred,3))"
   ]
  },
  {
   "cell_type": "code",
   "execution_count": 15,
   "id": "5d16802a",
   "metadata": {},
   "outputs": [
    {
     "name": "stdout",
     "output_type": "stream",
     "text": [
      "Resultados obtenidos con rn.predict:\n",
      "[1 2 0 0 2]\n",
      "\n",
      "Para obtener valores enteros puede usarse np.argmax para identificar la neurona con salida más alta\n",
      "[1 2 0 0 2]\n",
      "\n",
      "Otra opción es numerizar los valores originales utilizando las categorías detectadas sobre los datos de entrenamiento\n",
      "[1 2 0 0 2]\n"
     ]
    }
   ],
   "source": [
    "Y_pred = rn.predict(X_test)\n",
    "print(\"Resultados obtenidos con rn.predict:\")\n",
    "print(Y_pred[:5])\n",
    "\n",
    "print(\"\\nPara obtener valores enteros puede usarse np.argmax para identificar la neurona con salida más alta\")\n",
    "T_test_num = np.argmax(T_testB, axis=1)\n",
    "print(T_test_num[:5])\n",
    "\n",
    "print(\"\\nOtra opción es numerizar los valores originales utilizando las categorías detectadas sobre los datos de entrenamiento\")\n",
    "# Crear instancia del LabelEncoder\n",
    "label_encoder = preprocessing.LabelEncoder()\n",
    "# Asignar las clases manualmente\n",
    "label_encoder.classes_ = enc.categories_[0]  #estas son las categorías detectadaspor el OneHotEncoder\n",
    "T_test_num2 = label_encoder.transform(T_test)\n",
    "print(T_test_num2[:5])\n"
   ]
  },
  {
   "cell_type": "code",
   "execution_count": 16,
   "id": "d5fc870a",
   "metadata": {},
   "outputs": [
    {
     "name": "stdout",
     "output_type": "stream",
     "text": [
      "Total de ejemplos de testeo bien clasificados =  75\n",
      "Tasa de aciertos sobre los datos de testeo (accuracy):1.0000\n",
      "acc.Test = 1.0000\n"
     ]
    }
   ],
   "source": [
    "nAciertos = np.sum((Y_pred==T_test_num)*1)\n",
    "print(\"Total de ejemplos de testeo bien clasificados = \", nAciertos)\n",
    "print(\"Tasa de aciertos sobre los datos de testeo (accuracy):%.4f\" % (nAciertos/len(Y_pred)))\n",
    "\n",
    "acc_Test = rn.accuracy(X_test, T_testB)\n",
    "print(\"acc.Test = %.4f\" % acc_Test)"
   ]
  },
  {
   "cell_type": "code",
   "execution_count": null,
   "id": "c15a0610",
   "metadata": {},
   "outputs": [],
   "source": []
  }
 ],
 "metadata": {
  "kernelspec": {
   "display_name": "Python 3",
   "language": "python",
   "name": "python3"
  },
  "language_info": {
   "codemirror_mode": {
    "name": "ipython",
    "version": 3
   },
   "file_extension": ".py",
   "mimetype": "text/x-python",
   "name": "python",
   "nbconvert_exporter": "python",
   "pygments_lexer": "ipython3",
   "version": "3.8.8"
  }
 },
 "nbformat": 4,
 "nbformat_minor": 5
}
