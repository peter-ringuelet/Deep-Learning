{
 "cells": [
  {
   "cell_type": "code",
   "execution_count": 1,
   "id": "9d14bae8",
   "metadata": {},
   "outputs": [],
   "source": [
    "ColabNotebook = 'google.colab' in str(get_ipython())\n",
    "\n",
    "if ColabNotebook:\n",
    "    # monta G-drive en entorno COLAB\n",
    "    from google.colab import drive\n",
    "    drive.mount('/content/drive/')\n",
    "\n",
    "    # carpeta donde se encuentran archivos .py auxiliares\n",
    "    FUENTES_DIR = '/content/drive/MyDrive/Colab Notebooks/FUENTES/'\n",
    "    DATOS_DIR = '/content/drive/MyDrive/Colab Notebooks/DATOS/'      # carpeta donde se encuentran los datasets\n",
    "else:\n",
    "    # configuración para notebook con instalación LOCAL\n",
    "    FUENTES_DIR = '../Fuentes'         # carpeta donde se encuentran archivos .py auxiliares\n",
    "    DATOS_DIR   = '../Datos/' # carpeta donde se encuentran los datasets\n",
    "\n",
    "# agrega ruta de busqueda donde tenemos archivos .py\n",
    "import sys\n",
    "sys.path.append(FUENTES_DIR)"
   ]
  },
  {
   "cell_type": "code",
   "execution_count": 2,
   "id": "f3fbf3c3",
   "metadata": {},
   "outputs": [],
   "source": [
    "%matplotlib inline\n",
    "import numpy as np\n",
    "from matplotlib import pylab as plt\n",
    "from IPython import display\n",
    "\n",
    "import grafica as gr\n",
    "# Ajustar el tamaño predeterminado de las figuras\n",
    "plt.rcParams['figure.figsize'] = [4,3]"
   ]
  },
  {
   "cell_type": "code",
   "execution_count": 3,
   "id": "b6b4b05f",
   "metadata": {},
   "outputs": [],
   "source": [
    "# Ejemplos de entrada de la función AND\n",
    "X = np.array([[0,0], \n",
    "              [0,1],\n",
    "              [1,0],\n",
    "              [1,1]])\n",
    "CantEjemplos = X.shape[0]\n",
    "\n",
    "#-- Respuesta esperada para cada ejemplo\n",
    "T = np.array([0,0,0,1])"
   ]
  },
  {
   "cell_type": "code",
   "execution_count": 27,
   "id": "4626dfc3",
   "metadata": {},
   "outputs": [
    {
     "data": {
      "image/png": "[encoded data removed]",
      "text/plain": [
       "<Figure size 400x300 with 1 Axes>"
      ]
     },
     "metadata": {},
     "output_type": "display_data"
    }
   ],
   "source": [
    "# --- titulos y ph se utilizan sólo para dibujar ---\n",
    "plt.clf()\n",
    "titulos = ['X1', 'X2']\n",
    "ph=0\n",
    "\n",
    "\n",
    "#--- Los pesos iniciales son aleatorios\n",
    "W = np.array(np.random.uniform(-0.5, 0.5, size=2))\n",
    "b = np.random.uniform(-0.5, 0.5)\n",
    "\n",
    "#--- al finalizar ERRORES debe contener la cantidad de cambios realizados en c/iteración ---\n",
    "errores = []\n",
    "\n",
    "#--- parámetros del PERCEPTRON ---\n",
    "MAX_ITE = 40\n",
    "alfa = 0.1\n",
    "\n",
    "# --- Entrenamiento del PERCEPTRON ---\n",
    "ite = 0\n",
    "hubo_cambio=True\n",
    "while (ite < MAX_ITE) and (hubo_cambio==True):\n",
    "    hubo_cambio= False\n",
    "    for e in range(CantEjemplos):\n",
    "        neta = W[0]*X[e,0] + W[1]*X[e,1] + b\n",
    "        y = (neta>0)*1\n",
    "        if (T[e]!=y): # Si es incorrecta actualiza W y b\n",
    "            W[0]= W[0]+ alfa*(T[e]-y)*X[e,0]\n",
    "            W[1]= W[1]+ alfa*(T[e]-y)*X[e,1]\n",
    "            b = b + alfa*(T[e]-y)\n",
    "            hubo_cambio = True   \n",
    "      \n",
    "    # dibujar nuevamente la recta            \n",
    "    ph = gr.dibuPtosRecta(X,T, W, b, titulos, ph) \n",
    "    ite = ite+1\n",
    "      "
   ]
  },
  {
   "cell_type": "code",
   "execution_count": 21,
   "id": "e51614e8",
   "metadata": {},
   "outputs": [
    {
     "name": "stdout",
     "output_type": "stream",
     "text": [
      "[0.3398027  0.25914854]\n",
      "-0.5302035831457999\n"
     ]
    }
   ],
   "source": [
    "print(W)\n",
    "print(b)"
   ]
  },
  {
   "cell_type": "code",
   "execution_count": 6,
   "id": "9b1e3d24",
   "metadata": {},
   "outputs": [
    {
     "name": "stdout",
     "output_type": "stream",
     "text": [
      "[[0 0]\n",
      " [0 1]\n",
      " [1 0]\n",
      " [1 1]]\n",
      "[0 0 0 1]\n"
     ]
    }
   ],
   "source": [
    "print(X)\n",
    "print(T)"
   ]
  },
  {
   "cell_type": "code",
   "execution_count": 7,
   "id": "85ae9d9f",
   "metadata": {},
   "outputs": [
    {
     "name": "stdout",
     "output_type": "stream",
     "text": [
      "[-0.16662622 -0.12065849 -0.03348368  0.01248405]\n",
      "[0 0 0 1]\n"
     ]
    }
   ],
   "source": [
    "netas = W @ X.T + b\n",
    "y = (netas>0) * 1\n",
    "print(netas)\n",
    "print(y)"
   ]
  },
  {
   "cell_type": "code",
   "execution_count": 8,
   "id": "ca676764",
   "metadata": {},
   "outputs": [
    {
     "data": {
      "image/png": "[encoded data removed]",
      "text/plain": [
       "<Figure size 400x300 with 1 Axes>"
      ]
     },
     "metadata": {},
     "output_type": "display_data"
    }
   ],
   "source": [
    "plt.plot(range(1, len(errores) + 1), errores, marker='o')\n",
    "plt.xlabel('Iteraciones')\n",
    "plt.ylabel('ECM')\n",
    "plt.show()"
   ]
  }
 ],
 "metadata": {
  "kernelspec": {
   "display_name": "Python 3 (ipykernel)",
   "language": "python",
   "name": "python3"
  },
  "language_info": {
   "codemirror_mode": {
    "name": "ipython",
    "version": 3
   },
   "file_extension": ".py",
   "mimetype": "text/x-python",
   "name": "python",
   "nbconvert_exporter": "python",
   "pygments_lexer": "ipython3",
   "version": "3.11.7"
  }
 },
 "nbformat": 4,
 "nbformat_minor": 5
}
