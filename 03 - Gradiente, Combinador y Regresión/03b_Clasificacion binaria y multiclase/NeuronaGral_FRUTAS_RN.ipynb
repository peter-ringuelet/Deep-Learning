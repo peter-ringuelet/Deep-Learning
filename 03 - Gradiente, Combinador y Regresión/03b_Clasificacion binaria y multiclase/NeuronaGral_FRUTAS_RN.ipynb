{
 "cells": [
  {
   "cell_type": "code",
   "execution_count": 1,
   "id": "71744c2f",
   "metadata": {},
   "outputs": [],
   "source": [
    "ColabNotebook = 'google.colab' in str(get_ipython())\n",
    "\n",
    "if ColabNotebook:\n",
    "    # monta G-drive en entorno COLAB\n",
    "    from google.colab import drive\n",
    "    drive.mount('/content/drive/')\n",
    "\n",
    "    # carpeta donde se encuentran archivos .py auxiliares\n",
    "    FUENTES_DIR = '/content/drive/MyDrive/Colab Notebooks/FUENTES/'\n",
    "    DATOS_DIR = '/content/drive/MyDrive/Colab Notebooks/DATOS/'      # carpeta donde se encuentran los datasets\n",
    "else:\n",
    "    # configuración para notebook con instalación LOCAL\n",
    "    FUENTES_DIR = '../Fuentes'         # carpeta donde se encuentran archivos .py auxiliares\n",
    "    DATOS_DIR   = '../Datos/' # carpeta donde se encuentran los datasets\n",
    "\n",
    "# agrega ruta de busqueda donde tenemos archivos .py\n",
    "import sys\n",
    "sys.path.append(FUENTES_DIR)"
   ]
  },
  {
   "cell_type": "code",
   "execution_count": 2,
   "id": "f3fbf3c3",
   "metadata": {},
   "outputs": [],
   "source": [
    "%matplotlib inline\n",
    "import pandas as pd\n",
    "import numpy as np\n",
    "from sklearn import preprocessing\n",
    "\n",
    "import time\n",
    "#from matplotlib import pyplot as plt\n",
    "from matplotlib import pylab as plt\n",
    "from IPython import display\n",
    "# Ajustar el tamaño predeterminado de las figuras\n",
    "plt.rcParams['figure.figsize'] = [4,3] \n",
    "\n",
    "from grafica import *\n",
    "from ClassNeuronaGral import NeuronaGradiente"
   ]
  },
  {
   "cell_type": "code",
   "execution_count": 3,
   "id": "b6b4b05f",
   "metadata": {},
   "outputs": [],
   "source": [
    "# Leer FrutasTrain.csv\n",
    "datos = pd.read_csv(DATOS_DIR + \"FrutasTrain.csv\")\n",
    "nColum = list(datos.columns.values)\n",
    "\n",
    "#--- DATOS DE ENTRENAMIENTO ---\n",
    "X = np.array(datos.iloc[:,0:2])\n",
    "normalizarEntrada = 1\n",
    "\n",
    "if normalizarEntrada:\n",
    "    # Escala los valores entre 0 y 1\n",
    "    normalizador = preprocessing.StandardScaler()\n",
    "    X = normalizador.fit_transform(X)\n",
    "    \n",
    "#--- SALIDA BINARIA ---\n",
    "T = datos['Clase'] == 'Melon'  #es boolean\n",
    "T = np.array(T * 1)  #lo convierte en binario\n",
    "T = 2*T-1"
   ]
  },
  {
   "cell_type": "code",
   "execution_count": 4,
   "id": "4626dfc3",
   "metadata": {},
   "outputs": [
    {
     "data": {
      "image/png": "[encoded data removed]",
      "text/plain": [
       "<Figure size 288x216 with 1 Axes>"
      ]
     },
     "metadata": {},
     "output_type": "display_data"
    },
    {
     "data": {
      "text/plain": [
       "<ClassNeuronaGral.NeuronaGradiente at 0x1c58b4c1dc0>"
      ]
     },
     "execution_count": 4,
     "metadata": {},
     "output_type": "execute_result"
    },
    {
     "data": {
      "image/png": "[encoded data removed]",
      "text/plain": [
       "<Figure size 288x216 with 1 Axes>"
      ]
     },
     "metadata": {
      "needs_background": "light"
     },
     "output_type": "display_data"
    }
   ],
   "source": [
    "ppn = NeuronaGradiente(alpha=0.1, n_iter=50, cotaE=10e-07, FUN='tanh', random_state=None, draw=1, title=nColum[0:2])\n",
    "ppn.fit(X, T)"
   ]
  },
  {
   "cell_type": "code",
   "execution_count": 5,
   "id": "bf51693f",
   "metadata": {},
   "outputs": [
    {
     "data": {
      "image/png": "[encoded data removed]",
      "text/plain": [
       "<Figure size 288x216 with 1 Axes>"
      ]
     },
     "metadata": {
      "needs_background": "light"
     },
     "output_type": "display_data"
    }
   ],
   "source": [
    "plt.plot(range(1, len(ppn.errors_) + 1), ppn.errors_, marker='o')\n",
    "plt.xlabel('Iteraciones')\n",
    "plt.ylabel('ECM')\n",
    "plt.show()"
   ]
  },
  {
   "cell_type": "code",
   "execution_count": 6,
   "id": "ef97d2be",
   "metadata": {},
   "outputs": [
    {
     "name": "stdout",
     "output_type": "stream",
     "text": [
      "Y =  [-1  1 -1  1 -1  1 -1  1 -1  1 -1  1 -1  1 -1  1]\n",
      "T =  [-1  1 -1  1 -1  1 -1  1 -1  1 -1  1 -1  1 -1  1]\n",
      "aciertos =  16\n",
      "% de aciertos = 100.00 %\n"
     ]
    }
   ],
   "source": [
    "Y = ppn.predict(X)\n",
    "print(\"Y = \", Y)\n",
    "print(\"T = \", T)\n",
    "aciertos = sum(Y == T)\n",
    "print(\"aciertos = \", aciertos)\n",
    "nAciertos = sum(Y==T)\n",
    "print(\"%% de aciertos = %.2f %%\" % (100*nAciertos/X.shape[0]))"
   ]
  },
  {
   "cell_type": "code",
   "execution_count": 7,
   "id": "ad3419c7",
   "metadata": {},
   "outputs": [
    {
     "name": "stdout",
     "output_type": "stream",
     "text": [
      "% accuracy = 1.000\n"
     ]
    }
   ],
   "source": [
    "from sklearn import  metrics\n",
    "\n",
    "# T contiene los valores esperados\n",
    "# Y es la salida del modelo\n",
    "\n",
    "aciertos = metrics.accuracy_score(T, Y)\n",
    "print(\"%% accuracy = %.3f\" % aciertos)"
   ]
  },
  {
   "cell_type": "code",
   "execution_count": 9,
   "id": "24fe5890",
   "metadata": {},
   "outputs": [
    {
     "name": "stdout",
     "output_type": "stream",
     "text": [
      "Resultado de la clasificación:\n",
      "              precision    recall  f1-score   support\n",
      "\n",
      "          -1       1.00      1.00      1.00         8\n",
      "           1       1.00      1.00      1.00         8\n",
      "\n",
      "    accuracy                           1.00        16\n",
      "   macro avg       1.00      1.00      1.00        16\n",
      "weighted avg       1.00      1.00      1.00        16\n",
      "\n"
     ]
    }
   ],
   "source": [
    "report = metrics.classification_report(T,Y)\n",
    "print(\"Resultado de la clasificación:\\n%s\" % report)"
   ]
  },
  {
   "cell_type": "code",
   "execution_count": 10,
   "id": "ccc7e93d",
   "metadata": {},
   "outputs": [
    {
     "name": "stdout",
     "output_type": "stream",
     "text": [
      "Matriz de confusión:\n",
      "[[8 0]\n",
      " [0 8]]\n"
     ]
    }
   ],
   "source": [
    "MM = metrics.confusion_matrix(T, Y)\n",
    "print(\"Matriz de confusión:\\n%s\" % MM)"
   ]
  },
  {
   "cell_type": "code",
   "execution_count": null,
   "id": "5f0f2d12",
   "metadata": {},
   "outputs": [],
   "source": []
  }
 ],
 "metadata": {
  "kernelspec": {
   "display_name": "Python 3 (ipykernel)",
   "language": "python",
   "name": "python3"
  },
  "language_info": {
   "codemirror_mode": {
    "name": "ipython",
    "version": 3
   },
   "file_extension": ".py",
   "mimetype": "text/x-python",
   "name": "python",
   "nbconvert_exporter": "python",
   "pygments_lexer": "ipython3",
   "version": "3.11.7"
  }
 },
 "nbformat": 4,
 "nbformat_minor": 5
}
