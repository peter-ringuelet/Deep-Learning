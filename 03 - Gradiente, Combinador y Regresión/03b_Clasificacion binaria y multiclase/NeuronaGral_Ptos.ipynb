{
 "cells": [
  {
   "cell_type": "code",
   "execution_count": 1,
   "id": "9d14bae8",
   "metadata": {},
   "outputs": [],
   "source": [
    "ColabNotebook = 'google.colab' in str(get_ipython())\n",
    "\n",
    "if ColabNotebook:\n",
    "    # monta G-drive en entorno COLAB\n",
    "    from google.colab import drive\n",
    "    drive.mount('/content/drive/')\n",
    "\n",
    "    # carpeta donde se encuentran archivos .py auxiliares\n",
    "    FUENTES_DIR = '/content/drive/MyDrive/Colab Notebooks/FUENTES/'\n",
    "    DATOS_DIR = '/content/drive/MyDrive/Colab Notebooks/DATOS/'      # carpeta donde se encuentran los datasets\n",
    "else:\n",
    "    # configuración para notebook con instalación LOCAL\n",
    "    FUENTES_DIR = '../Fuentes'         # carpeta donde se encuentran archivos .py auxiliares\n",
    "    DATOS_DIR   = '../Datos/' # carpeta donde se encuentran los datasets\n",
    "\n",
    "# agrega ruta de busqueda donde tenemos archivos .py\n",
    "import sys\n",
    "sys.path.append(FUENTES_DIR)"
   ]
  },
  {
   "cell_type": "code",
   "execution_count": 2,
   "id": "f3fbf3c3",
   "metadata": {},
   "outputs": [],
   "source": [
    "%matplotlib inline\n",
    "import numpy as np\n",
    "from matplotlib import pylab as plt\n",
    "from IPython import display\n",
    "\n",
    "import grafica as gr\n",
    "# Ajustar el tamaño predeterminado de las figuras\n",
    "plt.rcParams['figure.figsize'] = [4,3]"
   ]
  },
  {
   "cell_type": "code",
   "execution_count": 3,
   "id": "b6b4b05f",
   "metadata": {},
   "outputs": [],
   "source": [
    "# Ejemplos de entrada \n",
    "X = np.array([[-1,3], [3,1], [1,0], [3,3], [0,1], [2,4], [-1,1], [2,5]])\n",
    "\n",
    "CantEjemplos = X.shape[0]\n",
    "#X = 2 * X - 1\n",
    "\n",
    "#-- Respuesta esperada para cada ejemplo\n",
    "T = np.array([0, 1, 0, 1, 0, 1, 0, 1])\n",
    "T = 2*T-1"
   ]
  },
  {
   "cell_type": "code",
   "execution_count": 4,
   "id": "4626dfc3",
   "metadata": {},
   "outputs": [
    {
     "data": {
      "image/png": "[encoded data removed]",
      "text/plain": [
       "<Figure size 400x300 with 1 Axes>"
      ]
     },
     "metadata": {},
     "output_type": "display_data"
    }
   ],
   "source": [
    "# --- titulos y ph se utilizan sólo para dibujar ---\n",
    "titulos = ['X1', 'X2']\n",
    "ph=0\n",
    "\n",
    "\n",
    "#--- Los pesos iniciales son aleatorios\n",
    "W = np.array(np.random.uniform(-0.5, 0.5, size=2))\n",
    "b = np.random.uniform(-0.5, 0.5)\n",
    "\n",
    "#--- al finalizar ERRORES debe contener la cantidad de cambios realizados en c/iteración ---\n",
    "errores = []\n",
    "\n",
    "#--- parámetros del PERCEPTRON ---\n",
    "MAX_ITE = 40\n",
    "alfa = 0.1\n",
    "COTA = 10e-6\n",
    "\n",
    "# --- Entrenamiento del PERCEPTRON ---\n",
    "ite = 0\n",
    "ErrorAVG = 1\n",
    "Error_ant = 0\n",
    "errores = []\n",
    "while (ite < MAX_ITE) and ( np.abs(ErrorAVG-Error_ant)>COTA):\n",
    "    Error_ant = ErrorAVG\n",
    "    suma = 0\n",
    "    for e in range(CantEjemplos):\n",
    "        neta = W[0]*X[e,0] + W[1]*X[e,1] + b\n",
    "        \n",
    "        y = 2/(1+ np.exp(-2*neta)) - 1\n",
    "        deriv = 1 - y*y\n",
    "        \n",
    "        Error = T[e]-y\n",
    "        \n",
    "        W[0]= W[0]+ alfa * Error * deriv * X[e,0]\n",
    "        W[1]= W[1]+ alfa * Error * deriv * X[e,1]\n",
    "        b = b + alfa * Error * deriv\n",
    "        \n",
    "        suma = suma + Error*Error\n",
    "        \n",
    "    ErrorAVG = suma / CantEjemplos    \n",
    "    \n",
    "    errores.append(ErrorAVG)\n",
    "    \n",
    "    # dibujar nuevamente la recta            \n",
    "    ph = gr.dibuPtosRecta(X,T, W, b, titulos, ph) \n",
    "    ite = ite+1\n",
    "      "
   ]
  },
  {
   "cell_type": "code",
   "execution_count": 5,
   "id": "e51614e8",
   "metadata": {},
   "outputs": [
    {
     "name": "stdout",
     "output_type": "stream",
     "text": [
      "[0.8795114  0.40771686]\n",
      "-1.796376666766114\n"
     ]
    }
   ],
   "source": [
    "print(W)\n",
    "print(b)"
   ]
  },
  {
   "cell_type": "code",
   "execution_count": 6,
   "id": "9b1e3d24",
   "metadata": {},
   "outputs": [
    {
     "name": "stdout",
     "output_type": "stream",
     "text": [
      "[[-1  3]\n",
      " [ 3  1]\n",
      " [ 1  0]\n",
      " [ 3  3]\n",
      " [ 0  1]\n",
      " [ 2  4]\n",
      " [-1  1]\n",
      " [ 2  5]]\n",
      "[-1  1 -1  1 -1  1 -1  1]\n"
     ]
    }
   ],
   "source": [
    "print(X)\n",
    "print(T)"
   ]
  },
  {
   "cell_type": "code",
   "execution_count": 7,
   "id": "850bae35",
   "metadata": {},
   "outputs": [
    {
     "name": "stdout",
     "output_type": "stream",
     "text": [
      "[-1.45273748  1.24987441 -0.91686526  2.06530814 -1.3886598   1.5935136\n",
      " -2.2681712   2.00123046]\n",
      "[0.18958062 0.77727812 0.28559705 0.88748531 0.1996218  0.83110987\n",
      " 0.09379354 0.88092621]\n"
     ]
    }
   ],
   "source": [
    "netas = W @ X.T+b\n",
    "y = 1 / (1+ np.exp(-netas))\n",
    "print(netas)\n",
    "print(y)"
   ]
  },
  {
   "cell_type": "code",
   "execution_count": 18,
   "id": "4c2f1b22",
   "metadata": {},
   "outputs": [
    {
     "data": {
      "image/png": "[encoded data removed]",
      "text/plain": [
       "<Figure size 400x300 with 1 Axes>"
      ]
     },
     "metadata": {},
     "output_type": "display_data"
    }
   ],
   "source": [
    "plt.figure()\n",
    "plt.plot(range(1, len(errores) + 1), errores, marker='o')\n",
    "plt.xlabel('Iteraciones')\n",
    "plt.ylabel('ECM')\n",
    "plt.show()"
   ]
  },
  {
   "cell_type": "code",
   "execution_count": 24,
   "id": "29c3c0a6",
   "metadata": {},
   "outputs": [
    {
     "ename": "AttributeError",
     "evalue": "'numpy.ndarray' object has no attribute 'predict'",
     "output_type": "error",
     "traceback": [
      "\u001b[1;31m---------------------------------------------------------------------------\u001b[0m",
      "\u001b[1;31mAttributeError\u001b[0m                            Traceback (most recent call last)",
      "Cell \u001b[1;32mIn[24], line 3\u001b[0m\n\u001b[0;32m      1\u001b[0m \u001b[38;5;28;01mfrom\u001b[39;00m \u001b[38;5;21;01mPlotRegiones\u001b[39;00m \u001b[38;5;28;01mimport\u001b[39;00m plot_decision_regions\n\u001b[1;32m----> 3\u001b[0m plot_decision_regions(X, T, y)\n\u001b[0;32m      4\u001b[0m plt\u001b[38;5;241m.\u001b[39mxlabel(\u001b[38;5;124m'\u001b[39m\u001b[38;5;124mX1\u001b[39m\u001b[38;5;124m'\u001b[39m)\n\u001b[0;32m      5\u001b[0m plt\u001b[38;5;241m.\u001b[39mylabel(\u001b[38;5;124m'\u001b[39m\u001b[38;5;124mX2\u001b[39m\u001b[38;5;124m'\u001b[39m)\n",
      "File \u001b[1;32m~\\Dropbox\\Catedras y Cursos\\Aprendizaje Automatico\\Notebooks\\3b_Clasificacion binaria y multiclase\\../Fuentes\\PlotRegiones.py:15\u001b[0m, in \u001b[0;36mplot_decision_regions\u001b[1;34m(X, y, classifier, resolution)\u001b[0m\n\u001b[0;32m     13\u001b[0m x2_min, x2_max \u001b[38;5;241m=\u001b[39m X[:, \u001b[38;5;241m1\u001b[39m]\u001b[38;5;241m.\u001b[39mmin() \u001b[38;5;241m-\u001b[39m \u001b[38;5;241m1\u001b[39m, X[:, \u001b[38;5;241m1\u001b[39m]\u001b[38;5;241m.\u001b[39mmax() \u001b[38;5;241m+\u001b[39m \u001b[38;5;241m1\u001b[39m\n\u001b[0;32m     14\u001b[0m xx1, xx2 \u001b[38;5;241m=\u001b[39m np\u001b[38;5;241m.\u001b[39mmeshgrid(np\u001b[38;5;241m.\u001b[39marange(x1_min, x1_max, resolution), np\u001b[38;5;241m.\u001b[39marange(x2_min, x2_max, resolution))\n\u001b[1;32m---> 15\u001b[0m Z \u001b[38;5;241m=\u001b[39m classifier\u001b[38;5;241m.\u001b[39mpredict(np\u001b[38;5;241m.\u001b[39marray([xx1\u001b[38;5;241m.\u001b[39mravel(), xx2\u001b[38;5;241m.\u001b[39mravel()])\u001b[38;5;241m.\u001b[39mT)\n\u001b[0;32m     16\u001b[0m Z \u001b[38;5;241m=\u001b[39m Z\u001b[38;5;241m.\u001b[39mreshape(xx1\u001b[38;5;241m.\u001b[39mshape)\n\u001b[0;32m     17\u001b[0m plt\u001b[38;5;241m.\u001b[39mcontourf(xx1, xx2, Z, alpha\u001b[38;5;241m=\u001b[39m\u001b[38;5;241m0.3\u001b[39m) \n",
      "\u001b[1;31mAttributeError\u001b[0m: 'numpy.ndarray' object has no attribute 'predict'"
     ]
    }
   ],
   "source": [
    "from PlotRegiones import plot_decision_regions\n",
    "\n",
    "plot_decision_regions(X, T, classifier=ppn)\n",
    "plt.xlabel('X1')\n",
    "plt.ylabel('X2')\n",
    "plt.legend(loc='upper right')\n",
    "plt.show()"
   ]
  },
  {
   "cell_type": "code",
   "execution_count": null,
   "id": "cfa7db7c-c5b9-4987-9d2f-f81461143309",
   "metadata": {},
   "outputs": [],
   "source": []
  }
 ],
 "metadata": {
  "kernelspec": {
   "display_name": "Python 3 (ipykernel)",
   "language": "python",
   "name": "python3"
  },
  "language_info": {
   "codemirror_mode": {
    "name": "ipython",
    "version": 3
   },
   "file_extension": ".py",
   "mimetype": "text/x-python",
   "name": "python",
   "nbconvert_exporter": "python",
   "pygments_lexer": "ipython3",
   "version": "3.11.7"
  }
 },
 "nbformat": 4,
 "nbformat_minor": 5
}
