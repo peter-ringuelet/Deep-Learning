{
 "cells": [
  {
   "cell_type": "code",
   "execution_count": 82,
   "metadata": {},
   "outputs": [],
   "source": [
    " # configuración para notebook con instalación LOCAL\n",
    "FUENTES_DIR  = '../../Datos-Fuentes/Fuentes/'     # carpeta donde se encuentran archivos .py auxiliares\n",
    "DATOS_DIR    = '../../Datos-Fuentes/Datos/'      # carpeta donde se encuentran los datasets\n",
    "MODELOS_DIR  = '../Modelos/'    # carpeta donde se encuentran los modelos\n",
    "ARCHIVOs_DIR = '../Archivos/'   # carpeta recuperar o copiar archivos\n",
    "\n",
    "# agrega ruta de busqueda donde tenemos archivos .py\n",
    "import sys\n",
    "sys.path.append(FUENTES_DIR)"
   ]
  },
  {
   "cell_type": "code",
   "execution_count": 83,
   "metadata": {},
   "outputs": [
    {
     "data": {
      "text/html": [
       "<div>\n",
       "<style scoped>\n",
       "    .dataframe tbody tr th:only-of-type {\n",
       "        vertical-align: middle;\n",
       "    }\n",
       "\n",
       "    .dataframe tbody tr th {\n",
       "        vertical-align: top;\n",
       "    }\n",
       "\n",
       "    .dataframe thead th {\n",
       "        text-align: right;\n",
       "    }\n",
       "</style>\n",
       "<table border=\"1\" class=\"dataframe\">\n",
       "  <thead>\n",
       "    <tr style=\"text-align: right;\">\n",
       "      <th></th>\n",
       "      <th>Diametro</th>\n",
       "      <th>Color</th>\n",
       "      <th>Clase</th>\n",
       "    </tr>\n",
       "  </thead>\n",
       "  <tbody>\n",
       "    <tr>\n",
       "      <th>0</th>\n",
       "      <td>10</td>\n",
       "      <td>200</td>\n",
       "      <td>Naranja</td>\n",
       "    </tr>\n",
       "    <tr>\n",
       "      <th>1</th>\n",
       "      <td>20</td>\n",
       "      <td>30</td>\n",
       "      <td>Melon</td>\n",
       "    </tr>\n",
       "    <tr>\n",
       "      <th>2</th>\n",
       "      <td>8</td>\n",
       "      <td>150</td>\n",
       "      <td>Naranja</td>\n",
       "    </tr>\n",
       "    <tr>\n",
       "      <th>3</th>\n",
       "      <td>26</td>\n",
       "      <td>30</td>\n",
       "      <td>Melon</td>\n",
       "    </tr>\n",
       "    <tr>\n",
       "      <th>4</th>\n",
       "      <td>7</td>\n",
       "      <td>170</td>\n",
       "      <td>Naranja</td>\n",
       "    </tr>\n",
       "    <tr>\n",
       "      <th>5</th>\n",
       "      <td>24</td>\n",
       "      <td>32</td>\n",
       "      <td>Melon</td>\n",
       "    </tr>\n",
       "    <tr>\n",
       "      <th>6</th>\n",
       "      <td>20</td>\n",
       "      <td>170</td>\n",
       "      <td>Naranja</td>\n",
       "    </tr>\n",
       "    <tr>\n",
       "      <th>7</th>\n",
       "      <td>21</td>\n",
       "      <td>160</td>\n",
       "      <td>Melon</td>\n",
       "    </tr>\n",
       "    <tr>\n",
       "      <th>8</th>\n",
       "      <td>21</td>\n",
       "      <td>180</td>\n",
       "      <td>Naranja</td>\n",
       "    </tr>\n",
       "    <tr>\n",
       "      <th>9</th>\n",
       "      <td>23</td>\n",
       "      <td>160</td>\n",
       "      <td>Melon</td>\n",
       "    </tr>\n",
       "    <tr>\n",
       "      <th>10</th>\n",
       "      <td>22</td>\n",
       "      <td>190</td>\n",
       "      <td>Naranja</td>\n",
       "    </tr>\n",
       "    <tr>\n",
       "      <th>11</th>\n",
       "      <td>23</td>\n",
       "      <td>190</td>\n",
       "      <td>Melon</td>\n",
       "    </tr>\n",
       "    <tr>\n",
       "      <th>12</th>\n",
       "      <td>24</td>\n",
       "      <td>250</td>\n",
       "      <td>Naranja</td>\n",
       "    </tr>\n",
       "    <tr>\n",
       "      <th>13</th>\n",
       "      <td>15</td>\n",
       "      <td>31</td>\n",
       "      <td>Melon</td>\n",
       "    </tr>\n",
       "    <tr>\n",
       "      <th>14</th>\n",
       "      <td>15</td>\n",
       "      <td>250</td>\n",
       "      <td>Naranja</td>\n",
       "    </tr>\n",
       "    <tr>\n",
       "      <th>15</th>\n",
       "      <td>19</td>\n",
       "      <td>31</td>\n",
       "      <td>Melon</td>\n",
       "    </tr>\n",
       "  </tbody>\n",
       "</table>\n",
       "</div>"
      ],
      "text/plain": [
       "    Diametro  Color    Clase\n",
       "0         10    200  Naranja\n",
       "1         20     30    Melon\n",
       "2          8    150  Naranja\n",
       "3         26     30    Melon\n",
       "4          7    170  Naranja\n",
       "5         24     32    Melon\n",
       "6         20    170  Naranja\n",
       "7         21    160    Melon\n",
       "8         21    180  Naranja\n",
       "9         23    160    Melon\n",
       "10        22    190  Naranja\n",
       "11        23    190    Melon\n",
       "12        24    250  Naranja\n",
       "13        15     31    Melon\n",
       "14        15    250  Naranja\n",
       "15        19     31    Melon"
      ]
     },
     "metadata": {},
     "output_type": "display_data"
    }
   ],
   "source": [
    "import pandas as pd      # para trabajar con archivos de datos csv, excel, etc: https://pandas.pydata.org/docs/getting_started/tutorials.html\n",
    "import chardet           # para detectar la codificación de texto en archivos\n",
    "\n",
    "nombre_archivo = DATOS_DIR + 'FrutasTrain.csv' # archivo de hojas\n",
    "\n",
    "#-- detectando la codificación de caracteres usada ----\n",
    "with open(nombre_archivo, 'rb') as f:\n",
    "    result = chardet.detect(f.read())  # or readline if the file is large\n",
    "\n",
    "# recupera el archivo en un objeto dataframe de pandas utilizando la codificación detectada\n",
    "df = pd.read_csv(nombre_archivo, encoding=result['encoding'])\n",
    "\n",
    "display(df)"
   ]
  },
  {
   "cell_type": "code",
   "execution_count": 84,
   "metadata": {},
   "outputs": [
    {
     "name": "stdout",
     "output_type": "stream",
     "text": [
      "Las clases del dataset son : ['Melon' 'Naranja']\n"
     ]
    },
    {
     "data": {
      "text/plain": [
       "array([[-1.50462909,  0.78461053],\n",
       "       [ 0.23986841, -1.40200899],\n",
       "       [-1.85352859,  0.14148715],\n",
       "       [ 1.2865669 , -1.40200899],\n",
       "       [-2.02797834,  0.3987365 ],\n",
       "       [ 0.9376674 , -1.37628405],\n",
       "       [ 0.23986841,  0.3987365 ],\n",
       "       [ 0.41431816,  0.27011182],\n",
       "       [ 0.41431816,  0.52736118],\n",
       "       [ 0.76321765,  0.27011182],\n",
       "       [ 0.58876791,  0.65598586],\n",
       "       [ 0.76321765,  0.65598586],\n",
       "       [ 0.9376674 ,  1.42773392],\n",
       "       [-0.63238034, -1.38914652],\n",
       "       [-0.63238034,  1.42773392],\n",
       "       [ 0.06541866, -1.38914652]])"
      ]
     },
     "execution_count": 84,
     "metadata": {},
     "output_type": "execute_result"
    }
   ],
   "source": [
    "from sklearn import preprocessing\n",
    "import numpy as np\n",
    "\n",
    "# %% separa atributos para entrenar de clases\n",
    "X = np.array(df.iloc[:,:-1])  # recupera todas las columnas salvo la ultima (es la clase)\n",
    "T = np.array(df.iloc[:,-1])   # recupera solo la ultima columna (es la clase)\n",
    "\n",
    "clases = np.unique(T)  # obtiene las clases sin repeticiones\n",
    "print('Las clases del dataset son :', clases)\n",
    "\n",
    "# Normalizacion con media y desviacion\n",
    "scaler = preprocessing.StandardScaler()\n",
    "X = scaler.fit_transform(X)\n",
    "\n",
    "# Melon = 1, Naranja = -1\n",
    "T = 2*(T == \"Melon\")-1\n",
    "\n",
    "X\n",
    "\n"
   ]
  },
  {
   "cell_type": "code",
   "execution_count": 85,
   "metadata": {},
   "outputs": [
    {
     "name": "stdout",
     "output_type": "stream",
     "text": [
      "\n",
      "Neurona con tanh\n",
      "100.00% de efectividad con 250 iteraciones\n"
     ]
    }
   ],
   "source": [
    "from ClassNeuronaGral import NeuronaGradiente\n",
    "\n",
    "###############################################################################\n",
    "# neurona no lineal sigmoid\n",
    "ERROR = 1e-03\n",
    "ALFA = 0.2\n",
    "FUN = 'tanh'\n",
    "MAX_ITE = 250\n",
    "\n",
    "print('\\nNeurona con %s' %FUN)\n",
    "\n",
    "# Entrena perceptrón\n",
    "modelo = NeuronaGradiente(alpha=ALFA, n_iter=MAX_ITE, FUN=FUN, cotaE=ERROR)\n",
    "modelo.fit(X, T)\n",
    "(W, b, iteraciones) = (modelo.w_, modelo.b_, len(modelo.errors_))\n",
    "\n",
    "Y = modelo.predict(X)\n",
    "\n",
    "efectividad = 100.0*np.sum(Y==T)/len(Y)\n",
    "\n",
    "print(\"%6.2f%% de efectividad con %d iteraciones\" % (efectividad, iteraciones ))"
   ]
  },
  {
   "cell_type": "markdown",
   "metadata": {},
   "source": [
    "## Calcular"
   ]
  },
  {
   "cell_type": "code",
   "execution_count": 86,
   "metadata": {},
   "outputs": [
    {
     "name": "stdout",
     "output_type": "stream",
     "text": [
      "6\n"
     ]
    },
    {
     "data": {
      "text/plain": [
       "(array(['-1', '1', 'Indefinido'], dtype='<U11'), array([4, 6, 6], dtype=int64))"
      ]
     },
     "execution_count": 86,
     "metadata": {},
     "output_type": "execute_result"
    }
   ],
   "source": [
    "w_diametro = 2.65\n",
    "w_color = -2.5\n",
    "b = 0.03\n",
    "\n",
    "Z = X[:,0]*w_diametro + X[:,1]*w_color + b\n",
    "Z = np.tanh(Z)\n",
    "\n",
    "#Z = np.where( Z > 0, 1, -1)\n",
    "Z = np.where( Z >= 0.8, 1, np.where(Z <= -0.8, -1, 'Indefinido'))\n",
    "print((Z == 'Indefinido').sum())\n",
    "\n",
    "np.unique(Z, return_counts=True)\n",
    "\n"
   ]
  },
  {
   "cell_type": "markdown",
   "metadata": {},
   "source": [
    "## preg 21"
   ]
  },
  {
   "cell_type": "code",
   "execution_count": 87,
   "metadata": {},
   "outputs": [
    {
     "name": "stdout",
     "output_type": "stream",
     "text": [
      "[[ 14 140]]\n",
      "[[-0.80683009  0.01286247]]\n",
      "[-0.97270646]\n"
     ]
    },
    {
     "data": {
      "text/plain": [
       "array(['-1'], dtype='<U11')"
      ]
     },
     "execution_count": 87,
     "metadata": {},
     "output_type": "execute_result"
    }
   ],
   "source": [
    "w_diametro = 2.65\n",
    "w_color = -2.5\n",
    "b = 0.03\n",
    "\n",
    "d = 14\n",
    "c = 140\n",
    "\n",
    "X_test = np.array([[d, c]])\n",
    "print(X_test)\n",
    "\n",
    "X_test = scaler.transform(X_test)\n",
    "print(X_test)\n",
    "\n",
    "Z_test = X_test[:,0]*w_diametro + X_test[:,1]*w_color + b\n",
    "Z_test = np.tanh(Z_test)\n",
    "print(Z_test)\n",
    "\n",
    "Z_test = np.where( Z_test >= 0.8, 1, np.where(Z_test <= -0.8, -1, 'Indefinido'))\n",
    "\n",
    "Z_test\n",
    "\n",
    "\n"
   ]
  },
  {
   "cell_type": "markdown",
   "metadata": {},
   "source": [
    "## preg 22"
   ]
  },
  {
   "cell_type": "code",
   "execution_count": 88,
   "metadata": {},
   "outputs": [
    {
     "name": "stdout",
     "output_type": "stream",
     "text": [
      "[0.63266905]\n"
     ]
    },
    {
     "data": {
      "text/plain": [
       "array(['Indefinido'], dtype='<U11')"
      ]
     },
     "execution_count": 88,
     "metadata": {},
     "output_type": "execute_result"
    }
   ],
   "source": [
    "w_diametro = 2.65\n",
    "w_color = -2.5\n",
    "b = 0.03\n",
    "\n",
    "d = 16\n",
    "c = 79\n",
    "\n",
    "X_test = np.array([[d, c]])\n",
    "\n",
    "X_test = scaler.transform(X_test)\n",
    "\n",
    "Z_test = X_test[:,0]*w_diametro + X_test[:,1]*w_color + b\n",
    "Z_test = np.tanh(Z_test)\n",
    "print(Z_test)\n",
    "\n",
    "Z_test = np.where( Z_test >= 0.8, 1, np.where(Z_test <= -0.8, -1, 'Indefinido'))\n",
    "\n",
    "Z_test\n"
   ]
  }
 ],
 "metadata": {
  "kernelspec": {
   "display_name": "Python 3",
   "language": "python",
   "name": "python3"
  },
  "language_info": {
   "codemirror_mode": {
    "name": "ipython",
    "version": 3
   },
   "file_extension": ".py",
   "mimetype": "text/x-python",
   "name": "python",
   "nbconvert_exporter": "python",
   "pygments_lexer": "ipython3",
   "version": "3.12.1"
  }
 },
 "nbformat": 4,
 "nbformat_minor": 2
}
