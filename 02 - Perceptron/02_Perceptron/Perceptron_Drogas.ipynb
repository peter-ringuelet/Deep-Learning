{
 "cells": [
  {
   "cell_type": "code",
   "execution_count": 1,
   "id": "689ea629",
   "metadata": {},
   "outputs": [],
   "source": [
    "ColabNotebook = 'google.colab' in str(get_ipython())\n",
    "\n",
    "if ColabNotebook:\n",
    "    # monta G-drive en entorno COLAB\n",
    "    from google.colab import drive\n",
    "    drive.mount('/content/drive/')\n",
    "\n",
    "    # carpeta donde se encuentran archivos .py auxiliares\n",
    "    FUENTES_DIR = '/content/drive/MyDrive/Colab Notebooks/FUENTES/'\n",
    "    DATOS_DIR = '/content/drive/MyDrive/Colab Notebooks/DATOS/'      # carpeta donde se encuentran los datasets\n",
    "else:\n",
    "    # configuración para notebook con instalación LOCAL\n",
    "    FUENTES_DIR = '../Fuentes'         # carpeta donde se encuentran archivos .py auxiliares\n",
    "    DATOS_DIR   = '../Datos/' # carpeta donde se encuentran los datasets\n",
    "\n",
    "# agrega ruta de busqueda donde tenemos archivos .py\n",
    "import sys\n",
    "sys.path.append(FUENTES_DIR)"
   ]
  },
  {
   "cell_type": "code",
   "execution_count": 11,
   "id": "f3fbf3c3",
   "metadata": {},
   "outputs": [],
   "source": [
    "\n",
    "import pandas as pd\n",
    "import numpy as np\n",
    "from matplotlib import pylab as plt\n",
    "\n",
    "from sklearn import model_selection, preprocessing\n",
    "\n",
    "from ClassPerceptron import Perceptron"
   ]
  },
  {
   "cell_type": "code",
   "execution_count": 12,
   "id": "575af921",
   "metadata": {},
   "outputs": [
    {
     "name": "stderr",
     "output_type": "stream",
     "text": [
      "C:\\Users\\Peter\\AppData\\Local\\Temp\\ipykernel_23140\\447857206.py:10: FutureWarning: Downcasting behavior in `replace` is deprecated and will be removed in a future version. To retain the old behavior, explicitly call `result.infer_objects(copy=False)`. To opt-in to the future behavior, set `pd.set_option('future.no_silent_downcasting', True)`\n",
      "  datos.replace(mapeo, inplace=True)\n"
     ]
    },
    {
     "data": {
      "text/html": [
       "<div>\n",
       "<style scoped>\n",
       "    .dataframe tbody tr th:only-of-type {\n",
       "        vertical-align: middle;\n",
       "    }\n",
       "\n",
       "    .dataframe tbody tr th {\n",
       "        vertical-align: top;\n",
       "    }\n",
       "\n",
       "    .dataframe thead th {\n",
       "        text-align: right;\n",
       "    }\n",
       "</style>\n",
       "<table border=\"1\" class=\"dataframe\">\n",
       "  <thead>\n",
       "    <tr style=\"text-align: right;\">\n",
       "      <th></th>\n",
       "      <th>Age</th>\n",
       "      <th>Sex</th>\n",
       "      <th>BP</th>\n",
       "      <th>Cholesterol</th>\n",
       "      <th>Na</th>\n",
       "      <th>K</th>\n",
       "      <th>Drug</th>\n",
       "    </tr>\n",
       "  </thead>\n",
       "  <tbody>\n",
       "    <tr>\n",
       "      <th>0</th>\n",
       "      <td>23</td>\n",
       "      <td>1</td>\n",
       "      <td>2</td>\n",
       "      <td>1</td>\n",
       "      <td>0.792535</td>\n",
       "      <td>0.031258</td>\n",
       "      <td>drugY</td>\n",
       "    </tr>\n",
       "    <tr>\n",
       "      <th>1</th>\n",
       "      <td>47</td>\n",
       "      <td>0</td>\n",
       "      <td>0</td>\n",
       "      <td>1</td>\n",
       "      <td>0.739309</td>\n",
       "      <td>0.056468</td>\n",
       "      <td>drugC</td>\n",
       "    </tr>\n",
       "    <tr>\n",
       "      <th>2</th>\n",
       "      <td>47</td>\n",
       "      <td>0</td>\n",
       "      <td>0</td>\n",
       "      <td>1</td>\n",
       "      <td>0.697269</td>\n",
       "      <td>0.068944</td>\n",
       "      <td>drugC</td>\n",
       "    </tr>\n",
       "    <tr>\n",
       "      <th>3</th>\n",
       "      <td>28</td>\n",
       "      <td>1</td>\n",
       "      <td>1</td>\n",
       "      <td>1</td>\n",
       "      <td>0.563682</td>\n",
       "      <td>0.072289</td>\n",
       "      <td>drugX</td>\n",
       "    </tr>\n",
       "    <tr>\n",
       "      <th>4</th>\n",
       "      <td>61</td>\n",
       "      <td>1</td>\n",
       "      <td>0</td>\n",
       "      <td>1</td>\n",
       "      <td>0.559294</td>\n",
       "      <td>0.030998</td>\n",
       "      <td>drugY</td>\n",
       "    </tr>\n",
       "    <tr>\n",
       "      <th>...</th>\n",
       "      <td>...</td>\n",
       "      <td>...</td>\n",
       "      <td>...</td>\n",
       "      <td>...</td>\n",
       "      <td>...</td>\n",
       "      <td>...</td>\n",
       "      <td>...</td>\n",
       "    </tr>\n",
       "    <tr>\n",
       "      <th>195</th>\n",
       "      <td>56</td>\n",
       "      <td>1</td>\n",
       "      <td>0</td>\n",
       "      <td>1</td>\n",
       "      <td>0.848774</td>\n",
       "      <td>0.073380</td>\n",
       "      <td>drugC</td>\n",
       "    </tr>\n",
       "    <tr>\n",
       "      <th>196</th>\n",
       "      <td>16</td>\n",
       "      <td>0</td>\n",
       "      <td>0</td>\n",
       "      <td>1</td>\n",
       "      <td>0.743021</td>\n",
       "      <td>0.061886</td>\n",
       "      <td>drugC</td>\n",
       "    </tr>\n",
       "    <tr>\n",
       "      <th>197</th>\n",
       "      <td>52</td>\n",
       "      <td>0</td>\n",
       "      <td>1</td>\n",
       "      <td>1</td>\n",
       "      <td>0.549945</td>\n",
       "      <td>0.055581</td>\n",
       "      <td>drugX</td>\n",
       "    </tr>\n",
       "    <tr>\n",
       "      <th>198</th>\n",
       "      <td>23</td>\n",
       "      <td>0</td>\n",
       "      <td>1</td>\n",
       "      <td>0</td>\n",
       "      <td>0.784520</td>\n",
       "      <td>0.055959</td>\n",
       "      <td>drugX</td>\n",
       "    </tr>\n",
       "    <tr>\n",
       "      <th>199</th>\n",
       "      <td>40</td>\n",
       "      <td>1</td>\n",
       "      <td>0</td>\n",
       "      <td>0</td>\n",
       "      <td>0.683503</td>\n",
       "      <td>0.060226</td>\n",
       "      <td>drugX</td>\n",
       "    </tr>\n",
       "  </tbody>\n",
       "</table>\n",
       "<p>200 rows × 7 columns</p>\n",
       "</div>"
      ],
      "text/plain": [
       "     Age  Sex  BP  Cholesterol        Na         K   Drug\n",
       "0     23    1   2            1  0.792535  0.031258  drugY\n",
       "1     47    0   0            1  0.739309  0.056468  drugC\n",
       "2     47    0   0            1  0.697269  0.068944  drugC\n",
       "3     28    1   1            1  0.563682  0.072289  drugX\n",
       "4     61    1   0            1  0.559294  0.030998  drugY\n",
       "..   ...  ...  ..          ...       ...       ...    ...\n",
       "195   56    1   0            1  0.848774  0.073380  drugC\n",
       "196   16    0   0            1  0.743021  0.061886  drugC\n",
       "197   52    0   1            1  0.549945  0.055581  drugX\n",
       "198   23    0   1            0  0.784520  0.055959  drugX\n",
       "199   40    1   0            0  0.683503  0.060226  drugX\n",
       "\n",
       "[200 rows x 7 columns]"
      ]
     },
     "execution_count": 12,
     "metadata": {},
     "output_type": "execute_result"
    }
   ],
   "source": [
    "# Leer el archivo\n",
    "datos = pd.read_csv(DATOS_DIR + \"Drug5.csv\")\n",
    "nColum = list(datos.columns.values)\n",
    "\n",
    "#-- ordinales a numericos ---\n",
    "mapeo = {'Sex': {'F':1, 'M':0},\n",
    "          'BP':{'HIGH':2, 'NORMAL':1, 'LOW':0},\n",
    "          'Cholesterol':{'NORMAL':0, 'HIGH':1}}\n",
    "\n",
    "datos.replace(mapeo, inplace=True)\n",
    "datos"
   ]
  },
  {
   "cell_type": "code",
   "execution_count": 13,
   "id": "b6b4b05f",
   "metadata": {},
   "outputs": [],
   "source": [
    "#--- DATOS DE ENTRENAMIENTO ---\n",
    "X = np.array(datos.iloc[:,:-1])\n",
    "T = np.array((datos['Drug'] == 'drugY') * 1)\n",
    "nColum = ['Otra', 'drugY']\n",
    "\n",
    "#--- CONJUNTOS DE ENTRENAMIENTO Y TESTEO ---\n",
    "X_train, X_test, T_train, T_test = model_selection.train_test_split(\n",
    "        X, T, test_size=0.30, random_state=42)\n",
    "\n",
    "normalizarEntrada = 1  # 1 si normaliza; 0 si no\n",
    "if normalizarEntrada:\n",
    "    #--- Normalización lineal entre 0 y 1 ---\n",
    "    normalizador = preprocessing.MinMaxScaler()\n",
    "\n",
    "    # Normaliza utilizando la media y el desvio\n",
    "    # normalizador= preprocessing.StandardScaler()\n",
    "    \n",
    "    X_train = normalizador.fit_transform(X_train)\n",
    "    X_test  = normalizador.transform(X_test)"
   ]
  },
  {
   "cell_type": "code",
   "execution_count": 47,
   "id": "4626dfc3",
   "metadata": {},
   "outputs": [
    {
     "data": {
      "image/png": "[encoded data removed]",
      "text/plain": [
       "<Figure size 640x480 with 1 Axes>"
      ]
     },
     "metadata": {},
     "output_type": "display_data"
    }
   ],
   "source": [
    "ppn = Perceptron(alpha=0.01, n_iter=650, random_state=None)\n",
    "ppn.fit(X_train, T_train)\n",
    "\n",
    "plt.plot(range(1, len(ppn.errors_) + 1), ppn.errors_, marker='o')\n",
    "plt.xlabel('Iteraciones')\n",
    "plt.ylabel('Cantidad de actualizaciones')\n",
    "plt.show()"
   ]
  },
  {
   "cell_type": "code",
   "execution_count": 48,
   "id": "ef97d2be",
   "metadata": {},
   "outputs": [
    {
     "name": "stdout",
     "output_type": "stream",
     "text": [
      "aciertos =  60\n",
      "% de aciertos = 100.00 %\n"
     ]
    }
   ],
   "source": [
    "Y_test = ppn.predict(X_test)\n",
    "\n",
    "aciertos = sum(Y_test == T_test)\n",
    "print(\"aciertos = \", aciertos)\n",
    "\n",
    "nAciertos = sum(Y_test == T_test)\n",
    "print(\"%% de aciertos = %.2f %%\" % (100*nAciertos/X_test.shape[0]))\n"
   ]
  },
  {
   "cell_type": "code",
   "execution_count": 17,
   "id": "57b5e946",
   "metadata": {},
   "outputs": [
    {
     "data": {
      "text/plain": [
       "array([15.      ,  0.      ,  0.      ,  0.      ,  0.501956,  0.020022])"
      ]
     },
     "execution_count": 17,
     "metadata": {},
     "output_type": "execute_result"
    }
   ],
   "source": [
    "normalizador.data_min_"
   ]
  },
  {
   "cell_type": "code",
   "execution_count": 18,
   "id": "2539c403",
   "metadata": {},
   "outputs": [
    {
     "data": {
      "text/plain": [
       "array([74.      ,  1.      ,  2.      ,  1.      ,  0.896056,  0.078906])"
      ]
     },
     "execution_count": 18,
     "metadata": {},
     "output_type": "execute_result"
    }
   ],
   "source": [
    "normalizador.data_max_"
   ]
  },
  {
   "cell_type": "code",
   "execution_count": null,
   "id": "95315f31",
   "metadata": {},
   "outputs": [],
   "source": []
  }
 ],
 "metadata": {
  "kernelspec": {
   "display_name": "Python 3 (ipykernel)",
   "language": "python",
   "name": "python3"
  },
  "language_info": {
   "codemirror_mode": {
    "name": "ipython",
    "version": 3
   },
   "file_extension": ".py",
   "mimetype": "text/x-python",
   "name": "python",
   "nbconvert_exporter": "python",
   "pygments_lexer": "ipython3",
   "version": "3.12.1"
  }
 },
 "nbformat": 4,
 "nbformat_minor": 5
}
