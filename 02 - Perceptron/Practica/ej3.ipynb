{
 "cells": [
  {
   "cell_type": "code",
   "execution_count": 1,
   "metadata": {},
   "outputs": [
    {
     "data": {
      "text/html": [
       "<div>\n",
       "<style scoped>\n",
       "    .dataframe tbody tr th:only-of-type {\n",
       "        vertical-align: middle;\n",
       "    }\n",
       "\n",
       "    .dataframe tbody tr th {\n",
       "        vertical-align: top;\n",
       "    }\n",
       "\n",
       "    .dataframe thead th {\n",
       "        text-align: right;\n",
       "    }\n",
       "</style>\n",
       "<table border=\"1\" class=\"dataframe\">\n",
       "  <thead>\n",
       "    <tr style=\"text-align: right;\">\n",
       "      <th></th>\n",
       "      <th>EDAD</th>\n",
       "      <th>RIESGO</th>\n",
       "      <th>EXAMEN</th>\n",
       "    </tr>\n",
       "  </thead>\n",
       "  <tbody>\n",
       "    <tr>\n",
       "      <th>0</th>\n",
       "      <td>55</td>\n",
       "      <td>ALTO</td>\n",
       "      <td>SI</td>\n",
       "    </tr>\n",
       "    <tr>\n",
       "      <th>1</th>\n",
       "      <td>56</td>\n",
       "      <td>MEDIO</td>\n",
       "      <td>NO</td>\n",
       "    </tr>\n",
       "    <tr>\n",
       "      <th>2</th>\n",
       "      <td>58</td>\n",
       "      <td>MEDIO</td>\n",
       "      <td>SI</td>\n",
       "    </tr>\n",
       "    <tr>\n",
       "      <th>3</th>\n",
       "      <td>56</td>\n",
       "      <td>BAJO</td>\n",
       "      <td>NO</td>\n",
       "    </tr>\n",
       "    <tr>\n",
       "      <th>4</th>\n",
       "      <td>59</td>\n",
       "      <td>BAJO</td>\n",
       "      <td>NO</td>\n",
       "    </tr>\n",
       "    <tr>\n",
       "      <th>5</th>\n",
       "      <td>57</td>\n",
       "      <td>MEDIO</td>\n",
       "      <td>SI</td>\n",
       "    </tr>\n",
       "    <tr>\n",
       "      <th>6</th>\n",
       "      <td>60</td>\n",
       "      <td>BAJO</td>\n",
       "      <td>SI</td>\n",
       "    </tr>\n",
       "    <tr>\n",
       "      <th>7</th>\n",
       "      <td>53</td>\n",
       "      <td>ALTO</td>\n",
       "      <td>NO</td>\n",
       "    </tr>\n",
       "    <tr>\n",
       "      <th>8</th>\n",
       "      <td>59</td>\n",
       "      <td>MEDIO</td>\n",
       "      <td>SI</td>\n",
       "    </tr>\n",
       "  </tbody>\n",
       "</table>\n",
       "</div>"
      ],
      "text/plain": [
       "   EDAD RIESGO EXAMEN\n",
       "0    55   ALTO     SI\n",
       "1    56  MEDIO     NO\n",
       "2    58  MEDIO     SI\n",
       "3    56   BAJO     NO\n",
       "4    59   BAJO     NO\n",
       "5    57  MEDIO     SI\n",
       "6    60   BAJO     SI\n",
       "7    53   ALTO     NO\n",
       "8    59  MEDIO     SI"
      ]
     },
     "metadata": {},
     "output_type": "display_data"
    }
   ],
   "source": [
    "import pandas as pd\n",
    "\n",
    "# Crear un diccionario con los datos\n",
    "data = {\n",
    "    'EDAD': [55, 56, 58, 56, 59, 57, 60, 53, 59],\n",
    "    'RIESGO': ['ALTO', 'MEDIO', 'MEDIO', 'BAJO', 'BAJO', 'MEDIO', 'BAJO', 'ALTO', 'MEDIO'],\n",
    "    'EXAMEN': ['SI', 'NO', 'SI', 'NO', 'NO', 'SI', 'SI', 'NO', 'SI']\n",
    "}\n",
    "\n",
    "# Convertir el diccionario en un DataFrame\n",
    "df = pd.DataFrame(data)\n",
    "\n",
    "# Mostrar el DataFrame\n",
    "display(df)\n"
   ]
  },
  {
   "cell_type": "markdown",
   "metadata": {},
   "source": [
    "### Numerizacion"
   ]
  },
  {
   "cell_type": "code",
   "execution_count": 3,
   "metadata": {},
   "outputs": [
    {
     "data": {
      "text/html": [
       "<div>\n",
       "<style scoped>\n",
       "    .dataframe tbody tr th:only-of-type {\n",
       "        vertical-align: middle;\n",
       "    }\n",
       "\n",
       "    .dataframe tbody tr th {\n",
       "        vertical-align: top;\n",
       "    }\n",
       "\n",
       "    .dataframe thead th {\n",
       "        text-align: right;\n",
       "    }\n",
       "</style>\n",
       "<table border=\"1\" class=\"dataframe\">\n",
       "  <thead>\n",
       "    <tr style=\"text-align: right;\">\n",
       "      <th></th>\n",
       "      <th>EDAD</th>\n",
       "      <th>RIESGO</th>\n",
       "      <th>EXAMEN</th>\n",
       "    </tr>\n",
       "  </thead>\n",
       "  <tbody>\n",
       "    <tr>\n",
       "      <th>0</th>\n",
       "      <td>55</td>\n",
       "      <td>3</td>\n",
       "      <td>SI</td>\n",
       "    </tr>\n",
       "    <tr>\n",
       "      <th>1</th>\n",
       "      <td>56</td>\n",
       "      <td>2</td>\n",
       "      <td>NO</td>\n",
       "    </tr>\n",
       "    <tr>\n",
       "      <th>2</th>\n",
       "      <td>58</td>\n",
       "      <td>2</td>\n",
       "      <td>SI</td>\n",
       "    </tr>\n",
       "    <tr>\n",
       "      <th>3</th>\n",
       "      <td>56</td>\n",
       "      <td>1</td>\n",
       "      <td>NO</td>\n",
       "    </tr>\n",
       "    <tr>\n",
       "      <th>4</th>\n",
       "      <td>59</td>\n",
       "      <td>1</td>\n",
       "      <td>NO</td>\n",
       "    </tr>\n",
       "    <tr>\n",
       "      <th>5</th>\n",
       "      <td>57</td>\n",
       "      <td>2</td>\n",
       "      <td>SI</td>\n",
       "    </tr>\n",
       "    <tr>\n",
       "      <th>6</th>\n",
       "      <td>60</td>\n",
       "      <td>1</td>\n",
       "      <td>SI</td>\n",
       "    </tr>\n",
       "    <tr>\n",
       "      <th>7</th>\n",
       "      <td>53</td>\n",
       "      <td>3</td>\n",
       "      <td>NO</td>\n",
       "    </tr>\n",
       "    <tr>\n",
       "      <th>8</th>\n",
       "      <td>59</td>\n",
       "      <td>2</td>\n",
       "      <td>SI</td>\n",
       "    </tr>\n",
       "  </tbody>\n",
       "</table>\n",
       "</div>"
      ],
      "text/plain": [
       "   EDAD  RIESGO EXAMEN\n",
       "0    55       3     SI\n",
       "1    56       2     NO\n",
       "2    58       2     SI\n",
       "3    56       1     NO\n",
       "4    59       1     NO\n",
       "5    57       2     SI\n",
       "6    60       1     SI\n",
       "7    53       3     NO\n",
       "8    59       2     SI"
      ]
     },
     "metadata": {},
     "output_type": "display_data"
    }
   ],
   "source": [
    "mapeo = {\n",
    "    \"RIESGO\": {'BAJO': 1, 'MEDIO': 2, 'ALTO': 3}\n",
    "}\n",
    "\n",
    "df.replace(mapeo, inplace=True)\n",
    "display(df)"
   ]
  },
  {
   "cell_type": "markdown",
   "metadata": {},
   "source": [
    "### **Calculo correlacion lineal**"
   ]
  },
  {
   "cell_type": "code",
   "execution_count": 4,
   "metadata": {},
   "outputs": [
    {
     "name": "stdout",
     "output_type": "stream",
     "text": [
      "-0.7150969419341943\n"
     ]
    }
   ],
   "source": [
    "correlacion = df['EDAD'].corr(df['RIESGO'])\n",
    "print(correlacion)"
   ]
  },
  {
   "cell_type": "markdown",
   "metadata": {},
   "source": [
    "### a) Interpretación del coeficiente de correlación lineal entre los atributos EDAD y RIESGO:\n",
    "\n",
    "El coeficiente de correlación lineal obtenido es **-0.71**. Esto se interpreta de la siguiente manera:\n",
    "\n",
    "1. **Dirección de la correlación**:\n",
    "   - El signo negativo (-) indica que hay una **correlación negativa** entre los atributos EDAD y RIESGO. Esto significa que, en general, a medida que aumenta la EDAD, el RIESGO tiende a disminuir, y viceversa.\n",
    "\n",
    "2. **Intensidad de la correlación**:\n",
    "   - El valor absoluto de 0.71 está en el rango de 0.7 a 1, lo que indica que la correlación es **fuerte**. Es decir, la relación inversa entre la EDAD y el RIESGO es significativa.\n",
    "\n",
    "En resumen, **-0.71** indica que existe una fuerte relación inversa entre la edad de los pacientes y su nivel de riesgo. A medida que la edad aumenta, el riesgo tiende a disminuir, según los datos numerizados.\n",
    "\n"
   ]
  },
  {
   "cell_type": "markdown",
   "metadata": {},
   "source": [
    "### **Normalizo**"
   ]
  },
  {
   "cell_type": "code",
   "execution_count": 5,
   "metadata": {},
   "outputs": [
    {
     "data": {
      "text/html": [
       "<div>\n",
       "<style scoped>\n",
       "    .dataframe tbody tr th:only-of-type {\n",
       "        vertical-align: middle;\n",
       "    }\n",
       "\n",
       "    .dataframe tbody tr th {\n",
       "        vertical-align: top;\n",
       "    }\n",
       "\n",
       "    .dataframe thead th {\n",
       "        text-align: right;\n",
       "    }\n",
       "</style>\n",
       "<table border=\"1\" class=\"dataframe\">\n",
       "  <thead>\n",
       "    <tr style=\"text-align: right;\">\n",
       "      <th></th>\n",
       "      <th>EDAD</th>\n",
       "      <th>RIESGO</th>\n",
       "      <th>EXAMEN</th>\n",
       "    </tr>\n",
       "  </thead>\n",
       "  <tbody>\n",
       "    <tr>\n",
       "      <th>0</th>\n",
       "      <td>0.285714</td>\n",
       "      <td>1.0</td>\n",
       "      <td>SI</td>\n",
       "    </tr>\n",
       "    <tr>\n",
       "      <th>1</th>\n",
       "      <td>0.428571</td>\n",
       "      <td>0.5</td>\n",
       "      <td>NO</td>\n",
       "    </tr>\n",
       "    <tr>\n",
       "      <th>2</th>\n",
       "      <td>0.714286</td>\n",
       "      <td>0.5</td>\n",
       "      <td>SI</td>\n",
       "    </tr>\n",
       "    <tr>\n",
       "      <th>3</th>\n",
       "      <td>0.428571</td>\n",
       "      <td>0.0</td>\n",
       "      <td>NO</td>\n",
       "    </tr>\n",
       "    <tr>\n",
       "      <th>4</th>\n",
       "      <td>0.857143</td>\n",
       "      <td>0.0</td>\n",
       "      <td>NO</td>\n",
       "    </tr>\n",
       "    <tr>\n",
       "      <th>5</th>\n",
       "      <td>0.571429</td>\n",
       "      <td>0.5</td>\n",
       "      <td>SI</td>\n",
       "    </tr>\n",
       "    <tr>\n",
       "      <th>6</th>\n",
       "      <td>1.000000</td>\n",
       "      <td>0.0</td>\n",
       "      <td>SI</td>\n",
       "    </tr>\n",
       "    <tr>\n",
       "      <th>7</th>\n",
       "      <td>0.000000</td>\n",
       "      <td>1.0</td>\n",
       "      <td>NO</td>\n",
       "    </tr>\n",
       "    <tr>\n",
       "      <th>8</th>\n",
       "      <td>0.857143</td>\n",
       "      <td>0.5</td>\n",
       "      <td>SI</td>\n",
       "    </tr>\n",
       "  </tbody>\n",
       "</table>\n",
       "</div>"
      ],
      "text/plain": [
       "       EDAD  RIESGO EXAMEN\n",
       "0  0.285714     1.0     SI\n",
       "1  0.428571     0.5     NO\n",
       "2  0.714286     0.5     SI\n",
       "3  0.428571     0.0     NO\n",
       "4  0.857143     0.0     NO\n",
       "5  0.571429     0.5     SI\n",
       "6  1.000000     0.0     SI\n",
       "7  0.000000     1.0     NO\n",
       "8  0.857143     0.5     SI"
      ]
     },
     "metadata": {},
     "output_type": "display_data"
    }
   ],
   "source": [
    "df_normalizado = df.copy()\n",
    "df_normalizado['EDAD'] = (df['EDAD'] - df['EDAD'].min()) / (df['EDAD'].max() - df['EDAD'].min())\n",
    "df_normalizado['RIESGO'] = (df['RIESGO'] - df['RIESGO'].min()) / (df['RIESGO'].max() - df['RIESGO'].min())\n",
    "display(df_normalizado)"
   ]
  },
  {
   "cell_type": "markdown",
   "metadata": {},
   "source": [
    "### **Pesos**"
   ]
  },
  {
   "cell_type": "code",
   "execution_count": 6,
   "metadata": {},
   "outputs": [],
   "source": [
    "weight = [0.0807, 0.074, -0.0742]"
   ]
  },
  {
   "cell_type": "markdown",
   "metadata": {},
   "source": [
    "### **Test Perceptron**"
   ]
  },
  {
   "cell_type": "code",
   "execution_count": 7,
   "metadata": {},
   "outputs": [
    {
     "name": "stdout",
     "output_type": "stream",
     "text": [
      "0\n",
      "1\n",
      "1\n",
      "\n"
     ]
    }
   ],
   "source": [
    "def formula(edad, riesgo, weight):\n",
    "    edad_normalizada = (edad - df['EDAD'].min()) / (df['EDAD'].max() - df['EDAD'].min())\n",
    "    return (edad_normalizada*weight[0] + riesgo*weight[1] + weight[2])\n",
    "\n",
    "y_1 = (formula(50,1,weight) > 0)*1\n",
    "y_2 = (formula(51,2,weight) > 0)*1\n",
    "y_3 = (formula(54,3,weight) > 0)*1\n",
    "\n",
    "print(f\"{y_1}\\n{y_2}\\n{y_3}\\n\")"
   ]
  },
  {
   "cell_type": "markdown",
   "metadata": {},
   "source": [
    "### **Cuestionario**"
   ]
  },
  {
   "cell_type": "code",
   "execution_count": 8,
   "metadata": {},
   "outputs": [
    {
     "name": "stderr",
     "output_type": "stream",
     "text": [
      "C:\\Users\\Peter\\AppData\\Local\\Temp\\ipykernel_22044\\3294634165.py:11: FutureWarning: Downcasting behavior in `replace` is deprecated and will be removed in a future version. To retain the old behavior, explicitly call `result.infer_objects(copy=False)`. To opt-in to the future behavior, set `pd.set_option('future.no_silent_downcasting', True)`\n",
      "  df_copy.replace(mapeo_copy, inplace=True)\n"
     ]
    },
    {
     "data": {
      "image/png": "[encoded data removed]",
      "text/plain": [
       "<Figure size 640x480 with 1 Axes>"
      ]
     },
     "metadata": {},
     "output_type": "display_data"
    },
    {
     "data": {
      "text/plain": [
       "1"
      ]
     },
     "execution_count": 8,
     "metadata": {},
     "output_type": "execute_result"
    },
    {
     "ename": "",
     "evalue": "",
     "output_type": "error",
     "traceback": [
      "\u001b[1;31mThe Kernel crashed while executing code in the current cell or a previous cell. \n",
      "\u001b[1;31mPlease review the code in the cell(s) to identify a possible cause of the failure. \n",
      "\u001b[1;31mClick <a href='https://aka.ms/vscodeJupyterKernelCrash'>here</a> for more info. \n",
      "\u001b[1;31mView Jupyter <a href='command:jupyter.viewOutput'>log</a> for further details."
     ]
    }
   ],
   "source": [
    "import matplotlib.pyplot as plt\n",
    "import numpy as np\n",
    "\n",
    "weights = [0.0807, 0.074, -0.0742]\n",
    "\n",
    "\n",
    "df_copy = df_normalizado.copy()\n",
    "mapeo_copy = {\n",
    "    'EXAMEN': {'SI':1, 'NO':0}\n",
    "}\n",
    "df_copy.replace(mapeo_copy, inplace=True)\n",
    "\n",
    "T = df_copy['EXAMEN']\n",
    "\n",
    "errores = []    \n",
    "for fila in range(len(df_copy)):\n",
    "    # Obtener los valores de entrada de la fila\n",
    "    fila_data = df_copy.iloc[fila]\n",
    "    real = T.iloc[fila]\n",
    "        \n",
    "    # Calcular la salida del perceptrón\n",
    "    y = (fila_data['EDAD'] * weights[0]) + \\\n",
    "        (fila_data['RIESGO'] * weights[1]) + \\\n",
    "        weights[2]\n",
    "\n",
    "    # Calcular la salida binaria (1 si y >= 0, de lo contrario 0)\n",
    "    salida = 1 if y >= 0 else 0\n",
    "\n",
    "    # Verificar si la clasificación es correcta\n",
    "    if salida != real:\n",
    "        errores.append(1)\n",
    "    else:\n",
    "        errores.append(0)\n",
    "    \n",
    "# Graficar los errores\n",
    "plt.figure()\n",
    "plt.plot(range(len(errores)), errores, marker='o')\n",
    "plt.title(f'Errores del percptron')\n",
    "plt.xlabel('Número de ejemplo')\n",
    "plt.ylabel('Error')\n",
    "\n",
    "plt.xticks(ticks=range(len(errores)))\n",
    "plt.yticks(ticks=[0,1])\n",
    "plt.show()\n",
    "\n",
    "y_cuestionario = (formula(55,2,weights) > 0)*1\n",
    "y_cuestionario"
   ]
  }
 ],
 "metadata": {
  "kernelspec": {
   "display_name": "Python 3",
   "language": "python",
   "name": "python3"
  },
  "language_info": {
   "codemirror_mode": {
    "name": "ipython",
    "version": 3
   },
   "file_extension": ".py",
   "mimetype": "text/x-python",
   "name": "python",
   "nbconvert_exporter": "python",
   "pygments_lexer": "ipython3",
   "version": "3.12.1"
  }
 },
 "nbformat": 4,
 "nbformat_minor": 2
}
