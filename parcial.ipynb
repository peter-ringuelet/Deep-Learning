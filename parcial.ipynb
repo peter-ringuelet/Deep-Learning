{
 "cells": [
  {
   "attachments": {},
   "cell_type": "markdown",
   "metadata": {},
   "source": [
    "### **outpu_shape = (N + 2P - K)/S -1**\n",
    "### (outpu_shape, output_shape, cant_filtros)\n",
    "N: tamanio dim entrada\n",
    "\n",
    "P: padding\n",
    "\n",
    "K: kernell size\n",
    "\n",
    "S: stride"
   ]
  },
  {
   "attachments": {},
   "cell_type": "markdown",
   "metadata": {},
   "source": [
    "### **cant_parametros = Nf x K x K x Nc + Nf**\n",
    "Nf: cant filtros\n",
    "\n",
    "K: tamanio kernell\n",
    "\n",
    "Nc: numero canales de entrada"
   ]
  }
 ],
 "metadata": {
  "language_info": {
   "name": "python"
  },
  "orig_nbformat": 4
 },
 "nbformat": 4,
 "nbformat_minor": 2
}
